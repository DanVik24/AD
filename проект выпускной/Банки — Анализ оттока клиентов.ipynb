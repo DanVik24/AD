{
 "cells": [
  {
   "cell_type": "markdown",
   "id": "191289d0",
   "metadata": {},
   "source": [
    "# Банки — Анализ оттока клиентов"
   ]
  },
  {
   "cell_type": "markdown",
   "id": "a3818611",
   "metadata": {},
   "source": [
    "### Материалы\n",
    "- Презентация - https://disk.yandex.ru/i/p_fsHIX6hCsiRA\n",
    "- Дашборд - https://public.tableau.com/app/profile/.50292487/viz/-_16778280250670/Dashboard1"
   ]
  },
  {
   "cell_type": "markdown",
   "id": "bbaec713",
   "metadata": {},
   "source": [
    "### Цель:\n",
    "\n",
    "- Проанализировать клиентов регионального банка и выделить сегменты клиентов, которые склонны уходить из банка."
   ]
  },
  {
   "cell_type": "markdown",
   "id": "bcfbea43",
   "metadata": {},
   "source": [
    "### Задачи:\n",
    "\n",
    "- Провести исследовательский анализ данных,\n",
    "- Выделить портреты клиентов, которые склонны уходить из банка,\n",
    "- Сформулировать и проверить статистические гипотезы.\n",
    "    \n",
    "    *Проверим гипотезу различия дохода между теми клиентами, которые ушли и теми, которые остались.*\n",
    "    \n",
    "    *Проверим гипотезу различия кредитного скоринга между теми клиентами, которые ушли и теми, которые остались.*"
   ]
  },
  {
   "cell_type": "markdown",
   "id": "0dff0d2f",
   "metadata": {},
   "source": [
    "### Декомпозиция\n",
    "- 1 Шаг. Изучение общей информации данных.\n",
    "- 2 Шаг. Предобработка данных.\n",
    "        2.1 Проверка корректности типов данных.\n",
    "        2.2 Проверка на дубликаты.\n",
    "        2.3 Проверка на пропуски.\n",
    "- 3 Шаг. Исследовательский анализ.\n",
    "        3.1 Визуализация признаков.\n",
    "        3.2 Сравнение по признакам.\n",
    "        3.3 Добавление столбцов для исследования.\n",
    "        3.4 Матрица корреляции.\n",
    "- 4 Шаг. Сегментация пользователя каждого города.\n",
    "- 5 Шаг. Проверка статистических гипотез.\n",
    "- 6 Шаг. Выводы. Рекомендации."
   ]
  },
  {
   "cell_type": "markdown",
   "id": "33d6f541",
   "metadata": {},
   "source": [
    "## 1 Шаг. Изучение общей информации данных."
   ]
  },
  {
   "cell_type": "markdown",
   "id": "188689f2",
   "metadata": {},
   "source": [
    "### Описание датасетов\n",
    "\n",
    "Датасет содержит данные о клиентах банка «Метанпром». Банк располагается в Ярославле и областных городах: Ростов Великий и Рыбинск.\n",
    "\n",
    "Колонки:\n",
    "\n",
    "- `USERID` — идентификатор пользователя,\n",
    "- `score` — баллы кредитного скоринга,\n",
    "- `city` — город,\n",
    "- `gender` — пол,\n",
    "- `age` — возраст,\n",
    "- `equity` — приблизительная оценка собственности клиента,\n",
    "- `balance` — баланс на счёте,\n",
    "- `products` — количество продуктов, которыми пользуется клиент,\n",
    "- `credit_card` — есть ли кредитная карта (0 - нет, 1 - есть),\n",
    "- `last_activity` — активный клиент (0 - не активный, 1 - активный),\n",
    "- `EST_SALARY` — заработная плата клиента,\n",
    "- `churn` — ушёл или нет (0 - остался, 1 - ушёл)."
   ]
  },
  {
   "cell_type": "code",
   "execution_count": 1,
   "id": "fd3cfbbf",
   "metadata": {},
   "outputs": [
    {
     "name": "stdout",
     "output_type": "stream",
     "text": [
      "Requirement already satisfied: bokeh in c:\\users\\admin\\anaconda3\\lib\\site-packages (2.4.2)\n",
      "Requirement already satisfied: packaging>=16.8 in c:\\users\\admin\\anaconda3\\lib\\site-packages (from bokeh) (21.3)\n",
      "Requirement already satisfied: Jinja2>=2.9 in c:\\users\\admin\\anaconda3\\lib\\site-packages (from bokeh) (2.11.3)\n",
      "Requirement already satisfied: pillow>=7.1.0 in c:\\users\\admin\\anaconda3\\lib\\site-packages (from bokeh) (9.0.1)\n",
      "Requirement already satisfied: typing-extensions>=3.10.0 in c:\\users\\admin\\anaconda3\\lib\\site-packages (from bokeh) (4.1.1)\n",
      "Requirement already satisfied: numpy>=1.11.3 in c:\\users\\admin\\anaconda3\\lib\\site-packages (from bokeh) (1.21.5)\n",
      "Requirement already satisfied: tornado>=5.1 in c:\\users\\admin\\anaconda3\\lib\\site-packages (from bokeh) (6.1)\n",
      "Requirement already satisfied: PyYAML>=3.10 in c:\\users\\admin\\anaconda3\\lib\\site-packages (from bokeh) (6.0)\n",
      "Requirement already satisfied: MarkupSafe>=0.23 in c:\\users\\admin\\anaconda3\\lib\\site-packages (from Jinja2>=2.9->bokeh) (2.0.1)\n",
      "Requirement already satisfied: pyparsing!=3.0.5,>=2.0.2 in c:\\users\\admin\\anaconda3\\lib\\site-packages (from packaging>=16.8->bokeh) (3.0.4)\n",
      "Requirement already satisfied: folium in c:\\users\\admin\\anaconda3\\lib\\site-packages (0.14.0)\n",
      "Requirement already satisfied: numpy in c:\\users\\admin\\anaconda3\\lib\\site-packages (from folium) (1.21.5)\n",
      "Requirement already satisfied: requests in c:\\users\\admin\\anaconda3\\lib\\site-packages (from folium) (2.27.1)\n",
      "Requirement already satisfied: branca>=0.6.0 in c:\\users\\admin\\anaconda3\\lib\\site-packages (from folium) (0.6.0)\n",
      "Requirement already satisfied: jinja2>=2.9 in c:\\users\\admin\\anaconda3\\lib\\site-packages (from folium) (2.11.3)\n",
      "Requirement already satisfied: MarkupSafe>=0.23 in c:\\users\\admin\\anaconda3\\lib\\site-packages (from jinja2>=2.9->folium) (2.0.1)\n",
      "Requirement already satisfied: charset-normalizer~=2.0.0 in c:\\users\\admin\\anaconda3\\lib\\site-packages (from requests->folium) (2.0.4)\n",
      "Requirement already satisfied: idna<4,>=2.5 in c:\\users\\admin\\anaconda3\\lib\\site-packages (from requests->folium) (3.3)\n",
      "Requirement already satisfied: urllib3<1.27,>=1.21.1 in c:\\users\\admin\\anaconda3\\lib\\site-packages (from requests->folium) (1.26.9)\n",
      "Requirement already satisfied: certifi>=2017.4.17 in c:\\users\\admin\\anaconda3\\lib\\site-packages (from requests->folium) (2021.10.8)\n",
      "Requirement already satisfied: psycopg2 in c:\\users\\admin\\anaconda3\\lib\\site-packages (2.9.5)\n",
      "Requirement already satisfied: plotly in c:\\users\\admin\\anaconda3\\lib\\site-packages (5.6.0)\n",
      "Requirement already satisfied: tenacity>=6.2.0 in c:\\users\\admin\\anaconda3\\lib\\site-packages (from plotly) (8.0.1)\n",
      "Requirement already satisfied: six in c:\\users\\admin\\anaconda3\\lib\\site-packages (from plotly) (1.16.0)\n"
     ]
    }
   ],
   "source": [
    "# установка библиотек\n",
    "!pip install bokeh\n",
    "!pip install folium\n",
    "!pip install psycopg2\n",
    "!pip install plotly"
   ]
  },
  {
   "cell_type": "code",
   "execution_count": 2,
   "id": "ac504eb3",
   "metadata": {},
   "outputs": [],
   "source": [
    "# Импортирт библиотек\n",
    "import pandas as pd\n",
    "import datetime as dt\n",
    "import numpy as np\n",
    "import matplotlib.pyplot as plt\n",
    "import plotly\n",
    "import plotly.graph_objs as go\n",
    "import plotly.express as px\n",
    "from plotly.subplots import make_subplots\n",
    "import seaborn as sns\n",
    "from scipy import stats as st\n",
    "import math as mth"
   ]
  },
  {
   "cell_type": "code",
   "execution_count": 3,
   "id": "58383481",
   "metadata": {},
   "outputs": [
    {
     "data": {
      "text/html": [
       "<div>\n",
       "<style scoped>\n",
       "    .dataframe tbody tr th:only-of-type {\n",
       "        vertical-align: middle;\n",
       "    }\n",
       "\n",
       "    .dataframe tbody tr th {\n",
       "        vertical-align: top;\n",
       "    }\n",
       "\n",
       "    .dataframe thead th {\n",
       "        text-align: right;\n",
       "    }\n",
       "</style>\n",
       "<table border=\"1\" class=\"dataframe\">\n",
       "  <thead>\n",
       "    <tr style=\"text-align: right;\">\n",
       "      <th></th>\n",
       "      <th>USERID</th>\n",
       "      <th>score</th>\n",
       "      <th>city</th>\n",
       "      <th>gender</th>\n",
       "      <th>age</th>\n",
       "      <th>equity</th>\n",
       "      <th>balance</th>\n",
       "      <th>products</th>\n",
       "      <th>credit_card</th>\n",
       "      <th>last_activity</th>\n",
       "      <th>EST_SALARY</th>\n",
       "      <th>churn</th>\n",
       "    </tr>\n",
       "  </thead>\n",
       "  <tbody>\n",
       "    <tr>\n",
       "      <th>0</th>\n",
       "      <td>183012</td>\n",
       "      <td>850.0</td>\n",
       "      <td>Рыбинск</td>\n",
       "      <td>Ж</td>\n",
       "      <td>25</td>\n",
       "      <td>1</td>\n",
       "      <td>59214.82</td>\n",
       "      <td>2</td>\n",
       "      <td>0</td>\n",
       "      <td>1</td>\n",
       "      <td>75719.14</td>\n",
       "      <td>1</td>\n",
       "    </tr>\n",
       "    <tr>\n",
       "      <th>1</th>\n",
       "      <td>146556</td>\n",
       "      <td>861.0</td>\n",
       "      <td>Рыбинск</td>\n",
       "      <td>Ж</td>\n",
       "      <td>37</td>\n",
       "      <td>5</td>\n",
       "      <td>850594.33</td>\n",
       "      <td>3</td>\n",
       "      <td>1</td>\n",
       "      <td>0</td>\n",
       "      <td>86621.77</td>\n",
       "      <td>0</td>\n",
       "    </tr>\n",
       "    <tr>\n",
       "      <th>2</th>\n",
       "      <td>120722</td>\n",
       "      <td>892.0</td>\n",
       "      <td>Рыбинск</td>\n",
       "      <td>Ж</td>\n",
       "      <td>30</td>\n",
       "      <td>0</td>\n",
       "      <td>NaN</td>\n",
       "      <td>1</td>\n",
       "      <td>1</td>\n",
       "      <td>1</td>\n",
       "      <td>107683.34</td>\n",
       "      <td>0</td>\n",
       "    </tr>\n",
       "    <tr>\n",
       "      <th>3</th>\n",
       "      <td>225363</td>\n",
       "      <td>866.0</td>\n",
       "      <td>Ярославль</td>\n",
       "      <td>Ж</td>\n",
       "      <td>51</td>\n",
       "      <td>5</td>\n",
       "      <td>1524746.26</td>\n",
       "      <td>2</td>\n",
       "      <td>0</td>\n",
       "      <td>1</td>\n",
       "      <td>174423.53</td>\n",
       "      <td>1</td>\n",
       "    </tr>\n",
       "    <tr>\n",
       "      <th>4</th>\n",
       "      <td>157978</td>\n",
       "      <td>730.0</td>\n",
       "      <td>Ярославль</td>\n",
       "      <td>М</td>\n",
       "      <td>34</td>\n",
       "      <td>5</td>\n",
       "      <td>174.00</td>\n",
       "      <td>1</td>\n",
       "      <td>1</td>\n",
       "      <td>0</td>\n",
       "      <td>67353.16</td>\n",
       "      <td>1</td>\n",
       "    </tr>\n",
       "  </tbody>\n",
       "</table>\n",
       "</div>"
      ],
      "text/plain": [
       "   USERID  score       city gender  age  equity     balance  products  \\\n",
       "0  183012  850.0    Рыбинск      Ж   25       1    59214.82         2   \n",
       "1  146556  861.0    Рыбинск      Ж   37       5   850594.33         3   \n",
       "2  120722  892.0    Рыбинск      Ж   30       0         NaN         1   \n",
       "3  225363  866.0  Ярославль      Ж   51       5  1524746.26         2   \n",
       "4  157978  730.0  Ярославль      М   34       5      174.00         1   \n",
       "\n",
       "   credit_card  last_activity  EST_SALARY  churn  \n",
       "0            0              1    75719.14      1  \n",
       "1            1              0    86621.77      0  \n",
       "2            1              1   107683.34      0  \n",
       "3            0              1   174423.53      1  \n",
       "4            1              0    67353.16      1  "
      ]
     },
     "metadata": {},
     "output_type": "display_data"
    },
    {
     "name": "stdout",
     "output_type": "stream",
     "text": [
      "<class 'pandas.core.frame.DataFrame'>\n",
      "RangeIndex: 10000 entries, 0 to 9999\n",
      "Data columns (total 12 columns):\n",
      " #   Column         Non-Null Count  Dtype  \n",
      "---  ------         --------------  -----  \n",
      " 0   USERID         10000 non-null  int64  \n",
      " 1   score          10000 non-null  float64\n",
      " 2   city           10000 non-null  object \n",
      " 3   gender         10000 non-null  object \n",
      " 4   age            10000 non-null  int64  \n",
      " 5   equity         10000 non-null  int64  \n",
      " 6   balance        7705 non-null   float64\n",
      " 7   products       10000 non-null  int64  \n",
      " 8   credit_card    10000 non-null  int64  \n",
      " 9   last_activity  10000 non-null  int64  \n",
      " 10  EST_SALARY     10000 non-null  float64\n",
      " 11  churn          10000 non-null  int64  \n",
      "dtypes: float64(3), int64(7), object(2)\n",
      "memory usage: 937.6+ KB\n"
     ]
    },
    {
     "data": {
      "text/plain": [
       "None"
      ]
     },
     "metadata": {},
     "output_type": "display_data"
    }
   ],
   "source": [
    "# Загружаем данные и смотрим основную информацию о датафрейме\n",
    "pd.set_option('display.max_colwidth', None)\n",
    "#data_old = pd.read_csv('C:/проект выпускной/bank_dataset.csv') #bank_scrooge.csv\n",
    "path = \"https://drive.google.com/uc?export=download&id=1-U61mhTz_N1ARjy2XSAZ7IlQqGjeqP0F\"\n",
    "data = pd.read_csv(path)\n",
    "display(data.head())\n",
    "display(data.info())"
   ]
  },
  {
   "cell_type": "markdown",
   "id": "691b8014",
   "metadata": {},
   "source": [
    "Данные состоят из 10000 строк записей, в которых имеются пропуски в столбце \"balance\". Типы данных соответствуют  показателям. Необходимо привести названия столбцов к нижнему регистру."
   ]
  },
  {
   "cell_type": "markdown",
   "id": "10f478e0",
   "metadata": {},
   "source": [
    "## 2 Шаг. Предобработка данных."
   ]
  },
  {
   "cell_type": "code",
   "execution_count": 4,
   "id": "9a15d773",
   "metadata": {},
   "outputs": [
    {
     "name": "stdout",
     "output_type": "stream",
     "text": [
      "Количество дубликатов: 1\n"
     ]
    }
   ],
   "source": [
    "# Проверяем на дубликаты \n",
    "print('Количество дубликатов:', data.duplicated().sum())"
   ]
  },
  {
   "cell_type": "code",
   "execution_count": 5,
   "id": "94be2492",
   "metadata": {},
   "outputs": [
    {
     "data": {
      "text/html": [
       "<div>\n",
       "<style scoped>\n",
       "    .dataframe tbody tr th:only-of-type {\n",
       "        vertical-align: middle;\n",
       "    }\n",
       "\n",
       "    .dataframe tbody tr th {\n",
       "        vertical-align: top;\n",
       "    }\n",
       "\n",
       "    .dataframe thead th {\n",
       "        text-align: right;\n",
       "    }\n",
       "</style>\n",
       "<table border=\"1\" class=\"dataframe\">\n",
       "  <thead>\n",
       "    <tr style=\"text-align: right;\">\n",
       "      <th></th>\n",
       "      <th>USERID</th>\n",
       "      <th>score</th>\n",
       "      <th>city</th>\n",
       "      <th>gender</th>\n",
       "      <th>age</th>\n",
       "      <th>equity</th>\n",
       "      <th>balance</th>\n",
       "      <th>products</th>\n",
       "      <th>credit_card</th>\n",
       "      <th>last_activity</th>\n",
       "      <th>EST_SALARY</th>\n",
       "      <th>churn</th>\n",
       "    </tr>\n",
       "  </thead>\n",
       "  <tbody>\n",
       "    <tr>\n",
       "      <th>4343</th>\n",
       "      <td>141945</td>\n",
       "      <td>929.0</td>\n",
       "      <td>Ярославль</td>\n",
       "      <td>М</td>\n",
       "      <td>33</td>\n",
       "      <td>0</td>\n",
       "      <td>NaN</td>\n",
       "      <td>1</td>\n",
       "      <td>1</td>\n",
       "      <td>0</td>\n",
       "      <td>381868.89</td>\n",
       "      <td>0</td>\n",
       "    </tr>\n",
       "  </tbody>\n",
       "</table>\n",
       "</div>"
      ],
      "text/plain": [
       "      USERID  score       city gender  age  equity  balance  products  \\\n",
       "4343  141945  929.0  Ярославль      М   33       0      NaN         1   \n",
       "\n",
       "      credit_card  last_activity  EST_SALARY  churn  \n",
       "4343            1              0   381868.89      0  "
      ]
     },
     "metadata": {},
     "output_type": "display_data"
    },
    {
     "data": {
      "text/html": [
       "<div>\n",
       "<style scoped>\n",
       "    .dataframe tbody tr th:only-of-type {\n",
       "        vertical-align: middle;\n",
       "    }\n",
       "\n",
       "    .dataframe tbody tr th {\n",
       "        vertical-align: top;\n",
       "    }\n",
       "\n",
       "    .dataframe thead th {\n",
       "        text-align: right;\n",
       "    }\n",
       "</style>\n",
       "<table border=\"1\" class=\"dataframe\">\n",
       "  <thead>\n",
       "    <tr style=\"text-align: right;\">\n",
       "      <th></th>\n",
       "      <th>USERID</th>\n",
       "      <th>score</th>\n",
       "      <th>city</th>\n",
       "      <th>gender</th>\n",
       "      <th>age</th>\n",
       "      <th>equity</th>\n",
       "      <th>balance</th>\n",
       "      <th>products</th>\n",
       "      <th>credit_card</th>\n",
       "      <th>last_activity</th>\n",
       "      <th>EST_SALARY</th>\n",
       "      <th>churn</th>\n",
       "    </tr>\n",
       "  </thead>\n",
       "  <tbody>\n",
       "    <tr>\n",
       "      <th>9457</th>\n",
       "      <td>141945</td>\n",
       "      <td>929.0</td>\n",
       "      <td>Ярославль</td>\n",
       "      <td>М</td>\n",
       "      <td>33</td>\n",
       "      <td>0</td>\n",
       "      <td>NaN</td>\n",
       "      <td>1</td>\n",
       "      <td>1</td>\n",
       "      <td>0</td>\n",
       "      <td>381868.89</td>\n",
       "      <td>0</td>\n",
       "    </tr>\n",
       "  </tbody>\n",
       "</table>\n",
       "</div>"
      ],
      "text/plain": [
       "      USERID  score       city gender  age  equity  balance  products  \\\n",
       "9457  141945  929.0  Ярославль      М   33       0      NaN         1   \n",
       "\n",
       "      credit_card  last_activity  EST_SALARY  churn  \n",
       "9457            1              0   381868.89      0  "
      ]
     },
     "metadata": {},
     "output_type": "display_data"
    }
   ],
   "source": [
    "#найдем строку с дубликатом\n",
    "dupl_rows = data[data.duplicated(keep='last')]\n",
    "dupl_rows1 = data[data.duplicated()]\n",
    "#просмотр повторяющихся строк\n",
    "display(dupl_rows)\n",
    "display(dupl_rows1)"
   ]
  },
  {
   "cell_type": "markdown",
   "id": "bdd1c9ad",
   "metadata": {},
   "source": [
    "Выявлено две строки с идентичными данными. Смотрим дальше."
   ]
  },
  {
   "cell_type": "raw",
   "id": "c2dd84d3",
   "metadata": {},
   "source": [
    "# удаление дубликатов\n",
    "data = data.drop_duplicates()"
   ]
  },
  {
   "cell_type": "code",
   "execution_count": 6,
   "id": "198ee63a",
   "metadata": {},
   "outputs": [
    {
     "name": "stdout",
     "output_type": "stream",
     "text": [
      "Количество дубликатов в столбце \"USERID\" : 73\n"
     ]
    }
   ],
   "source": [
    "# Проверяем на дубликаты \n",
    "print('Количество дубликатов в столбце \"USERID\" :', data['USERID'].duplicated().sum())"
   ]
  },
  {
   "cell_type": "markdown",
   "id": "cc87574f",
   "metadata": {},
   "source": [
    "Посмотрим на эти данные."
   ]
  },
  {
   "cell_type": "code",
   "execution_count": 7,
   "id": "740c4b2f",
   "metadata": {},
   "outputs": [
    {
     "data": {
      "text/html": [
       "<div>\n",
       "<style scoped>\n",
       "    .dataframe tbody tr th:only-of-type {\n",
       "        vertical-align: middle;\n",
       "    }\n",
       "\n",
       "    .dataframe tbody tr th {\n",
       "        vertical-align: top;\n",
       "    }\n",
       "\n",
       "    .dataframe thead th {\n",
       "        text-align: right;\n",
       "    }\n",
       "</style>\n",
       "<table border=\"1\" class=\"dataframe\">\n",
       "  <thead>\n",
       "    <tr style=\"text-align: right;\">\n",
       "      <th></th>\n",
       "      <th>USERID</th>\n",
       "      <th>score</th>\n",
       "      <th>city</th>\n",
       "      <th>gender</th>\n",
       "      <th>age</th>\n",
       "      <th>equity</th>\n",
       "      <th>balance</th>\n",
       "      <th>products</th>\n",
       "      <th>credit_card</th>\n",
       "      <th>last_activity</th>\n",
       "      <th>EST_SALARY</th>\n",
       "      <th>churn</th>\n",
       "    </tr>\n",
       "  </thead>\n",
       "  <tbody>\n",
       "    <tr>\n",
       "      <th>1247</th>\n",
       "      <td>228075</td>\n",
       "      <td>932.0</td>\n",
       "      <td>Ярославль</td>\n",
       "      <td>М</td>\n",
       "      <td>45</td>\n",
       "      <td>5</td>\n",
       "      <td>7601719.20</td>\n",
       "      <td>2</td>\n",
       "      <td>1</td>\n",
       "      <td>1</td>\n",
       "      <td>408121.16</td>\n",
       "      <td>0</td>\n",
       "    </tr>\n",
       "    <tr>\n",
       "      <th>8205</th>\n",
       "      <td>227795</td>\n",
       "      <td>840.0</td>\n",
       "      <td>Рыбинск</td>\n",
       "      <td>М</td>\n",
       "      <td>34</td>\n",
       "      <td>2</td>\n",
       "      <td>350768.03</td>\n",
       "      <td>1</td>\n",
       "      <td>1</td>\n",
       "      <td>0</td>\n",
       "      <td>102036.14</td>\n",
       "      <td>1</td>\n",
       "    </tr>\n",
       "    <tr>\n",
       "      <th>2597</th>\n",
       "      <td>226719</td>\n",
       "      <td>990.0</td>\n",
       "      <td>Ярославль</td>\n",
       "      <td>М</td>\n",
       "      <td>37</td>\n",
       "      <td>4</td>\n",
       "      <td>14648692.14</td>\n",
       "      <td>2</td>\n",
       "      <td>0</td>\n",
       "      <td>0</td>\n",
       "      <td>934412.61</td>\n",
       "      <td>1</td>\n",
       "    </tr>\n",
       "    <tr>\n",
       "      <th>6412</th>\n",
       "      <td>226550</td>\n",
       "      <td>939.0</td>\n",
       "      <td>Ярославль</td>\n",
       "      <td>М</td>\n",
       "      <td>34</td>\n",
       "      <td>0</td>\n",
       "      <td>NaN</td>\n",
       "      <td>1</td>\n",
       "      <td>1</td>\n",
       "      <td>1</td>\n",
       "      <td>145913.73</td>\n",
       "      <td>0</td>\n",
       "    </tr>\n",
       "    <tr>\n",
       "      <th>6446</th>\n",
       "      <td>222480</td>\n",
       "      <td>776.0</td>\n",
       "      <td>Ярославль</td>\n",
       "      <td>Ж</td>\n",
       "      <td>38</td>\n",
       "      <td>5</td>\n",
       "      <td>823145.83</td>\n",
       "      <td>2</td>\n",
       "      <td>1</td>\n",
       "      <td>1</td>\n",
       "      <td>55777.44</td>\n",
       "      <td>0</td>\n",
       "    </tr>\n",
       "    <tr>\n",
       "      <th>...</th>\n",
       "      <td>...</td>\n",
       "      <td>...</td>\n",
       "      <td>...</td>\n",
       "      <td>...</td>\n",
       "      <td>...</td>\n",
       "      <td>...</td>\n",
       "      <td>...</td>\n",
       "      <td>...</td>\n",
       "      <td>...</td>\n",
       "      <td>...</td>\n",
       "      <td>...</td>\n",
       "      <td>...</td>\n",
       "    </tr>\n",
       "    <tr>\n",
       "      <th>8164</th>\n",
       "      <td>124450</td>\n",
       "      <td>859.0</td>\n",
       "      <td>Ярославль</td>\n",
       "      <td>Ж</td>\n",
       "      <td>38</td>\n",
       "      <td>6</td>\n",
       "      <td>516811.20</td>\n",
       "      <td>1</td>\n",
       "      <td>1</td>\n",
       "      <td>1</td>\n",
       "      <td>95144.63</td>\n",
       "      <td>1</td>\n",
       "    </tr>\n",
       "    <tr>\n",
       "      <th>1411</th>\n",
       "      <td>123461</td>\n",
       "      <td>829.0</td>\n",
       "      <td>Рыбинск</td>\n",
       "      <td>Ж</td>\n",
       "      <td>59</td>\n",
       "      <td>0</td>\n",
       "      <td>96222.44</td>\n",
       "      <td>2</td>\n",
       "      <td>0</td>\n",
       "      <td>1</td>\n",
       "      <td>102771.55</td>\n",
       "      <td>1</td>\n",
       "    </tr>\n",
       "    <tr>\n",
       "      <th>5863</th>\n",
       "      <td>120258</td>\n",
       "      <td>908.0</td>\n",
       "      <td>Рыбинск</td>\n",
       "      <td>Ж</td>\n",
       "      <td>38</td>\n",
       "      <td>4</td>\n",
       "      <td>2213581.63</td>\n",
       "      <td>2</td>\n",
       "      <td>0</td>\n",
       "      <td>1</td>\n",
       "      <td>160327.77</td>\n",
       "      <td>1</td>\n",
       "    </tr>\n",
       "    <tr>\n",
       "      <th>4866</th>\n",
       "      <td>117943</td>\n",
       "      <td>855.0</td>\n",
       "      <td>Рыбинск</td>\n",
       "      <td>Ж</td>\n",
       "      <td>32</td>\n",
       "      <td>6</td>\n",
       "      <td>1036832.93</td>\n",
       "      <td>4</td>\n",
       "      <td>1</td>\n",
       "      <td>1</td>\n",
       "      <td>107792.71</td>\n",
       "      <td>1</td>\n",
       "    </tr>\n",
       "    <tr>\n",
       "      <th>1893</th>\n",
       "      <td>116540</td>\n",
       "      <td>883.0</td>\n",
       "      <td>Ярославль</td>\n",
       "      <td>Ж</td>\n",
       "      <td>55</td>\n",
       "      <td>1</td>\n",
       "      <td>362756.49</td>\n",
       "      <td>3</td>\n",
       "      <td>0</td>\n",
       "      <td>1</td>\n",
       "      <td>175920.48</td>\n",
       "      <td>1</td>\n",
       "    </tr>\n",
       "  </tbody>\n",
       "</table>\n",
       "<p>73 rows × 12 columns</p>\n",
       "</div>"
      ],
      "text/plain": [
       "      USERID  score       city gender  age  equity      balance  products  \\\n",
       "1247  228075  932.0  Ярославль      М   45       5   7601719.20         2   \n",
       "8205  227795  840.0    Рыбинск      М   34       2    350768.03         1   \n",
       "2597  226719  990.0  Ярославль      М   37       4  14648692.14         2   \n",
       "6412  226550  939.0  Ярославль      М   34       0          NaN         1   \n",
       "6446  222480  776.0  Ярославль      Ж   38       5    823145.83         2   \n",
       "...      ...    ...        ...    ...  ...     ...          ...       ...   \n",
       "8164  124450  859.0  Ярославль      Ж   38       6    516811.20         1   \n",
       "1411  123461  829.0    Рыбинск      Ж   59       0     96222.44         2   \n",
       "5863  120258  908.0    Рыбинск      Ж   38       4   2213581.63         2   \n",
       "4866  117943  855.0    Рыбинск      Ж   32       6   1036832.93         4   \n",
       "1893  116540  883.0  Ярославль      Ж   55       1    362756.49         3   \n",
       "\n",
       "      credit_card  last_activity  EST_SALARY  churn  \n",
       "1247            1              1   408121.16      0  \n",
       "8205            1              0   102036.14      1  \n",
       "2597            0              0   934412.61      1  \n",
       "6412            1              1   145913.73      0  \n",
       "6446            1              1    55777.44      0  \n",
       "...           ...            ...         ...    ...  \n",
       "8164            1              1    95144.63      1  \n",
       "1411            0              1   102771.55      1  \n",
       "5863            0              1   160327.77      1  \n",
       "4866            1              1   107792.71      1  \n",
       "1893            0              1   175920.48      1  \n",
       "\n",
       "[73 rows x 12 columns]"
      ]
     },
     "metadata": {},
     "output_type": "display_data"
    },
    {
     "data": {
      "text/html": [
       "<div>\n",
       "<style scoped>\n",
       "    .dataframe tbody tr th:only-of-type {\n",
       "        vertical-align: middle;\n",
       "    }\n",
       "\n",
       "    .dataframe tbody tr th {\n",
       "        vertical-align: top;\n",
       "    }\n",
       "\n",
       "    .dataframe thead th {\n",
       "        text-align: right;\n",
       "    }\n",
       "</style>\n",
       "<table border=\"1\" class=\"dataframe\">\n",
       "  <thead>\n",
       "    <tr style=\"text-align: right;\">\n",
       "      <th></th>\n",
       "      <th>USERID</th>\n",
       "      <th>score</th>\n",
       "      <th>city</th>\n",
       "      <th>gender</th>\n",
       "      <th>age</th>\n",
       "      <th>equity</th>\n",
       "      <th>balance</th>\n",
       "      <th>products</th>\n",
       "      <th>credit_card</th>\n",
       "      <th>last_activity</th>\n",
       "      <th>EST_SALARY</th>\n",
       "      <th>churn</th>\n",
       "    </tr>\n",
       "  </thead>\n",
       "  <tbody>\n",
       "    <tr>\n",
       "      <th>6457</th>\n",
       "      <td>228075</td>\n",
       "      <td>839.0</td>\n",
       "      <td>Ярославль</td>\n",
       "      <td>М</td>\n",
       "      <td>39</td>\n",
       "      <td>5</td>\n",
       "      <td>507199.85</td>\n",
       "      <td>3</td>\n",
       "      <td>0</td>\n",
       "      <td>1</td>\n",
       "      <td>85195.80</td>\n",
       "      <td>0</td>\n",
       "    </tr>\n",
       "    <tr>\n",
       "      <th>8497</th>\n",
       "      <td>227795</td>\n",
       "      <td>839.0</td>\n",
       "      <td>Рыбинск</td>\n",
       "      <td>М</td>\n",
       "      <td>34</td>\n",
       "      <td>2</td>\n",
       "      <td>326593.14</td>\n",
       "      <td>2</td>\n",
       "      <td>1</td>\n",
       "      <td>0</td>\n",
       "      <td>103314.92</td>\n",
       "      <td>0</td>\n",
       "    </tr>\n",
       "    <tr>\n",
       "      <th>4216</th>\n",
       "      <td>226719</td>\n",
       "      <td>903.0</td>\n",
       "      <td>Ярославль</td>\n",
       "      <td>Ж</td>\n",
       "      <td>63</td>\n",
       "      <td>0</td>\n",
       "      <td>NaN</td>\n",
       "      <td>1</td>\n",
       "      <td>1</td>\n",
       "      <td>0</td>\n",
       "      <td>138582.58</td>\n",
       "      <td>0</td>\n",
       "    </tr>\n",
       "    <tr>\n",
       "      <th>8070</th>\n",
       "      <td>226550</td>\n",
       "      <td>940.0</td>\n",
       "      <td>Ярославль</td>\n",
       "      <td>М</td>\n",
       "      <td>34</td>\n",
       "      <td>0</td>\n",
       "      <td>NaN</td>\n",
       "      <td>1</td>\n",
       "      <td>0</td>\n",
       "      <td>1</td>\n",
       "      <td>147696.95</td>\n",
       "      <td>0</td>\n",
       "    </tr>\n",
       "    <tr>\n",
       "      <th>9104</th>\n",
       "      <td>222480</td>\n",
       "      <td>776.0</td>\n",
       "      <td>Ярославль</td>\n",
       "      <td>Ж</td>\n",
       "      <td>38</td>\n",
       "      <td>5</td>\n",
       "      <td>796735.09</td>\n",
       "      <td>1</td>\n",
       "      <td>1</td>\n",
       "      <td>1</td>\n",
       "      <td>55073.63</td>\n",
       "      <td>0</td>\n",
       "    </tr>\n",
       "    <tr>\n",
       "      <th>...</th>\n",
       "      <td>...</td>\n",
       "      <td>...</td>\n",
       "      <td>...</td>\n",
       "      <td>...</td>\n",
       "      <td>...</td>\n",
       "      <td>...</td>\n",
       "      <td>...</td>\n",
       "      <td>...</td>\n",
       "      <td>...</td>\n",
       "      <td>...</td>\n",
       "      <td>...</td>\n",
       "      <td>...</td>\n",
       "    </tr>\n",
       "    <tr>\n",
       "      <th>9775</th>\n",
       "      <td>124450</td>\n",
       "      <td>758.0</td>\n",
       "      <td>Рыбинск</td>\n",
       "      <td>Ж</td>\n",
       "      <td>36</td>\n",
       "      <td>0</td>\n",
       "      <td>73574.07</td>\n",
       "      <td>2</td>\n",
       "      <td>0</td>\n",
       "      <td>1</td>\n",
       "      <td>79963.59</td>\n",
       "      <td>0</td>\n",
       "    </tr>\n",
       "    <tr>\n",
       "      <th>8638</th>\n",
       "      <td>123461</td>\n",
       "      <td>934.0</td>\n",
       "      <td>Рыбинск</td>\n",
       "      <td>М</td>\n",
       "      <td>34</td>\n",
       "      <td>0</td>\n",
       "      <td>NaN</td>\n",
       "      <td>2</td>\n",
       "      <td>1</td>\n",
       "      <td>0</td>\n",
       "      <td>291619.27</td>\n",
       "      <td>0</td>\n",
       "    </tr>\n",
       "    <tr>\n",
       "      <th>5896</th>\n",
       "      <td>120258</td>\n",
       "      <td>905.0</td>\n",
       "      <td>Ярославль</td>\n",
       "      <td>М</td>\n",
       "      <td>30</td>\n",
       "      <td>0</td>\n",
       "      <td>NaN</td>\n",
       "      <td>1</td>\n",
       "      <td>1</td>\n",
       "      <td>1</td>\n",
       "      <td>146427.96</td>\n",
       "      <td>0</td>\n",
       "    </tr>\n",
       "    <tr>\n",
       "      <th>7542</th>\n",
       "      <td>117943</td>\n",
       "      <td>880.0</td>\n",
       "      <td>Ярославль</td>\n",
       "      <td>Ж</td>\n",
       "      <td>40</td>\n",
       "      <td>0</td>\n",
       "      <td>NaN</td>\n",
       "      <td>1</td>\n",
       "      <td>1</td>\n",
       "      <td>0</td>\n",
       "      <td>137718.93</td>\n",
       "      <td>0</td>\n",
       "    </tr>\n",
       "    <tr>\n",
       "      <th>7694</th>\n",
       "      <td>116540</td>\n",
       "      <td>887.0</td>\n",
       "      <td>Ярославль</td>\n",
       "      <td>Ж</td>\n",
       "      <td>38</td>\n",
       "      <td>0</td>\n",
       "      <td>NaN</td>\n",
       "      <td>1</td>\n",
       "      <td>0</td>\n",
       "      <td>1</td>\n",
       "      <td>119247.61</td>\n",
       "      <td>0</td>\n",
       "    </tr>\n",
       "  </tbody>\n",
       "</table>\n",
       "<p>73 rows × 12 columns</p>\n",
       "</div>"
      ],
      "text/plain": [
       "      USERID  score       city gender  age  equity    balance  products  \\\n",
       "6457  228075  839.0  Ярославль      М   39       5  507199.85         3   \n",
       "8497  227795  839.0    Рыбинск      М   34       2  326593.14         2   \n",
       "4216  226719  903.0  Ярославль      Ж   63       0        NaN         1   \n",
       "8070  226550  940.0  Ярославль      М   34       0        NaN         1   \n",
       "9104  222480  776.0  Ярославль      Ж   38       5  796735.09         1   \n",
       "...      ...    ...        ...    ...  ...     ...        ...       ...   \n",
       "9775  124450  758.0    Рыбинск      Ж   36       0   73574.07         2   \n",
       "8638  123461  934.0    Рыбинск      М   34       0        NaN         2   \n",
       "5896  120258  905.0  Ярославль      М   30       0        NaN         1   \n",
       "7542  117943  880.0  Ярославль      Ж   40       0        NaN         1   \n",
       "7694  116540  887.0  Ярославль      Ж   38       0        NaN         1   \n",
       "\n",
       "      credit_card  last_activity  EST_SALARY  churn  \n",
       "6457            0              1    85195.80      0  \n",
       "8497            1              0   103314.92      0  \n",
       "4216            1              0   138582.58      0  \n",
       "8070            0              1   147696.95      0  \n",
       "9104            1              1    55073.63      0  \n",
       "...           ...            ...         ...    ...  \n",
       "9775            0              1    79963.59      0  \n",
       "8638            1              0   291619.27      0  \n",
       "5896            1              1   146427.96      0  \n",
       "7542            1              0   137718.93      0  \n",
       "7694            0              1   119247.61      0  \n",
       "\n",
       "[73 rows x 12 columns]"
      ]
     },
     "metadata": {},
     "output_type": "display_data"
    }
   ],
   "source": [
    "#найдем строку с дубликатом\n",
    "dupl_userid = data[data['USERID'].duplicated(keep='last')].sort_values(by ='USERID', ascending = 0)\n",
    "dupl_userid1 = data[data['USERID'].duplicated()].sort_values(by ='USERID', ascending = 0)\n",
    "#просмотр повторяющихся строк\n",
    "display(dupl_userid)\n",
    "display(dupl_userid1)"
   ]
  },
  {
   "cell_type": "markdown",
   "id": "09426ee3",
   "metadata": {},
   "source": [
    "Данные с дублирующими userid имеют разные даннные и так как их менее 1% - удалим дубли."
   ]
  },
  {
   "cell_type": "code",
   "execution_count": 8,
   "id": "5f525265",
   "metadata": {},
   "outputs": [],
   "source": [
    "data = data.drop_duplicates(subset=['USERID']).reset_index(drop=True)"
   ]
  },
  {
   "cell_type": "code",
   "execution_count": 9,
   "id": "bf9c130e",
   "metadata": {},
   "outputs": [],
   "source": [
    "# Приводим к нижнему регистру название столбцов\n",
    "data.columns = data.columns.str.lower()"
   ]
  },
  {
   "cell_type": "markdown",
   "id": "7ffe8a48",
   "metadata": {},
   "source": [
    "Дубликаты найдены и убраны и строк теперь - 9926."
   ]
  },
  {
   "cell_type": "markdown",
   "id": "db37ba99",
   "metadata": {},
   "source": [
    "#### Посмотрим рапределение по признакам"
   ]
  },
  {
   "cell_type": "code",
   "execution_count": 10,
   "id": "760e6b2d",
   "metadata": {},
   "outputs": [
    {
     "data": {
      "text/plain": [
       "<AxesSubplot:>"
      ]
     },
     "execution_count": 10,
     "metadata": {},
     "output_type": "execute_result"
    },
    {
     "data": {
      "image/png": "[encoded data removed]",
      "text/plain": [
       "<Figure size 432x288 with 1 Axes>"
      ]
     },
     "metadata": {
      "needs_background": "light"
     },
     "output_type": "display_data"
    }
   ],
   "source": [
    "# баллы кредитного скоринга\n",
    "data['score'].hist()  \n",
    "#.describe()"
   ]
  },
  {
   "cell_type": "markdown",
   "id": "bcc48562",
   "metadata": {},
   "source": [
    "Баллы кредитного скоринга распределены нормально"
   ]
  },
  {
   "cell_type": "code",
   "execution_count": 11,
   "id": "6282cd9f",
   "metadata": {},
   "outputs": [
    {
     "data": {
      "text/plain": [
       "Ярославль    5864\n",
       "Рыбинск      2642\n",
       "Ростов       1421\n",
       "Name: city, dtype: int64"
      ]
     },
     "execution_count": 11,
     "metadata": {},
     "output_type": "execute_result"
    }
   ],
   "source": [
    "# город\n",
    "data['city'].value_counts()"
   ]
  },
  {
   "cell_type": "markdown",
   "id": "cc7575e5",
   "metadata": {},
   "source": [
    "Больше всего клиентов из Ярославля - 5864, меньше всего их в Ростове - 1421."
   ]
  },
  {
   "cell_type": "code",
   "execution_count": 12,
   "id": "6c6cdcad",
   "metadata": {},
   "outputs": [
    {
     "data": {
      "text/plain": [
       "М    4973\n",
       "Ж    4954\n",
       "Name: gender, dtype: int64"
      ]
     },
     "execution_count": 12,
     "metadata": {},
     "output_type": "execute_result"
    }
   ],
   "source": [
    "# пол\n",
    "data['gender'].value_counts()"
   ]
  },
  {
   "cell_type": "markdown",
   "id": "cafc3130",
   "metadata": {},
   "source": [
    "По гендерному признаку данные распределены равномерно."
   ]
  },
  {
   "cell_type": "code",
   "execution_count": 13,
   "id": "bf85d59d",
   "metadata": {},
   "outputs": [
    {
     "data": {
      "text/plain": [
       "count    9927.000000\n",
       "mean       42.833081\n",
       "std        12.126052\n",
       "min        18.000000\n",
       "25%        34.000000\n",
       "50%        40.000000\n",
       "75%        51.000000\n",
       "max        86.000000\n",
       "Name: age, dtype: float64"
      ]
     },
     "metadata": {},
     "output_type": "display_data"
    }
   ],
   "source": [
    "# возраст\n",
    "display(data['age'].describe())"
   ]
  },
  {
   "cell_type": "markdown",
   "id": "c4253c20",
   "metadata": {},
   "source": [
    "В среднем, клиенты банка в возрасте 40 лет. В основном клиенты банка от 34 до 51 года. Минимальный возраст - 18, а самый максимальный - 86 лет. Есть выбросы - клиенты, которые старше 75 лет."
   ]
  },
  {
   "cell_type": "code",
   "execution_count": 14,
   "id": "e4dddd9e",
   "metadata": {},
   "outputs": [
    {
     "data": {
      "text/plain": [
       "count    9927.000000\n",
       "mean        2.634633\n",
       "std         1.979286\n",
       "min         0.000000\n",
       "25%         0.000000\n",
       "50%         3.000000\n",
       "75%         4.000000\n",
       "max         9.000000\n",
       "Name: equity, dtype: float64"
      ]
     },
     "metadata": {},
     "output_type": "display_data"
    },
    {
     "data": {
      "text/plain": [
       "0    2554\n",
       "5    1911\n",
       "4    1841\n",
       "3    1533\n",
       "2    1046\n",
       "1     772\n",
       "6     161\n",
       "7      79\n",
       "8      17\n",
       "9      13\n",
       "Name: equity, dtype: int64"
      ]
     },
     "metadata": {},
     "output_type": "display_data"
    },
    {
     "data": {
      "image/png": "[encoded data removed]",
      "text/plain": [
       "<Figure size 432x288 with 1 Axes>"
      ]
     },
     "metadata": {
      "needs_background": "light"
     },
     "output_type": "display_data"
    }
   ],
   "source": [
    "# оценка собственности\n",
    "data['equity'].hist()  \n",
    "display(data['equity'].describe())\n",
    "display(data['equity'].value_counts())"
   ]
  },
  {
   "cell_type": "markdown",
   "id": "a97fa2c4",
   "metadata": {},
   "source": [
    "Средняя оценка собственности: 3, почти одинаковое количество клиентов имеющих оценку 2,3,4,5. А вот при 0 оценке - больше всего количество пользователей."
   ]
  },
  {
   "cell_type": "code",
   "execution_count": 15,
   "id": "788d7256",
   "metadata": {},
   "outputs": [
    {
     "data": {
      "text/plain": [
       "count         7667.0\n",
       "mean        828902.0\n",
       "std        1985272.0\n",
       "min              0.0\n",
       "25%         295261.0\n",
       "50%         524894.0\n",
       "75%         980801.0\n",
       "max      119113552.0\n",
       "Name: balance, dtype: float64"
      ]
     },
     "metadata": {},
     "output_type": "display_data"
    },
    {
     "data": {
      "image/png": "[encoded data removed]",
      "text/plain": [
       "<Figure size 432x288 with 1 Axes>"
      ]
     },
     "metadata": {
      "needs_background": "light"
     },
     "output_type": "display_data"
    }
   ],
   "source": [
    "data.boxplot(['balance'])\n",
    "display(data['balance'].describe().round())\n",
    "#data['balance'].hist()"
   ]
  },
  {
   "cell_type": "markdown",
   "id": "50d6e7af",
   "metadata": {},
   "source": [
    "Минимальный баланс - 0, максимальный - более 100млн. Средний - 640т. "
   ]
  },
  {
   "cell_type": "code",
   "execution_count": 16,
   "id": "ec005a19",
   "metadata": {},
   "outputs": [
    {
     "data": {
      "text/plain": [
       "2    5081\n",
       "1    3306\n",
       "3    1035\n",
       "4     474\n",
       "5      30\n",
       "0       1\n",
       "Name: products, dtype: int64"
      ]
     },
     "execution_count": 16,
     "metadata": {},
     "output_type": "execute_result"
    }
   ],
   "source": [
    "# количество продуктов, которыми пользуется клиент\n",
    "data['products'].value_counts()"
   ]
  },
  {
   "cell_type": "markdown",
   "id": "aec81344",
   "metadata": {},
   "source": [
    "В большинстве данных у половины клиентов есть 2 продукта банка, более 4 продуктов занимает 5%. Есть один клиент который ни имеет не одного продукта - взглянем на данные."
   ]
  },
  {
   "cell_type": "code",
   "execution_count": 17,
   "id": "00ef6b24",
   "metadata": {},
   "outputs": [
    {
     "data": {
      "text/html": [
       "<div>\n",
       "<style scoped>\n",
       "    .dataframe tbody tr th:only-of-type {\n",
       "        vertical-align: middle;\n",
       "    }\n",
       "\n",
       "    .dataframe tbody tr th {\n",
       "        vertical-align: top;\n",
       "    }\n",
       "\n",
       "    .dataframe thead th {\n",
       "        text-align: right;\n",
       "    }\n",
       "</style>\n",
       "<table border=\"1\" class=\"dataframe\">\n",
       "  <thead>\n",
       "    <tr style=\"text-align: right;\">\n",
       "      <th></th>\n",
       "      <th>userid</th>\n",
       "      <th>score</th>\n",
       "      <th>city</th>\n",
       "      <th>gender</th>\n",
       "      <th>age</th>\n",
       "      <th>equity</th>\n",
       "      <th>balance</th>\n",
       "      <th>products</th>\n",
       "      <th>credit_card</th>\n",
       "      <th>last_activity</th>\n",
       "      <th>est_salary</th>\n",
       "      <th>churn</th>\n",
       "    </tr>\n",
       "  </thead>\n",
       "  <tbody>\n",
       "    <tr>\n",
       "      <th>8905</th>\n",
       "      <td>147837</td>\n",
       "      <td>962.0</td>\n",
       "      <td>Рыбинск</td>\n",
       "      <td>Ж</td>\n",
       "      <td>79</td>\n",
       "      <td>3</td>\n",
       "      <td>NaN</td>\n",
       "      <td>0</td>\n",
       "      <td>0</td>\n",
       "      <td>0</td>\n",
       "      <td>25063.96</td>\n",
       "      <td>1</td>\n",
       "    </tr>\n",
       "  </tbody>\n",
       "</table>\n",
       "</div>"
      ],
      "text/plain": [
       "      userid  score     city gender  age  equity  balance  products  \\\n",
       "8905  147837  962.0  Рыбинск      Ж   79       3      NaN         0   \n",
       "\n",
       "      credit_card  last_activity  est_salary  churn  \n",
       "8905            0              0    25063.96      1  "
      ]
     },
     "execution_count": 17,
     "metadata": {},
     "output_type": "execute_result"
    }
   ],
   "source": [
    "data[data['products']==0]"
   ]
  },
  {
   "cell_type": "markdown",
   "id": "7b78b73c",
   "metadata": {},
   "source": [
    "Клиент, не имеющий продуктов банка - из Рыбинска в возрасте 79 лет не активен - ушел из банка. Уберем эти данные для дальнейшего анализа."
   ]
  },
  {
   "cell_type": "code",
   "execution_count": 18,
   "id": "7e5926b3",
   "metadata": {},
   "outputs": [],
   "source": [
    "data = data[data['products']!=0]"
   ]
  },
  {
   "cell_type": "code",
   "execution_count": 19,
   "id": "29b3b92b",
   "metadata": {},
   "outputs": [
    {
     "data": {
      "text/plain": [
       "1    0.679931\n",
       "0    0.320069\n",
       "Name: credit_card, dtype: float64"
      ]
     },
     "execution_count": 19,
     "metadata": {},
     "output_type": "execute_result"
    }
   ],
   "source": [
    "# кредитная карта\n",
    "data['credit_card'].value_counts(normalize=True)"
   ]
  },
  {
   "cell_type": "markdown",
   "id": "7e786dca",
   "metadata": {},
   "source": [
    "Клиентов с кредитной картой - 68% , у остальных 32% их нет."
   ]
  },
  {
   "cell_type": "code",
   "execution_count": 20,
   "id": "285ebd26",
   "metadata": {},
   "outputs": [
    {
     "data": {
      "text/plain": [
       "1    0.523574\n",
       "0    0.476426\n",
       "Name: last_activity, dtype: float64"
      ]
     },
     "execution_count": 20,
     "metadata": {},
     "output_type": "execute_result"
    }
   ],
   "source": [
    "# активность\n",
    "data['last_activity'].value_counts(normalize=True)"
   ]
  },
  {
   "cell_type": "markdown",
   "id": "ecc67cfa",
   "metadata": {},
   "source": [
    "Больше половины клиентов банка (52%) находятся в активном статусе. Нужно в дальнейшем провести анализ по данному признаку."
   ]
  },
  {
   "cell_type": "code",
   "execution_count": 21,
   "id": "7f35aeba",
   "metadata": {},
   "outputs": [
    {
     "data": {
      "text/plain": [
       "count       9926.0\n",
       "mean      147904.0\n",
       "std       139367.0\n",
       "min         2546.0\n",
       "25%        75252.0\n",
       "50%       119715.0\n",
       "75%       174680.0\n",
       "max      1395064.0\n",
       "Name: est_salary, dtype: float64"
      ]
     },
     "execution_count": 21,
     "metadata": {},
     "output_type": "execute_result"
    }
   ],
   "source": [
    "# заработная плата клиента\n",
    "data['est_salary'].describe().round()"
   ]
  },
  {
   "cell_type": "markdown",
   "id": "150563a8",
   "metadata": {},
   "source": [
    "Заработная плата клиента заполнена в некоторых данных с помощью модели банка, которая выводит сумму в зависимости от показаний, тк клиенты не все указывают свою зарплату. Средние доходы равны примерно 147 000. Минимальные 2 546. А максимально - более 1 395 000."
   ]
  },
  {
   "cell_type": "code",
   "execution_count": 22,
   "id": "f7209fc7",
   "metadata": {},
   "outputs": [
    {
     "data": {
      "text/plain": [
       "0    0.816643\n",
       "1    0.183357\n",
       "Name: churn, dtype: float64"
      ]
     },
     "execution_count": 22,
     "metadata": {},
     "output_type": "execute_result"
    }
   ],
   "source": [
    "# отточность\n",
    "data['churn'].value_counts(normalize=True)"
   ]
  },
  {
   "cell_type": "markdown",
   "id": "1ece0c86",
   "metadata": {},
   "source": [
    "Отток клиентов свыше 18%. "
   ]
  },
  {
   "cell_type": "markdown",
   "id": "5754b7dd",
   "metadata": {},
   "source": [
    "#### Посмотрим на пропуски и на их признаки"
   ]
  },
  {
   "cell_type": "code",
   "execution_count": 23,
   "id": "7ed0d855",
   "metadata": {},
   "outputs": [
    {
     "name": "stdout",
     "output_type": "stream",
     "text": [
      "Количество пропусков:\n"
     ]
    },
    {
     "data": {
      "text/plain": [
       "userid              0\n",
       "score               0\n",
       "city                0\n",
       "gender              0\n",
       "age                 0\n",
       "equity              0\n",
       "balance          2259\n",
       "products            0\n",
       "credit_card         0\n",
       "last_activity       0\n",
       "est_salary          0\n",
       "churn               0\n",
       "dtype: int64"
      ]
     },
     "execution_count": 23,
     "metadata": {},
     "output_type": "execute_result"
    }
   ],
   "source": [
    "print('Количество пропусков:')\n",
    "data.isnull().sum()"
   ]
  },
  {
   "cell_type": "markdown",
   "id": "f56c0a58",
   "metadata": {},
   "source": [
    "В столбце с балансом есть пропуски скорее всего это нулевой баланс. Проверим есть ли уже в базе клиенты с таким балансом."
   ]
  },
  {
   "cell_type": "code",
   "execution_count": 24,
   "id": "efd43ee4",
   "metadata": {},
   "outputs": [
    {
     "data": {
      "text/html": [
       "<div>\n",
       "<style scoped>\n",
       "    .dataframe tbody tr th:only-of-type {\n",
       "        vertical-align: middle;\n",
       "    }\n",
       "\n",
       "    .dataframe tbody tr th {\n",
       "        vertical-align: top;\n",
       "    }\n",
       "\n",
       "    .dataframe thead th {\n",
       "        text-align: right;\n",
       "    }\n",
       "</style>\n",
       "<table border=\"1\" class=\"dataframe\">\n",
       "  <thead>\n",
       "    <tr style=\"text-align: right;\">\n",
       "      <th></th>\n",
       "      <th>userid</th>\n",
       "      <th>score</th>\n",
       "      <th>city</th>\n",
       "      <th>gender</th>\n",
       "      <th>age</th>\n",
       "      <th>equity</th>\n",
       "      <th>balance</th>\n",
       "      <th>products</th>\n",
       "      <th>credit_card</th>\n",
       "      <th>last_activity</th>\n",
       "      <th>est_salary</th>\n",
       "      <th>churn</th>\n",
       "    </tr>\n",
       "  </thead>\n",
       "  <tbody>\n",
       "    <tr>\n",
       "      <th>3890</th>\n",
       "      <td>179831</td>\n",
       "      <td>730.0</td>\n",
       "      <td>Ярославль</td>\n",
       "      <td>М</td>\n",
       "      <td>18</td>\n",
       "      <td>0</td>\n",
       "      <td>0.0</td>\n",
       "      <td>2</td>\n",
       "      <td>1</td>\n",
       "      <td>1</td>\n",
       "      <td>64548.33</td>\n",
       "      <td>0</td>\n",
       "    </tr>\n",
       "    <tr>\n",
       "      <th>6730</th>\n",
       "      <td>148456</td>\n",
       "      <td>813.0</td>\n",
       "      <td>Ярославль</td>\n",
       "      <td>М</td>\n",
       "      <td>20</td>\n",
       "      <td>2</td>\n",
       "      <td>0.0</td>\n",
       "      <td>2</td>\n",
       "      <td>1</td>\n",
       "      <td>0</td>\n",
       "      <td>23876.51</td>\n",
       "      <td>0</td>\n",
       "    </tr>\n",
       "  </tbody>\n",
       "</table>\n",
       "</div>"
      ],
      "text/plain": [
       "      userid  score       city gender  age  equity  balance  products  \\\n",
       "3890  179831  730.0  Ярославль      М   18       0      0.0         2   \n",
       "6730  148456  813.0  Ярославль      М   20       2      0.0         2   \n",
       "\n",
       "      credit_card  last_activity  est_salary  churn  \n",
       "3890            1              1    64548.33      0  \n",
       "6730            1              0    23876.51      0  "
      ]
     },
     "execution_count": 24,
     "metadata": {},
     "output_type": "execute_result"
    }
   ],
   "source": [
    "data.query('balance == 0')"
   ]
  },
  {
   "cell_type": "markdown",
   "id": "86a4ad29",
   "metadata": {},
   "source": [
    "При нулевом балансе - данные есть, значит нужно посмотреть характер пропусков по некоторым признакам."
   ]
  },
  {
   "cell_type": "code",
   "execution_count": 25,
   "id": "3c234d4c",
   "metadata": {},
   "outputs": [
    {
     "name": "stdout",
     "output_type": "stream",
     "text": [
      "Нулевой баланс по признаку города:\n"
     ]
    },
    {
     "data": {
      "text/plain": [
       "Ярославль    1454\n",
       "Рыбинск       569\n",
       "Ростов        236\n",
       "Name: city, dtype: int64"
      ]
     },
     "metadata": {},
     "output_type": "display_data"
    },
    {
     "name": "stdout",
     "output_type": "stream",
     "text": [
      "Нулевой баланс по признаку пола:\n"
     ]
    },
    {
     "data": {
      "text/plain": [
       "М    1263\n",
       "Ж     996\n",
       "Name: gender, dtype: int64"
      ]
     },
     "metadata": {},
     "output_type": "display_data"
    },
    {
     "name": "stdout",
     "output_type": "stream",
     "text": [
      "Нулевой баланс по признаку активности:\n"
     ]
    },
    {
     "data": {
      "text/plain": [
       "1    1241\n",
       "0    1018\n",
       "Name: last_activity, dtype: int64"
      ]
     },
     "metadata": {},
     "output_type": "display_data"
    },
    {
     "name": "stdout",
     "output_type": "stream",
     "text": [
      "Нулевой баланс по признаку наличия кредитной карты:\n"
     ]
    },
    {
     "data": {
      "text/plain": [
       "1    0.815848\n",
       "0    0.184152\n",
       "Name: credit_card, dtype: float64"
      ]
     },
     "metadata": {},
     "output_type": "display_data"
    }
   ],
   "source": [
    "print('Нулевой баланс по признаку города:')\n",
    "display(data[(data['balance'].isna())]['city'].value_counts())\n",
    "\n",
    "print('Нулевой баланс по признаку пола:') \n",
    "display(data[(data['balance'].isna())]['gender'].value_counts())\n",
    "\n",
    "print('Нулевой баланс по признаку активности:') \n",
    "display(data[(data['balance'].isna())]['last_activity'].value_counts())\n",
    "\n",
    "print('Нулевой баланс по признаку наличия кредитной карты:') \n",
    "display(data[(data['balance'].isna())]['credit_card'].value_counts(normalize=True))"
   ]
  },
  {
   "cell_type": "markdown",
   "id": "5b08ec0e",
   "metadata": {},
   "source": [
    " Распределение клиентов с нулевым балансом не отличается сильно от данных по всей таблице, единственное что тех, у кого кредитная карта -больше, чем тех у кого её нет. Поэтому, для дальнейшего исследования пропуски следует заменит на 0 значение."
   ]
  },
  {
   "cell_type": "code",
   "execution_count": 26,
   "id": "99405925",
   "metadata": {},
   "outputs": [],
   "source": [
    "# пропуски заменим на 0\n",
    "data['balance'] = data['balance'].fillna(0)"
   ]
  },
  {
   "cell_type": "code",
   "execution_count": 27,
   "id": "26e39c9e",
   "metadata": {},
   "outputs": [
    {
     "name": "stdout",
     "output_type": "stream",
     "text": [
      "Количество дубликатов: 0\n",
      "Количие пропусков:\n"
     ]
    },
    {
     "data": {
      "text/plain": [
       "userid           0\n",
       "score            0\n",
       "city             0\n",
       "gender           0\n",
       "age              0\n",
       "equity           0\n",
       "balance          0\n",
       "products         0\n",
       "credit_card      0\n",
       "last_activity    0\n",
       "est_salary       0\n",
       "churn            0\n",
       "dtype: int64"
      ]
     },
     "execution_count": 27,
     "metadata": {},
     "output_type": "execute_result"
    }
   ],
   "source": [
    "# проверка на дубликаты и пропуски\n",
    "print('Количество дубликатов:', data.duplicated().sum())\n",
    "print('Количие пропусков:')\n",
    "data.isnull().sum()"
   ]
  },
  {
   "cell_type": "markdown",
   "id": "2e29ec98",
   "metadata": {},
   "source": [
    "### Вывод:\n",
    "- Данные состоят из 10000 строк записей, пропуски в столбце \"balance\" заменены на значение 0. Типы данных соответствуют  показателям. Приведены названия столбцов к нижнему регистру.\\\n",
    "- Дубликаты найдены и убраны и строк стало - 9926.\\\n",
    "- Больше всего клиентов из Ярославля - 5864, меньше всего их в Ростове - 1421.\\\n",
    "- Количество мужчин и женщин практически одинаково.\\\n",
    "- Средняя оценка собственности: 3, почти одинаковое количество клиентов имеющих оценку 2,3,4,5. Больше всего количество пользователей с оценкой 0.\\\n",
    "- Баллы кредитного скоринга распределены нормально\\\n",
    "- В среднем, клиенты банка в возрасте 42 лет. В большем количестве клиенты в 32-38 лет. Минимальный возраст - 18, а самый максимальный - 86 лет.\\\n",
    "- Минимальный баланс - 0, максимальный - более 100млн. Средний - 640т.\\\n",
    "- В большинстве данных у половины клиентов есть 2 продукта банка, более 4 продуктов занимает 5%.\\\n",
    "- Клиентов с кредитной картой - 68% , у остальных 32% их нет.\n",
    "- 52% клиентов банка находятся в активном статусе.\\\n",
    "- Средние доходы равны примерно 147 000. Минимальные 2 546. А максимально - более 1 395 000.\\\n",
    "- Отток клиентов свыше 18%."
   ]
  },
  {
   "cell_type": "markdown",
   "id": "04326633",
   "metadata": {},
   "source": [
    "## 3 Шаг. Исследовательский анализ."
   ]
  },
  {
   "cell_type": "markdown",
   "id": "7c9ba30e",
   "metadata": {},
   "source": [
    "#### Анализ распределений признаков "
   ]
  },
  {
   "cell_type": "code",
   "execution_count": 28,
   "id": "26ef3b62",
   "metadata": {},
   "outputs": [
    {
     "data": {
      "image/png": "[encoded data removed]",
      "text/plain": [
       "<Figure size 432x288 with 1 Axes>"
      ]
     },
     "metadata": {
      "needs_background": "light"
     },
     "output_type": "display_data"
    },
    {
     "data": {
      "image/png": "[encoded data removed]",
      "text/plain": [
       "<Figure size 432x288 with 1 Axes>"
      ]
     },
     "metadata": {
      "needs_background": "light"
     },
     "output_type": "display_data"
    },
    {
     "data": {
      "image/png": "[encoded data removed]",
      "text/plain": [
       "<Figure size 432x288 with 1 Axes>"
      ]
     },
     "metadata": {
      "needs_background": "light"
     },
     "output_type": "display_data"
    },
    {
     "data": {
      "image/png": "[encoded data removed]",
      "text/plain": [
       "<Figure size 432x288 with 1 Axes>"
      ]
     },
     "metadata": {
      "needs_background": "light"
     },
     "output_type": "display_data"
    },
    {
     "data": {
      "image/png": "[encoded data removed]",
      "text/plain": [
       "<Figure size 432x288 with 1 Axes>"
      ]
     },
     "metadata": {
      "needs_background": "light"
     },
     "output_type": "display_data"
    }
   ],
   "source": [
    "# рассмотрим некоторые признаки с помощью графиков\n",
    "for index in data.drop(columns=['userid', 'balance', 'est_salary', 'products', 'age','score', 'equity']).columns:\n",
    "    sns.histplot(x=index, hue=\"churn\", data=data,  multiple=\"dodge\", bins=3, palette='hls')\n",
    "    plt.show();"
   ]
  },
  {
   "cell_type": "markdown",
   "id": "bd69fee3",
   "metadata": {},
   "source": [
    "Не возможно точно определить на данном этапе каких клиентов больше ушло - т.к есть разница между начальными данными по городам, по полу и др. Рассмотрим более подробнее каждый признак."
   ]
  },
  {
   "cell_type": "markdown",
   "id": "bd2da270",
   "metadata": {},
   "source": [
    "#### Рассмотрим отток по городу"
   ]
  },
  {
   "cell_type": "code",
   "execution_count": 29,
   "id": "3f40cd7a",
   "metadata": {},
   "outputs": [
    {
     "data": {
      "text/html": [
       "<div>\n",
       "<style scoped>\n",
       "    .dataframe tbody tr th:only-of-type {\n",
       "        vertical-align: middle;\n",
       "    }\n",
       "\n",
       "    .dataframe tbody tr th {\n",
       "        vertical-align: top;\n",
       "    }\n",
       "\n",
       "    .dataframe thead th {\n",
       "        text-align: right;\n",
       "    }\n",
       "</style>\n",
       "<table border=\"1\" class=\"dataframe\">\n",
       "  <thead>\n",
       "    <tr style=\"text-align: right;\">\n",
       "      <th></th>\n",
       "      <th>city</th>\n",
       "      <th>userid_x</th>\n",
       "      <th>userid_y</th>\n",
       "      <th>%</th>\n",
       "    </tr>\n",
       "  </thead>\n",
       "  <tbody>\n",
       "    <tr>\n",
       "      <th>0</th>\n",
       "      <td>Ярославль</td>\n",
       "      <td>5864</td>\n",
       "      <td>1121</td>\n",
       "      <td>19.1</td>\n",
       "    </tr>\n",
       "    <tr>\n",
       "      <th>1</th>\n",
       "      <td>Рыбинск</td>\n",
       "      <td>2641</td>\n",
       "      <td>430</td>\n",
       "      <td>16.3</td>\n",
       "    </tr>\n",
       "    <tr>\n",
       "      <th>2</th>\n",
       "      <td>Ростов</td>\n",
       "      <td>1421</td>\n",
       "      <td>269</td>\n",
       "      <td>18.9</td>\n",
       "    </tr>\n",
       "  </tbody>\n",
       "</table>\n",
       "</div>"
      ],
      "text/plain": [
       "        city  userid_x  userid_y     %\n",
       "0  Ярославль      5864      1121  19.1\n",
       "1    Рыбинск      2641       430  16.3\n",
       "2     Ростов      1421       269  18.9"
      ]
     },
     "execution_count": 29,
     "metadata": {},
     "output_type": "execute_result"
    }
   ],
   "source": [
    "# сгруппируем данные по городам\n",
    "city = data.groupby('city').agg({'userid':'count'}).sort_values(by='userid', ascending=False).reset_index()\n",
    "# сгруппируем отточных клиентов\n",
    "city_churn1 = data.query('churn == 1')\\\n",
    "                  .groupby('city')\\\n",
    "                  .agg({'userid':'count'})\\\n",
    "                  .sort_values(by='userid', ascending=False)\\\n",
    "                  .reset_index()\n",
    "# объединим две таблицы для расчета процента оттока от общего кол-ва  для каждой группы\n",
    "city_churn = city.merge(city_churn1, left_on='city', right_on='city')\n",
    "city_churn['%'] = 100*(city_churn['userid_y'] / city_churn['userid_x']).round(3)\n",
    "city_churn"
   ]
  },
  {
   "cell_type": "code",
   "execution_count": 216,
   "id": "01b2362f",
   "metadata": {},
   "outputs": [
    {
     "data": {
      "image/png": "[encoded data removed]",
      "text/plain": [
       "<Figure size 432x288 with 1 Axes>"
      ]
     },
     "metadata": {
      "needs_background": "light"
     },
     "output_type": "display_data"
    }
   ],
   "source": [
    "city_churn = city_churn.sort_values('%', ascending=False)\n",
    "sns.barplot(data=city_churn, x='%', y='city', palette='hls')\n",
    "plt.ylabel('Город');"
   ]
  },
  {
   "cell_type": "markdown",
   "id": "c09d3f54",
   "metadata": {},
   "source": [
    "Большой отток клиентов с Ярославля -19% и с Ростова с разницей в 0,2%."
   ]
  },
  {
   "cell_type": "markdown",
   "id": "caa3b744",
   "metadata": {},
   "source": [
    "#### Рассмотрим отток по полу"
   ]
  },
  {
   "cell_type": "code",
   "execution_count": 31,
   "id": "1500575c",
   "metadata": {},
   "outputs": [
    {
     "data": {
      "text/html": [
       "<div>\n",
       "<style scoped>\n",
       "    .dataframe tbody tr th:only-of-type {\n",
       "        vertical-align: middle;\n",
       "    }\n",
       "\n",
       "    .dataframe tbody tr th {\n",
       "        vertical-align: top;\n",
       "    }\n",
       "\n",
       "    .dataframe thead th {\n",
       "        text-align: right;\n",
       "    }\n",
       "</style>\n",
       "<table border=\"1\" class=\"dataframe\">\n",
       "  <thead>\n",
       "    <tr style=\"text-align: right;\">\n",
       "      <th></th>\n",
       "      <th>gender</th>\n",
       "      <th>userid_x</th>\n",
       "      <th>userid_y</th>\n",
       "      <th>%</th>\n",
       "    </tr>\n",
       "  </thead>\n",
       "  <tbody>\n",
       "    <tr>\n",
       "      <th>0</th>\n",
       "      <td>М</td>\n",
       "      <td>4973</td>\n",
       "      <td>1183</td>\n",
       "      <td>23.8</td>\n",
       "    </tr>\n",
       "    <tr>\n",
       "      <th>1</th>\n",
       "      <td>Ж</td>\n",
       "      <td>4953</td>\n",
       "      <td>637</td>\n",
       "      <td>12.9</td>\n",
       "    </tr>\n",
       "  </tbody>\n",
       "</table>\n",
       "</div>"
      ],
      "text/plain": [
       "  gender  userid_x  userid_y     %\n",
       "0      М      4973      1183  23.8\n",
       "1      Ж      4953       637  12.9"
      ]
     },
     "execution_count": 31,
     "metadata": {},
     "output_type": "execute_result"
    }
   ],
   "source": [
    "# сгруппируем данные по полу\n",
    "gender = data.groupby('gender').agg({'userid':'count'}).sort_values(by='userid', ascending=False).reset_index()\n",
    "# сгруппируем отточных клиентов\n",
    "gender_churn1 = data.query('churn == 1')\\\n",
    "                  .groupby('gender')\\\n",
    "                  .agg({'userid':'count'})\\\n",
    "                  .sort_values(by='userid', ascending=False)\\\n",
    "                  .reset_index()\n",
    "# объединим две таблицы для расчета процента оттока от общего кол-ва  для каждой группы\n",
    "gender_churn = gender.merge(gender_churn1, left_on='gender', right_on='gender')\n",
    "gender_churn['%'] = 100*(gender_churn['userid_y'] / gender_churn['userid_x']).round(3)\n",
    "gender_churn"
   ]
  },
  {
   "cell_type": "code",
   "execution_count": 215,
   "id": "ea65a082",
   "metadata": {},
   "outputs": [
    {
     "data": {
      "image/png": "[encoded data removed]",
      "text/plain": [
       "<Figure size 432x288 with 1 Axes>"
      ]
     },
     "metadata": {
      "needs_background": "light"
     },
     "output_type": "display_data"
    }
   ],
   "source": [
    "gender_churn = gender_churn.sort_values('%', ascending=False)\n",
    "sns.barplot(data=gender_churn, x='%', y='gender', palette='hls')\n",
    "plt.ylabel('Пол');"
   ]
  },
  {
   "cell_type": "markdown",
   "id": "abe30201",
   "metadata": {},
   "source": [
    "Мужчин уходит больше чем женщин. 24% оттока среди мужчин"
   ]
  },
  {
   "cell_type": "markdown",
   "id": "60167727",
   "metadata": {},
   "source": [
    "#### Рассмотрим отток по наличию кредитной карты"
   ]
  },
  {
   "cell_type": "code",
   "execution_count": 33,
   "id": "8d05b516",
   "metadata": {},
   "outputs": [
    {
     "data": {
      "text/html": [
       "<div>\n",
       "<style scoped>\n",
       "    .dataframe tbody tr th:only-of-type {\n",
       "        vertical-align: middle;\n",
       "    }\n",
       "\n",
       "    .dataframe tbody tr th {\n",
       "        vertical-align: top;\n",
       "    }\n",
       "\n",
       "    .dataframe thead th {\n",
       "        text-align: right;\n",
       "    }\n",
       "</style>\n",
       "<table border=\"1\" class=\"dataframe\">\n",
       "  <thead>\n",
       "    <tr style=\"text-align: right;\">\n",
       "      <th></th>\n",
       "      <th>credit_card</th>\n",
       "      <th>userid_x</th>\n",
       "      <th>userid_y</th>\n",
       "      <th>%</th>\n",
       "    </tr>\n",
       "  </thead>\n",
       "  <tbody>\n",
       "    <tr>\n",
       "      <th>0</th>\n",
       "      <td>1</td>\n",
       "      <td>6749</td>\n",
       "      <td>1003</td>\n",
       "      <td>14.9</td>\n",
       "    </tr>\n",
       "    <tr>\n",
       "      <th>1</th>\n",
       "      <td>0</td>\n",
       "      <td>3177</td>\n",
       "      <td>817</td>\n",
       "      <td>25.7</td>\n",
       "    </tr>\n",
       "  </tbody>\n",
       "</table>\n",
       "</div>"
      ],
      "text/plain": [
       "   credit_card  userid_x  userid_y     %\n",
       "0            1      6749      1003  14.9\n",
       "1            0      3177       817  25.7"
      ]
     },
     "execution_count": 33,
     "metadata": {},
     "output_type": "execute_result"
    }
   ],
   "source": [
    "# сгруппируем данные по наличию кредитки\n",
    "credit_card = data.groupby('credit_card').agg({'userid':'count'}).sort_values(by='userid', ascending=False).reset_index()\n",
    "# сгруппируем отточных клиентов\n",
    "credit_card_churn1 = data.query('churn == 1')\\\n",
    "                  .groupby('credit_card')\\\n",
    "                  .agg({'userid':'count'})\\\n",
    "                  .sort_values(by='userid', ascending=False)\\\n",
    "                  .reset_index()\n",
    "# объединим две таблицы для расчета процента оттока от общего кол-ва  для каждой группы\n",
    "credit_card_churn = credit_card.merge(credit_card_churn1, left_on='credit_card', right_on='credit_card')\n",
    "credit_card_churn\n",
    "credit_card_churn['%'] = 100*(credit_card_churn['userid_y'] / credit_card_churn['userid_x']).round(3)\n",
    "credit_card_churn"
   ]
  },
  {
   "cell_type": "code",
   "execution_count": 34,
   "id": "34582807",
   "metadata": {},
   "outputs": [
    {
     "data": {
      "image/png": "[encoded data removed]",
      "text/plain": [
       "<Figure size 432x288 with 1 Axes>"
      ]
     },
     "metadata": {
      "needs_background": "light"
     },
     "output_type": "display_data"
    }
   ],
   "source": [
    "sns.barplot(data=credit_card_churn, x='credit_card', y='%', palette='hls');"
   ]
  },
  {
   "cell_type": "markdown",
   "id": "1e73584f",
   "metadata": {},
   "source": [
    "Отток клиентов без кредитки больше - 26%, чем с кредитной картой - 15%."
   ]
  },
  {
   "cell_type": "markdown",
   "id": "f8fc87c8",
   "metadata": {},
   "source": [
    "#### Рассмотрим отток по активности клиента "
   ]
  },
  {
   "cell_type": "code",
   "execution_count": 35,
   "id": "28ee13db",
   "metadata": {},
   "outputs": [
    {
     "data": {
      "text/html": [
       "<div>\n",
       "<style scoped>\n",
       "    .dataframe tbody tr th:only-of-type {\n",
       "        vertical-align: middle;\n",
       "    }\n",
       "\n",
       "    .dataframe tbody tr th {\n",
       "        vertical-align: top;\n",
       "    }\n",
       "\n",
       "    .dataframe thead th {\n",
       "        text-align: right;\n",
       "    }\n",
       "</style>\n",
       "<table border=\"1\" class=\"dataframe\">\n",
       "  <thead>\n",
       "    <tr style=\"text-align: right;\">\n",
       "      <th></th>\n",
       "      <th>last_activity</th>\n",
       "      <th>userid_x</th>\n",
       "      <th>userid_y</th>\n",
       "      <th>%</th>\n",
       "    </tr>\n",
       "  </thead>\n",
       "  <tbody>\n",
       "    <tr>\n",
       "      <th>0</th>\n",
       "      <td>1</td>\n",
       "      <td>5197</td>\n",
       "      <td>1279</td>\n",
       "      <td>24.6</td>\n",
       "    </tr>\n",
       "    <tr>\n",
       "      <th>1</th>\n",
       "      <td>0</td>\n",
       "      <td>4729</td>\n",
       "      <td>541</td>\n",
       "      <td>11.4</td>\n",
       "    </tr>\n",
       "  </tbody>\n",
       "</table>\n",
       "</div>"
      ],
      "text/plain": [
       "   last_activity  userid_x  userid_y     %\n",
       "0              1      5197      1279  24.6\n",
       "1              0      4729       541  11.4"
      ]
     },
     "execution_count": 35,
     "metadata": {},
     "output_type": "execute_result"
    }
   ],
   "source": [
    "# сгруппируем данные по активности клиента\n",
    "last_activity = data.groupby('last_activity').agg({'userid':'count'}).sort_values(by='userid', ascending=False).reset_index()\n",
    "# сгруппируем отточных клиентов\n",
    "last_activity_churn1 = data.query('churn == 1')\\\n",
    "                  .groupby('last_activity')\\\n",
    "                  .agg({'userid':'count'})\\\n",
    "                  .sort_values(by='userid', ascending=False)\\\n",
    "                  .reset_index()\n",
    "# объединим две таблицы для расчета процента оттока от общего кол-ва для каждой группы\n",
    "last_activity_churn = last_activity.merge(last_activity_churn1, left_on='last_activity', right_on='last_activity')\n",
    "last_activity_churn['%'] = 100*(last_activity_churn['userid_y'] / last_activity_churn['userid_x']).round(3)\n",
    "last_activity_churn"
   ]
  },
  {
   "cell_type": "code",
   "execution_count": 36,
   "id": "e9c0a194",
   "metadata": {},
   "outputs": [
    {
     "data": {
      "image/png": "[encoded data removed]",
      "text/plain": [
       "<Figure size 432x288 with 1 Axes>"
      ]
     },
     "metadata": {
      "needs_background": "light"
     },
     "output_type": "display_data"
    }
   ],
   "source": [
    "sns.barplot(data=last_activity_churn, x='last_activity', y='%', palette='hls');"
   ]
  },
  {
   "cell_type": "markdown",
   "id": "62a1a644",
   "metadata": {},
   "source": [
    "Чаще покидают банк активные клиенты - 25% от всех активных"
   ]
  },
  {
   "cell_type": "markdown",
   "id": "e595a67a",
   "metadata": {},
   "source": [
    "#### Рассмотрим отток по возрасту"
   ]
  },
  {
   "cell_type": "code",
   "execution_count": 227,
   "id": "0cca1f70",
   "metadata": {},
   "outputs": [
    {
     "data": {
      "image/png": "[encoded data removed]",
      "text/plain": [
       "<Figure size 432x288 with 1 Axes>"
      ]
     },
     "metadata": {
      "needs_background": "light"
     },
     "output_type": "display_data"
    }
   ],
   "source": [
    "sns.stripplot(x='churn', y='age', data=data, palette='hls')\n",
    "plt.axhline(y=data.query('churn == 1')['age'].median(), color='red', linestyle='--', label='Cредний уровень оттока')\n",
    "plt.legend();"
   ]
  },
  {
   "cell_type": "markdown",
   "id": "7f5065cf",
   "metadata": {},
   "source": [
    "Количество уходящих в большем количестве тех, кто в возрасте от 25 до 60 лет. Создадим категории по возрасту чтобы выбрать интервал который больше уходит с банка."
   ]
  },
  {
   "cell_type": "code",
   "execution_count": 38,
   "id": "005401eb",
   "metadata": {},
   "outputs": [],
   "source": [
    "# создам копию базы для исследования и добавления столбца.\n",
    "data_1 = data.copy() \n",
    "pd.set_option('display.max_columns', None)"
   ]
  },
  {
   "cell_type": "code",
   "execution_count": 39,
   "id": "051f60d2",
   "metadata": {},
   "outputs": [
    {
     "data": {
      "text/html": [
       "<div>\n",
       "<style scoped>\n",
       "    .dataframe tbody tr th:only-of-type {\n",
       "        vertical-align: middle;\n",
       "    }\n",
       "\n",
       "    .dataframe tbody tr th {\n",
       "        vertical-align: top;\n",
       "    }\n",
       "\n",
       "    .dataframe thead th {\n",
       "        text-align: right;\n",
       "    }\n",
       "</style>\n",
       "<table border=\"1\" class=\"dataframe\">\n",
       "  <thead>\n",
       "    <tr style=\"text-align: right;\">\n",
       "      <th></th>\n",
       "      <th>userid</th>\n",
       "      <th>score</th>\n",
       "      <th>city</th>\n",
       "      <th>gender</th>\n",
       "      <th>age</th>\n",
       "      <th>equity</th>\n",
       "      <th>balance</th>\n",
       "      <th>products</th>\n",
       "      <th>credit_card</th>\n",
       "      <th>last_activity</th>\n",
       "      <th>est_salary</th>\n",
       "      <th>churn</th>\n",
       "      <th>age_category</th>\n",
       "    </tr>\n",
       "  </thead>\n",
       "  <tbody>\n",
       "    <tr>\n",
       "      <th>0</th>\n",
       "      <td>183012</td>\n",
       "      <td>850.0</td>\n",
       "      <td>Рыбинск</td>\n",
       "      <td>Ж</td>\n",
       "      <td>25</td>\n",
       "      <td>1</td>\n",
       "      <td>59214.82</td>\n",
       "      <td>2</td>\n",
       "      <td>0</td>\n",
       "      <td>1</td>\n",
       "      <td>75719.14</td>\n",
       "      <td>1</td>\n",
       "      <td>до 25</td>\n",
       "    </tr>\n",
       "    <tr>\n",
       "      <th>1</th>\n",
       "      <td>146556</td>\n",
       "      <td>861.0</td>\n",
       "      <td>Рыбинск</td>\n",
       "      <td>Ж</td>\n",
       "      <td>37</td>\n",
       "      <td>5</td>\n",
       "      <td>850594.33</td>\n",
       "      <td>3</td>\n",
       "      <td>1</td>\n",
       "      <td>0</td>\n",
       "      <td>86621.77</td>\n",
       "      <td>0</td>\n",
       "      <td>от 35 до 45</td>\n",
       "    </tr>\n",
       "    <tr>\n",
       "      <th>2</th>\n",
       "      <td>120722</td>\n",
       "      <td>892.0</td>\n",
       "      <td>Рыбинск</td>\n",
       "      <td>Ж</td>\n",
       "      <td>30</td>\n",
       "      <td>0</td>\n",
       "      <td>0.00</td>\n",
       "      <td>1</td>\n",
       "      <td>1</td>\n",
       "      <td>1</td>\n",
       "      <td>107683.34</td>\n",
       "      <td>0</td>\n",
       "      <td>от 25 до 35</td>\n",
       "    </tr>\n",
       "    <tr>\n",
       "      <th>3</th>\n",
       "      <td>225363</td>\n",
       "      <td>866.0</td>\n",
       "      <td>Ярославль</td>\n",
       "      <td>Ж</td>\n",
       "      <td>51</td>\n",
       "      <td>5</td>\n",
       "      <td>1524746.26</td>\n",
       "      <td>2</td>\n",
       "      <td>0</td>\n",
       "      <td>1</td>\n",
       "      <td>174423.53</td>\n",
       "      <td>1</td>\n",
       "      <td>от 45 до 55</td>\n",
       "    </tr>\n",
       "    <tr>\n",
       "      <th>4</th>\n",
       "      <td>157978</td>\n",
       "      <td>730.0</td>\n",
       "      <td>Ярославль</td>\n",
       "      <td>М</td>\n",
       "      <td>34</td>\n",
       "      <td>5</td>\n",
       "      <td>174.00</td>\n",
       "      <td>1</td>\n",
       "      <td>1</td>\n",
       "      <td>0</td>\n",
       "      <td>67353.16</td>\n",
       "      <td>1</td>\n",
       "      <td>от 25 до 35</td>\n",
       "    </tr>\n",
       "    <tr>\n",
       "      <th>...</th>\n",
       "      <td>...</td>\n",
       "      <td>...</td>\n",
       "      <td>...</td>\n",
       "      <td>...</td>\n",
       "      <td>...</td>\n",
       "      <td>...</td>\n",
       "      <td>...</td>\n",
       "      <td>...</td>\n",
       "      <td>...</td>\n",
       "      <td>...</td>\n",
       "      <td>...</td>\n",
       "      <td>...</td>\n",
       "      <td>...</td>\n",
       "    </tr>\n",
       "    <tr>\n",
       "      <th>9922</th>\n",
       "      <td>120553</td>\n",
       "      <td>814.0</td>\n",
       "      <td>Рыбинск</td>\n",
       "      <td>М</td>\n",
       "      <td>27</td>\n",
       "      <td>1</td>\n",
       "      <td>78144.65</td>\n",
       "      <td>1</td>\n",
       "      <td>0</td>\n",
       "      <td>1</td>\n",
       "      <td>18943.64</td>\n",
       "      <td>0</td>\n",
       "      <td>от 25 до 35</td>\n",
       "    </tr>\n",
       "    <tr>\n",
       "      <th>9923</th>\n",
       "      <td>139170</td>\n",
       "      <td>894.0</td>\n",
       "      <td>Ярославль</td>\n",
       "      <td>М</td>\n",
       "      <td>46</td>\n",
       "      <td>0</td>\n",
       "      <td>0.00</td>\n",
       "      <td>1</td>\n",
       "      <td>1</td>\n",
       "      <td>0</td>\n",
       "      <td>196898.29</td>\n",
       "      <td>0</td>\n",
       "      <td>от 45 до 55</td>\n",
       "    </tr>\n",
       "    <tr>\n",
       "      <th>9924</th>\n",
       "      <td>115639</td>\n",
       "      <td>903.0</td>\n",
       "      <td>Ярославль</td>\n",
       "      <td>М</td>\n",
       "      <td>24</td>\n",
       "      <td>0</td>\n",
       "      <td>0.00</td>\n",
       "      <td>2</td>\n",
       "      <td>1</td>\n",
       "      <td>1</td>\n",
       "      <td>108905.09</td>\n",
       "      <td>0</td>\n",
       "      <td>до 25</td>\n",
       "    </tr>\n",
       "    <tr>\n",
       "      <th>9925</th>\n",
       "      <td>148700</td>\n",
       "      <td>777.0</td>\n",
       "      <td>Ярославль</td>\n",
       "      <td>Ж</td>\n",
       "      <td>68</td>\n",
       "      <td>3</td>\n",
       "      <td>865457.97</td>\n",
       "      <td>3</td>\n",
       "      <td>0</td>\n",
       "      <td>1</td>\n",
       "      <td>86874.90</td>\n",
       "      <td>0</td>\n",
       "      <td>от 65</td>\n",
       "    </tr>\n",
       "    <tr>\n",
       "      <th>9926</th>\n",
       "      <td>96267</td>\n",
       "      <td>828.0</td>\n",
       "      <td>Рыбинск</td>\n",
       "      <td>Ж</td>\n",
       "      <td>58</td>\n",
       "      <td>3</td>\n",
       "      <td>1180886.70</td>\n",
       "      <td>4</td>\n",
       "      <td>0</td>\n",
       "      <td>1</td>\n",
       "      <td>21422.37</td>\n",
       "      <td>0</td>\n",
       "      <td>от 55 до 65</td>\n",
       "    </tr>\n",
       "  </tbody>\n",
       "</table>\n",
       "<p>9926 rows × 13 columns</p>\n",
       "</div>"
      ],
      "text/plain": [
       "      userid  score       city gender  age  equity     balance  products  \\\n",
       "0     183012  850.0    Рыбинск      Ж   25       1    59214.82         2   \n",
       "1     146556  861.0    Рыбинск      Ж   37       5   850594.33         3   \n",
       "2     120722  892.0    Рыбинск      Ж   30       0        0.00         1   \n",
       "3     225363  866.0  Ярославль      Ж   51       5  1524746.26         2   \n",
       "4     157978  730.0  Ярославль      М   34       5      174.00         1   \n",
       "...      ...    ...        ...    ...  ...     ...         ...       ...   \n",
       "9922  120553  814.0    Рыбинск      М   27       1    78144.65         1   \n",
       "9923  139170  894.0  Ярославль      М   46       0        0.00         1   \n",
       "9924  115639  903.0  Ярославль      М   24       0        0.00         2   \n",
       "9925  148700  777.0  Ярославль      Ж   68       3   865457.97         3   \n",
       "9926   96267  828.0    Рыбинск      Ж   58       3  1180886.70         4   \n",
       "\n",
       "      credit_card  last_activity  est_salary  churn age_category  \n",
       "0               0              1    75719.14      1        до 25  \n",
       "1               1              0    86621.77      0  от 35 до 45  \n",
       "2               1              1   107683.34      0  от 25 до 35  \n",
       "3               0              1   174423.53      1  от 45 до 55  \n",
       "4               1              0    67353.16      1  от 25 до 35  \n",
       "...           ...            ...         ...    ...          ...  \n",
       "9922            0              1    18943.64      0  от 25 до 35  \n",
       "9923            1              0   196898.29      0  от 45 до 55  \n",
       "9924            1              1   108905.09      0        до 25  \n",
       "9925            0              1    86874.90      0        от 65  \n",
       "9926            0              1    21422.37      0  от 55 до 65  \n",
       "\n",
       "[9926 rows x 13 columns]"
      ]
     },
     "execution_count": 39,
     "metadata": {},
     "output_type": "execute_result"
    }
   ],
   "source": [
    "# создам функцию для категорий по возрасту\n",
    "def categorize_age(income):\n",
    "    try:\n",
    "        if income <= 25:\n",
    "            return 'до 25'\n",
    "        elif 25 < income <= 35:\n",
    "            return 'от 25 до 35'\n",
    "        elif 35 < income <= 45:\n",
    "            return 'от 35 до 45'\n",
    "        elif 45 < income <= 55:\n",
    "            return 'от 45 до 55'\n",
    "        elif 55 < income <= 65:\n",
    "            return 'от 55 до 65'\n",
    "        elif 65 < income :\n",
    "            return 'от 65'\n",
    "    except:\n",
    "        pass\n",
    "data_1['age_category'] = data_1['age'].apply(categorize_age)\n",
    "data_1"
   ]
  },
  {
   "cell_type": "code",
   "execution_count": 40,
   "id": "e40823e1",
   "metadata": {},
   "outputs": [
    {
     "data": {
      "text/html": [
       "<div>\n",
       "<style scoped>\n",
       "    .dataframe tbody tr th:only-of-type {\n",
       "        vertical-align: middle;\n",
       "    }\n",
       "\n",
       "    .dataframe tbody tr th {\n",
       "        vertical-align: top;\n",
       "    }\n",
       "\n",
       "    .dataframe thead th {\n",
       "        text-align: right;\n",
       "    }\n",
       "</style>\n",
       "<table border=\"1\" class=\"dataframe\">\n",
       "  <thead>\n",
       "    <tr style=\"text-align: right;\">\n",
       "      <th></th>\n",
       "      <th>age_category</th>\n",
       "      <th>userid_x</th>\n",
       "      <th>userid_y</th>\n",
       "      <th>%</th>\n",
       "    </tr>\n",
       "  </thead>\n",
       "  <tbody>\n",
       "    <tr>\n",
       "      <th>1</th>\n",
       "      <td>от 25 до 35</td>\n",
       "      <td>2942</td>\n",
       "      <td>642</td>\n",
       "      <td>21.8</td>\n",
       "    </tr>\n",
       "    <tr>\n",
       "      <th>2</th>\n",
       "      <td>от 45 до 55</td>\n",
       "      <td>1709</td>\n",
       "      <td>370</td>\n",
       "      <td>21.7</td>\n",
       "    </tr>\n",
       "    <tr>\n",
       "      <th>3</th>\n",
       "      <td>от 55 до 65</td>\n",
       "      <td>1315</td>\n",
       "      <td>259</td>\n",
       "      <td>19.7</td>\n",
       "    </tr>\n",
       "    <tr>\n",
       "      <th>5</th>\n",
       "      <td>до 25</td>\n",
       "      <td>303</td>\n",
       "      <td>51</td>\n",
       "      <td>16.8</td>\n",
       "    </tr>\n",
       "    <tr>\n",
       "      <th>0</th>\n",
       "      <td>от 35 до 45</td>\n",
       "      <td>3171</td>\n",
       "      <td>488</td>\n",
       "      <td>15.4</td>\n",
       "    </tr>\n",
       "    <tr>\n",
       "      <th>4</th>\n",
       "      <td>от 65</td>\n",
       "      <td>486</td>\n",
       "      <td>10</td>\n",
       "      <td>2.1</td>\n",
       "    </tr>\n",
       "  </tbody>\n",
       "</table>\n",
       "</div>"
      ],
      "text/plain": [
       "  age_category  userid_x  userid_y     %\n",
       "1  от 25 до 35      2942       642  21.8\n",
       "2  от 45 до 55      1709       370  21.7\n",
       "3  от 55 до 65      1315       259  19.7\n",
       "5        до 25       303        51  16.8\n",
       "0  от 35 до 45      3171       488  15.4\n",
       "4        от 65       486        10   2.1"
      ]
     },
     "execution_count": 40,
     "metadata": {},
     "output_type": "execute_result"
    }
   ],
   "source": [
    "# сгруппируем данные по возрасту\n",
    "age_category = data_1.groupby('age_category').agg({'userid':'count'}).sort_values(by='userid', ascending=False).reset_index()\n",
    "\n",
    "# сгруппируем отточных клиентов\n",
    "age_category_churn1 = data_1.query('churn == 1')\\\n",
    "                  .groupby('age_category')\\\n",
    "                  .agg({'userid':'count'})\\\n",
    "                  .sort_values(by='userid', ascending=False)\\\n",
    "                  .reset_index()\n",
    "\n",
    "# объединим две таблицы для расчета процента оттока от общего кол-ва для каждой группы\n",
    "age_category_churn = age_category.merge(age_category_churn1, left_on='age_category', right_on='age_category')\n",
    "age_category_churn['%'] = 100*(age_category_churn['userid_y'] / age_category_churn['userid_x']).round(3)\n",
    "age_category_churn = age_category_churn.sort_values(by='%', ascending=False)\n",
    "age_category_churn "
   ]
  },
  {
   "cell_type": "code",
   "execution_count": 214,
   "id": "14abd8b7",
   "metadata": {},
   "outputs": [
    {
     "data": {
      "image/png": "[encoded data removed]",
      "text/plain": [
       "<Figure size 432x288 with 1 Axes>"
      ]
     },
     "metadata": {
      "needs_background": "light"
     },
     "output_type": "display_data"
    }
   ],
   "source": [
    "# построю график\n",
    "sns.barplot(data=age_category_churn, x='%', y='age_category', palette='hls')\n",
    "plt.ylabel('Категории по возрасту');"
   ]
  },
  {
   "cell_type": "markdown",
   "id": "bcb22edf",
   "metadata": {},
   "source": [
    "Клиенты от 25 до 35 и от 45 до 55 лет уходят больше всего чем остальные - 22% у каждой из групп. Клиенты от 65 самые преданные банку и остаются там - всего 2% оттока. "
   ]
  },
  {
   "cell_type": "markdown",
   "id": "0dcef852",
   "metadata": {},
   "source": [
    "#### Рассмотрим отток по количеству продуктов, которыми пользуется клиент"
   ]
  },
  {
   "cell_type": "code",
   "execution_count": 42,
   "id": "0e6ed1d4",
   "metadata": {},
   "outputs": [
    {
     "data": {
      "text/html": [
       "<div>\n",
       "<style scoped>\n",
       "    .dataframe tbody tr th:only-of-type {\n",
       "        vertical-align: middle;\n",
       "    }\n",
       "\n",
       "    .dataframe tbody tr th {\n",
       "        vertical-align: top;\n",
       "    }\n",
       "\n",
       "    .dataframe thead th {\n",
       "        text-align: right;\n",
       "    }\n",
       "</style>\n",
       "<table border=\"1\" class=\"dataframe\">\n",
       "  <thead>\n",
       "    <tr style=\"text-align: right;\">\n",
       "      <th></th>\n",
       "      <th>products</th>\n",
       "      <th>userid_x</th>\n",
       "      <th>userid_y</th>\n",
       "      <th>%</th>\n",
       "    </tr>\n",
       "  </thead>\n",
       "  <tbody>\n",
       "    <tr>\n",
       "      <th>3</th>\n",
       "      <td>4</td>\n",
       "      <td>474</td>\n",
       "      <td>300</td>\n",
       "      <td>63.3</td>\n",
       "    </tr>\n",
       "    <tr>\n",
       "      <th>4</th>\n",
       "      <td>5</td>\n",
       "      <td>30</td>\n",
       "      <td>9</td>\n",
       "      <td>30.0</td>\n",
       "    </tr>\n",
       "    <tr>\n",
       "      <th>2</th>\n",
       "      <td>3</td>\n",
       "      <td>1035</td>\n",
       "      <td>298</td>\n",
       "      <td>28.8</td>\n",
       "    </tr>\n",
       "    <tr>\n",
       "      <th>0</th>\n",
       "      <td>2</td>\n",
       "      <td>5081</td>\n",
       "      <td>978</td>\n",
       "      <td>19.2</td>\n",
       "    </tr>\n",
       "    <tr>\n",
       "      <th>1</th>\n",
       "      <td>1</td>\n",
       "      <td>3306</td>\n",
       "      <td>235</td>\n",
       "      <td>7.1</td>\n",
       "    </tr>\n",
       "  </tbody>\n",
       "</table>\n",
       "</div>"
      ],
      "text/plain": [
       "   products  userid_x  userid_y     %\n",
       "3         4       474       300  63.3\n",
       "4         5        30         9  30.0\n",
       "2         3      1035       298  28.8\n",
       "0         2      5081       978  19.2\n",
       "1         1      3306       235   7.1"
      ]
     },
     "execution_count": 42,
     "metadata": {},
     "output_type": "execute_result"
    }
   ],
   "source": [
    "# сгруппируем данные по количеству продуктов\n",
    "products = data_1.groupby('products').agg({'userid':'count'}).sort_values(by='userid', ascending=False).reset_index()\n",
    "\n",
    "# сгруппируем отточных клиентов\n",
    "products_churn1 = data_1.query('churn == 1')\\\n",
    "                  .groupby('products')\\\n",
    "                  .agg({'userid':'count'})\\\n",
    "                  .sort_values(by='userid', ascending=False)\\\n",
    "                  .reset_index()\n",
    "\n",
    "# объединим две таблицы для расчета процента оттока от общего кол-ва для каждой группы\n",
    "products_churn = products.merge(products_churn1, left_on='products', right_on='products')\n",
    "products_churn['%'] = 100*(products_churn['userid_y'] / products_churn['userid_x']).round(3)\n",
    "products_churn = products_churn.sort_values(by='%', ascending=False)\n",
    "products_churn"
   ]
  },
  {
   "cell_type": "markdown",
   "id": "80f2910f",
   "metadata": {},
   "source": [
    "Максимальный отток - клиенты у которых 4 продукта уходят - 63%. Минимальный отток - клиенты с 1 продуктом  - всего 7% оттока."
   ]
  },
  {
   "cell_type": "markdown",
   "id": "49f5e5ec",
   "metadata": {},
   "source": [
    "#### Рассмотрим отток по оценке собственности клиента"
   ]
  },
  {
   "cell_type": "code",
   "execution_count": 43,
   "id": "d3f6b52f",
   "metadata": {},
   "outputs": [
    {
     "data": {
      "text/html": [
       "<div>\n",
       "<style scoped>\n",
       "    .dataframe tbody tr th:only-of-type {\n",
       "        vertical-align: middle;\n",
       "    }\n",
       "\n",
       "    .dataframe tbody tr th {\n",
       "        vertical-align: top;\n",
       "    }\n",
       "\n",
       "    .dataframe thead th {\n",
       "        text-align: right;\n",
       "    }\n",
       "</style>\n",
       "<table border=\"1\" class=\"dataframe\">\n",
       "  <thead>\n",
       "    <tr style=\"text-align: right;\">\n",
       "      <th></th>\n",
       "      <th>equity</th>\n",
       "      <th>userid_x</th>\n",
       "      <th>userid_y</th>\n",
       "      <th>%</th>\n",
       "    </tr>\n",
       "  </thead>\n",
       "  <tbody>\n",
       "    <tr>\n",
       "      <th>9</th>\n",
       "      <td>9</td>\n",
       "      <td>13</td>\n",
       "      <td>7</td>\n",
       "      <td>53.8</td>\n",
       "    </tr>\n",
       "    <tr>\n",
       "      <th>7</th>\n",
       "      <td>7</td>\n",
       "      <td>79</td>\n",
       "      <td>37</td>\n",
       "      <td>46.8</td>\n",
       "    </tr>\n",
       "    <tr>\n",
       "      <th>6</th>\n",
       "      <td>6</td>\n",
       "      <td>161</td>\n",
       "      <td>58</td>\n",
       "      <td>36.0</td>\n",
       "    </tr>\n",
       "    <tr>\n",
       "      <th>8</th>\n",
       "      <td>8</td>\n",
       "      <td>17</td>\n",
       "      <td>6</td>\n",
       "      <td>35.3</td>\n",
       "    </tr>\n",
       "    <tr>\n",
       "      <th>1</th>\n",
       "      <td>5</td>\n",
       "      <td>1911</td>\n",
       "      <td>577</td>\n",
       "      <td>30.2</td>\n",
       "    </tr>\n",
       "    <tr>\n",
       "      <th>2</th>\n",
       "      <td>4</td>\n",
       "      <td>1841</td>\n",
       "      <td>465</td>\n",
       "      <td>25.3</td>\n",
       "    </tr>\n",
       "    <tr>\n",
       "      <th>3</th>\n",
       "      <td>3</td>\n",
       "      <td>1532</td>\n",
       "      <td>321</td>\n",
       "      <td>21.0</td>\n",
       "    </tr>\n",
       "    <tr>\n",
       "      <th>4</th>\n",
       "      <td>2</td>\n",
       "      <td>1046</td>\n",
       "      <td>166</td>\n",
       "      <td>15.9</td>\n",
       "    </tr>\n",
       "    <tr>\n",
       "      <th>5</th>\n",
       "      <td>1</td>\n",
       "      <td>772</td>\n",
       "      <td>93</td>\n",
       "      <td>12.0</td>\n",
       "    </tr>\n",
       "    <tr>\n",
       "      <th>0</th>\n",
       "      <td>0</td>\n",
       "      <td>2554</td>\n",
       "      <td>90</td>\n",
       "      <td>3.5</td>\n",
       "    </tr>\n",
       "  </tbody>\n",
       "</table>\n",
       "</div>"
      ],
      "text/plain": [
       "   equity  userid_x  userid_y     %\n",
       "9       9        13         7  53.8\n",
       "7       7        79        37  46.8\n",
       "6       6       161        58  36.0\n",
       "8       8        17         6  35.3\n",
       "1       5      1911       577  30.2\n",
       "2       4      1841       465  25.3\n",
       "3       3      1532       321  21.0\n",
       "4       2      1046       166  15.9\n",
       "5       1       772        93  12.0\n",
       "0       0      2554        90   3.5"
      ]
     },
     "execution_count": 43,
     "metadata": {},
     "output_type": "execute_result"
    }
   ],
   "source": [
    "# сгруппируем данные по оценке собственности\n",
    "equity = data_1.groupby('equity').agg({'userid':'count'}).sort_values(by='userid', ascending=False).reset_index()\n",
    "\n",
    "# сгруппируем отточных клиентов\n",
    "equity_churn1 = data_1.query('churn == 1')\\\n",
    "                  .groupby('equity')\\\n",
    "                  .agg({'userid':'count'})\\\n",
    "                  .sort_values(by='userid', ascending=False)\\\n",
    "                  .reset_index()\n",
    "\n",
    "# объединим две таблицы для расчета процента оттока от общего кол-ва для каждой группы\n",
    "equity_churn = equity.merge(equity_churn1, left_on='equity', right_on='equity')\n",
    "equity_churn['%'] = 100*(equity_churn['userid_y'] / equity_churn['userid_x']).round(3)\n",
    "equity_churn = equity_churn.sort_values(by='%', ascending=False)\n",
    "equity_churn "
   ]
  },
  {
   "cell_type": "markdown",
   "id": "e466c28f",
   "metadata": {},
   "source": [
    "Самый большой отток клиентов по оценке собственности равной 9 - 54% и с оценкой 7 - 47%.\\\n",
    "Самый низкий отток 4% - это клиенты с 0 оценкой недвижимости и таких клиентов больше всего (26% от вех)."
   ]
  },
  {
   "cell_type": "markdown",
   "id": "f0274bcc",
   "metadata": {},
   "source": [
    "#### Рассмотрим отток по баллам кредитного скоринга"
   ]
  },
  {
   "cell_type": "code",
   "execution_count": 44,
   "id": "845ebca5",
   "metadata": {},
   "outputs": [],
   "source": [
    "# создам функцию для категорий по баллам кредитного скоринга\n",
    "def categorize_score(income):\n",
    "    try:\n",
    "        if income <= 765:\n",
    "            return 'плохой'\n",
    "        elif 766 < income <= 895:\n",
    "            return 'средний'\n",
    "        elif 896 < income <= 950:\n",
    "            return 'хороший'  \n",
    "        elif 951 < income:\n",
    "            return 'очень хороший'\n",
    "    except:\n",
    "        pass\n",
    "data_1['score_category'] = data_1['score'].apply(categorize_score)"
   ]
  },
  {
   "cell_type": "code",
   "execution_count": 46,
   "id": "4a63d309",
   "metadata": {},
   "outputs": [
    {
     "data": {
      "text/plain": [
       "средний          6138\n",
       "хороший          2265\n",
       "плохой           1012\n",
       "очень хороший     395\n",
       "Name: score_category, dtype: int64"
      ]
     },
     "execution_count": 46,
     "metadata": {},
     "output_type": "execute_result"
    }
   ],
   "source": [
    "data_1['score_category'].value_counts()"
   ]
  },
  {
   "cell_type": "code",
   "execution_count": 48,
   "id": "7ce0788c",
   "metadata": {},
   "outputs": [
    {
     "data": {
      "text/html": [
       "<div>\n",
       "<style scoped>\n",
       "    .dataframe tbody tr th:only-of-type {\n",
       "        vertical-align: middle;\n",
       "    }\n",
       "\n",
       "    .dataframe tbody tr th {\n",
       "        vertical-align: top;\n",
       "    }\n",
       "\n",
       "    .dataframe thead th {\n",
       "        text-align: right;\n",
       "    }\n",
       "</style>\n",
       "<table border=\"1\" class=\"dataframe\">\n",
       "  <thead>\n",
       "    <tr style=\"text-align: right;\">\n",
       "      <th></th>\n",
       "      <th>score_category</th>\n",
       "      <th>userid_x</th>\n",
       "      <th>userid_y</th>\n",
       "      <th>%</th>\n",
       "    </tr>\n",
       "  </thead>\n",
       "  <tbody>\n",
       "    <tr>\n",
       "      <th>0</th>\n",
       "      <td>средний</td>\n",
       "      <td>6138</td>\n",
       "      <td>1269</td>\n",
       "      <td>20.7</td>\n",
       "    </tr>\n",
       "    <tr>\n",
       "      <th>1</th>\n",
       "      <td>хороший</td>\n",
       "      <td>2265</td>\n",
       "      <td>422</td>\n",
       "      <td>18.6</td>\n",
       "    </tr>\n",
       "    <tr>\n",
       "      <th>3</th>\n",
       "      <td>очень хороший</td>\n",
       "      <td>395</td>\n",
       "      <td>53</td>\n",
       "      <td>13.4</td>\n",
       "    </tr>\n",
       "    <tr>\n",
       "      <th>2</th>\n",
       "      <td>плохой</td>\n",
       "      <td>1012</td>\n",
       "      <td>47</td>\n",
       "      <td>4.6</td>\n",
       "    </tr>\n",
       "  </tbody>\n",
       "</table>\n",
       "</div>"
      ],
      "text/plain": [
       "  score_category  userid_x  userid_y     %\n",
       "0        средний      6138      1269  20.7\n",
       "1        хороший      2265       422  18.6\n",
       "3  очень хороший       395        53  13.4\n",
       "2         плохой      1012        47   4.6"
      ]
     },
     "execution_count": 48,
     "metadata": {},
     "output_type": "execute_result"
    }
   ],
   "source": [
    "# сгруппируем данные по баллам кредитного скоринга\n",
    "score = data_1.groupby('score_category').agg({'userid':'count'}).sort_values(by='userid', ascending=False).reset_index()\n",
    "\n",
    "# сгруппируем отточных клиентов\n",
    "score_churn1 = data_1.query('churn == 1')\\\n",
    "                  .groupby('score_category')\\\n",
    "                  .agg({'userid':'count'})\\\n",
    "                  .sort_values(by='userid', ascending=False)\\\n",
    "                  .reset_index()\n",
    "\n",
    "# объединим две таблицы для расчета процента оттока от общего кол-ва для каждой группы\n",
    "score_churn = score.merge(score_churn1, left_on='score_category', right_on='score_category')\n",
    "score_churn['%'] = 100*(score_churn['userid_y'] / score_churn['userid_x']).round(3)\n",
    "score_churn = score_churn.sort_values(by='%', ascending=False)\n",
    "score_churn "
   ]
  },
  {
   "cell_type": "code",
   "execution_count": 49,
   "id": "51256a8c",
   "metadata": {},
   "outputs": [
    {
     "data": {
      "image/png": "[encoded data removed]",
      "text/plain": [
       "<Figure size 432x288 with 1 Axes>"
      ]
     },
     "metadata": {
      "needs_background": "light"
     },
     "output_type": "display_data"
    }
   ],
   "source": [
    "# построю график\n",
    "sns.barplot(data=score_churn, x='%', y='score_category', palette='hls')\n",
    "plt.ylabel('Кредитный скоринг');"
   ]
  },
  {
   "cell_type": "markdown",
   "id": "c6dc0498",
   "metadata": {},
   "source": [
    "Клиенты со средним баллом кредитного скоринга уходят из банка больше - 21%. Самый низкий отток у плохого показателя по баллам - 5%."
   ]
  },
  {
   "cell_type": "markdown",
   "id": "abe74176",
   "metadata": {},
   "source": [
    "#### Рассмотрим отток по балансу клиента"
   ]
  },
  {
   "cell_type": "code",
   "execution_count": 50,
   "id": "e9500254",
   "metadata": {},
   "outputs": [
    {
     "data": {
      "text/plain": [
       "count         9926.0\n",
       "mean        640257.0\n",
       "std        1779053.0\n",
       "min              0.0\n",
       "25%          63958.0\n",
       "50%         376563.0\n",
       "75%         805331.0\n",
       "max      119113552.0\n",
       "Name: balance, dtype: float64"
      ]
     },
     "execution_count": 50,
     "metadata": {},
     "output_type": "execute_result"
    }
   ],
   "source": [
    "data['balance'].describe().round()"
   ]
  },
  {
   "cell_type": "code",
   "execution_count": 51,
   "id": "bf0b15d4",
   "metadata": {},
   "outputs": [],
   "source": [
    "# создам функцию для категорий по балансу клиента\n",
    "def categorize_balance(income):\n",
    "    try:\n",
    "        if income <= 10000:\n",
    "            return 'менее 10 тр'\n",
    "        elif 10001 < income <= 50000:\n",
    "            return 'от 10 до 50 тр'\n",
    "        elif 50001 < income <= 100000:\n",
    "            return 'от 50 до 100 тр'    \n",
    "        elif 100001 < income <= 200000:\n",
    "            return 'от 100 до 200 тр' \n",
    "        elif 200001 < income <= 400000:\n",
    "            return 'от 200 до 400 тр' \n",
    "        elif 400001 < income:\n",
    "            return 'более 400 тр'   \n",
    "    except:\n",
    "        pass\n",
    "data_1['balance_category'] = data_1['balance'].apply(categorize_balance)"
   ]
  },
  {
   "cell_type": "code",
   "execution_count": 53,
   "id": "890c3cf9",
   "metadata": {},
   "outputs": [
    {
     "data": {
      "text/html": [
       "<div>\n",
       "<style scoped>\n",
       "    .dataframe tbody tr th:only-of-type {\n",
       "        vertical-align: middle;\n",
       "    }\n",
       "\n",
       "    .dataframe tbody tr th {\n",
       "        vertical-align: top;\n",
       "    }\n",
       "\n",
       "    .dataframe thead th {\n",
       "        text-align: right;\n",
       "    }\n",
       "</style>\n",
       "<table border=\"1\" class=\"dataframe\">\n",
       "  <thead>\n",
       "    <tr style=\"text-align: right;\">\n",
       "      <th></th>\n",
       "      <th>balance_category</th>\n",
       "      <th>userid_x</th>\n",
       "      <th>userid_y</th>\n",
       "      <th>%</th>\n",
       "    </tr>\n",
       "  </thead>\n",
       "  <tbody>\n",
       "    <tr>\n",
       "      <th>0</th>\n",
       "      <td>более 400 тр</td>\n",
       "      <td>4763</td>\n",
       "      <td>1334</td>\n",
       "      <td>28.0</td>\n",
       "    </tr>\n",
       "    <tr>\n",
       "      <th>5</th>\n",
       "      <td>от 10 до 50 тр</td>\n",
       "      <td>110</td>\n",
       "      <td>25</td>\n",
       "      <td>22.7</td>\n",
       "    </tr>\n",
       "    <tr>\n",
       "      <th>2</th>\n",
       "      <td>от 200 до 400 тр</td>\n",
       "      <td>1830</td>\n",
       "      <td>305</td>\n",
       "      <td>16.7</td>\n",
       "    </tr>\n",
       "    <tr>\n",
       "      <th>3</th>\n",
       "      <td>от 100 до 200 тр</td>\n",
       "      <td>690</td>\n",
       "      <td>111</td>\n",
       "      <td>16.1</td>\n",
       "    </tr>\n",
       "    <tr>\n",
       "      <th>4</th>\n",
       "      <td>от 50 до 100 тр</td>\n",
       "      <td>220</td>\n",
       "      <td>27</td>\n",
       "      <td>12.3</td>\n",
       "    </tr>\n",
       "    <tr>\n",
       "      <th>1</th>\n",
       "      <td>менее 10 тр</td>\n",
       "      <td>2313</td>\n",
       "      <td>18</td>\n",
       "      <td>0.8</td>\n",
       "    </tr>\n",
       "  </tbody>\n",
       "</table>\n",
       "</div>"
      ],
      "text/plain": [
       "   balance_category  userid_x  userid_y     %\n",
       "0      более 400 тр      4763      1334  28.0\n",
       "5    от 10 до 50 тр       110        25  22.7\n",
       "2  от 200 до 400 тр      1830       305  16.7\n",
       "3  от 100 до 200 тр       690       111  16.1\n",
       "4   от 50 до 100 тр       220        27  12.3\n",
       "1       менее 10 тр      2313        18   0.8"
      ]
     },
     "execution_count": 53,
     "metadata": {},
     "output_type": "execute_result"
    }
   ],
   "source": [
    "# сгруппируем данные по балансу клиента\n",
    "balance = data_1.groupby('balance_category').agg({'userid':'count'}).sort_values(by='userid', ascending=False).reset_index()\n",
    "\n",
    "# сгруппируем отточных клиентов\n",
    "balance_churn1 = data_1.query('churn == 1')\\\n",
    "                  .groupby('balance_category')\\\n",
    "                  .agg({'userid':'count'})\\\n",
    "                  .sort_values(by='userid', ascending=False)\\\n",
    "                  .reset_index()\n",
    "\n",
    "# объединим две таблицы для расчета процента оттока от общего кол-ва для каждой группы\n",
    "balance_churn = balance.merge(balance_churn1, left_on='balance_category', right_on='balance_category')\n",
    "balance_churn['%'] = 100*(balance_churn['userid_y'] / balance_churn['userid_x']).round(3)\n",
    "balance_churn = balance_churn.sort_values(by='%', ascending=False)\n",
    "balance_churn "
   ]
  },
  {
   "cell_type": "code",
   "execution_count": 54,
   "id": "683d9e41",
   "metadata": {},
   "outputs": [
    {
     "data": {
      "image/png": "[encoded data removed]",
      "text/plain": [
       "<Figure size 432x288 with 1 Axes>"
      ]
     },
     "metadata": {
      "needs_background": "light"
     },
     "output_type": "display_data"
    }
   ],
   "source": [
    "# построение графика\n",
    "sns.barplot(data=balance_churn, x='%', y='balance_category', palette='hls')\n",
    "plt.ylabel('Баланс');"
   ]
  },
  {
   "cell_type": "markdown",
   "id": "56982eff",
   "metadata": {},
   "source": [
    "Больше всего уходят клиенты с балансом более 400тр. - большая часть клиентов банка (4763 человека) - 28%. Вторая категория по численности (2313 клиента) - с балансом менее 10тр и отток у них менее 1%."
   ]
  },
  {
   "cell_type": "markdown",
   "id": "92606e96",
   "metadata": {},
   "source": [
    "#### Рассмотрим отток по заработной плате клиента"
   ]
  },
  {
   "cell_type": "code",
   "execution_count": 55,
   "id": "83b00dc3",
   "metadata": {},
   "outputs": [
    {
     "data": {
      "text/html": [
       "<div>\n",
       "<style scoped>\n",
       "    .dataframe tbody tr th:only-of-type {\n",
       "        vertical-align: middle;\n",
       "    }\n",
       "\n",
       "    .dataframe tbody tr th {\n",
       "        vertical-align: top;\n",
       "    }\n",
       "\n",
       "    .dataframe thead th {\n",
       "        text-align: right;\n",
       "    }\n",
       "</style>\n",
       "<table border=\"1\" class=\"dataframe\">\n",
       "  <thead>\n",
       "    <tr style=\"text-align: right;\">\n",
       "      <th></th>\n",
       "      <th>userid</th>\n",
       "      <th>score</th>\n",
       "      <th>city</th>\n",
       "      <th>gender</th>\n",
       "      <th>age</th>\n",
       "      <th>equity</th>\n",
       "      <th>balance</th>\n",
       "      <th>products</th>\n",
       "      <th>credit_card</th>\n",
       "      <th>last_activity</th>\n",
       "      <th>est_salary</th>\n",
       "      <th>churn</th>\n",
       "      <th>age_category</th>\n",
       "      <th>score_category</th>\n",
       "      <th>balance_category</th>\n",
       "      <th>est_salary_category</th>\n",
       "    </tr>\n",
       "  </thead>\n",
       "  <tbody>\n",
       "    <tr>\n",
       "      <th>0</th>\n",
       "      <td>183012</td>\n",
       "      <td>850.0</td>\n",
       "      <td>Рыбинск</td>\n",
       "      <td>Ж</td>\n",
       "      <td>25</td>\n",
       "      <td>1</td>\n",
       "      <td>59214.82</td>\n",
       "      <td>2</td>\n",
       "      <td>0</td>\n",
       "      <td>1</td>\n",
       "      <td>75719.14</td>\n",
       "      <td>1</td>\n",
       "      <td>до 25</td>\n",
       "      <td>средний</td>\n",
       "      <td>от 50 до 100 тр</td>\n",
       "      <td>средний доход</td>\n",
       "    </tr>\n",
       "    <tr>\n",
       "      <th>1</th>\n",
       "      <td>146556</td>\n",
       "      <td>861.0</td>\n",
       "      <td>Рыбинск</td>\n",
       "      <td>Ж</td>\n",
       "      <td>37</td>\n",
       "      <td>5</td>\n",
       "      <td>850594.33</td>\n",
       "      <td>3</td>\n",
       "      <td>1</td>\n",
       "      <td>0</td>\n",
       "      <td>86621.77</td>\n",
       "      <td>0</td>\n",
       "      <td>от 35 до 45</td>\n",
       "      <td>средний</td>\n",
       "      <td>более 400 тр</td>\n",
       "      <td>средний доход</td>\n",
       "    </tr>\n",
       "    <tr>\n",
       "      <th>2</th>\n",
       "      <td>120722</td>\n",
       "      <td>892.0</td>\n",
       "      <td>Рыбинск</td>\n",
       "      <td>Ж</td>\n",
       "      <td>30</td>\n",
       "      <td>0</td>\n",
       "      <td>0.00</td>\n",
       "      <td>1</td>\n",
       "      <td>1</td>\n",
       "      <td>1</td>\n",
       "      <td>107683.34</td>\n",
       "      <td>0</td>\n",
       "      <td>от 25 до 35</td>\n",
       "      <td>средний</td>\n",
       "      <td>менее 10 тр</td>\n",
       "      <td>высокий доход</td>\n",
       "    </tr>\n",
       "    <tr>\n",
       "      <th>3</th>\n",
       "      <td>225363</td>\n",
       "      <td>866.0</td>\n",
       "      <td>Ярославль</td>\n",
       "      <td>Ж</td>\n",
       "      <td>51</td>\n",
       "      <td>5</td>\n",
       "      <td>1524746.26</td>\n",
       "      <td>2</td>\n",
       "      <td>0</td>\n",
       "      <td>1</td>\n",
       "      <td>174423.53</td>\n",
       "      <td>1</td>\n",
       "      <td>от 45 до 55</td>\n",
       "      <td>средний</td>\n",
       "      <td>более 400 тр</td>\n",
       "      <td>высокий доход</td>\n",
       "    </tr>\n",
       "    <tr>\n",
       "      <th>4</th>\n",
       "      <td>157978</td>\n",
       "      <td>730.0</td>\n",
       "      <td>Ярославль</td>\n",
       "      <td>М</td>\n",
       "      <td>34</td>\n",
       "      <td>5</td>\n",
       "      <td>174.00</td>\n",
       "      <td>1</td>\n",
       "      <td>1</td>\n",
       "      <td>0</td>\n",
       "      <td>67353.16</td>\n",
       "      <td>1</td>\n",
       "      <td>от 25 до 35</td>\n",
       "      <td>плохой</td>\n",
       "      <td>менее 10 тр</td>\n",
       "      <td>средний доход</td>\n",
       "    </tr>\n",
       "    <tr>\n",
       "      <th>...</th>\n",
       "      <td>...</td>\n",
       "      <td>...</td>\n",
       "      <td>...</td>\n",
       "      <td>...</td>\n",
       "      <td>...</td>\n",
       "      <td>...</td>\n",
       "      <td>...</td>\n",
       "      <td>...</td>\n",
       "      <td>...</td>\n",
       "      <td>...</td>\n",
       "      <td>...</td>\n",
       "      <td>...</td>\n",
       "      <td>...</td>\n",
       "      <td>...</td>\n",
       "      <td>...</td>\n",
       "      <td>...</td>\n",
       "    </tr>\n",
       "    <tr>\n",
       "      <th>9922</th>\n",
       "      <td>120553</td>\n",
       "      <td>814.0</td>\n",
       "      <td>Рыбинск</td>\n",
       "      <td>М</td>\n",
       "      <td>27</td>\n",
       "      <td>1</td>\n",
       "      <td>78144.65</td>\n",
       "      <td>1</td>\n",
       "      <td>0</td>\n",
       "      <td>1</td>\n",
       "      <td>18943.64</td>\n",
       "      <td>0</td>\n",
       "      <td>от 25 до 35</td>\n",
       "      <td>средний</td>\n",
       "      <td>от 50 до 100 тр</td>\n",
       "      <td>низкий доход</td>\n",
       "    </tr>\n",
       "    <tr>\n",
       "      <th>9923</th>\n",
       "      <td>139170</td>\n",
       "      <td>894.0</td>\n",
       "      <td>Ярославль</td>\n",
       "      <td>М</td>\n",
       "      <td>46</td>\n",
       "      <td>0</td>\n",
       "      <td>0.00</td>\n",
       "      <td>1</td>\n",
       "      <td>1</td>\n",
       "      <td>0</td>\n",
       "      <td>196898.29</td>\n",
       "      <td>0</td>\n",
       "      <td>от 45 до 55</td>\n",
       "      <td>средний</td>\n",
       "      <td>менее 10 тр</td>\n",
       "      <td>высокий доход</td>\n",
       "    </tr>\n",
       "    <tr>\n",
       "      <th>9924</th>\n",
       "      <td>115639</td>\n",
       "      <td>903.0</td>\n",
       "      <td>Ярославль</td>\n",
       "      <td>М</td>\n",
       "      <td>24</td>\n",
       "      <td>0</td>\n",
       "      <td>0.00</td>\n",
       "      <td>2</td>\n",
       "      <td>1</td>\n",
       "      <td>1</td>\n",
       "      <td>108905.09</td>\n",
       "      <td>0</td>\n",
       "      <td>до 25</td>\n",
       "      <td>хороший</td>\n",
       "      <td>менее 10 тр</td>\n",
       "      <td>высокий доход</td>\n",
       "    </tr>\n",
       "    <tr>\n",
       "      <th>9925</th>\n",
       "      <td>148700</td>\n",
       "      <td>777.0</td>\n",
       "      <td>Ярославль</td>\n",
       "      <td>Ж</td>\n",
       "      <td>68</td>\n",
       "      <td>3</td>\n",
       "      <td>865457.97</td>\n",
       "      <td>3</td>\n",
       "      <td>0</td>\n",
       "      <td>1</td>\n",
       "      <td>86874.90</td>\n",
       "      <td>0</td>\n",
       "      <td>от 65</td>\n",
       "      <td>средний</td>\n",
       "      <td>более 400 тр</td>\n",
       "      <td>средний доход</td>\n",
       "    </tr>\n",
       "    <tr>\n",
       "      <th>9926</th>\n",
       "      <td>96267</td>\n",
       "      <td>828.0</td>\n",
       "      <td>Рыбинск</td>\n",
       "      <td>Ж</td>\n",
       "      <td>58</td>\n",
       "      <td>3</td>\n",
       "      <td>1180886.70</td>\n",
       "      <td>4</td>\n",
       "      <td>0</td>\n",
       "      <td>1</td>\n",
       "      <td>21422.37</td>\n",
       "      <td>0</td>\n",
       "      <td>от 55 до 65</td>\n",
       "      <td>средний</td>\n",
       "      <td>более 400 тр</td>\n",
       "      <td>низкий доход</td>\n",
       "    </tr>\n",
       "  </tbody>\n",
       "</table>\n",
       "<p>9926 rows × 16 columns</p>\n",
       "</div>"
      ],
      "text/plain": [
       "      userid  score       city gender  age  equity     balance  products  \\\n",
       "0     183012  850.0    Рыбинск      Ж   25       1    59214.82         2   \n",
       "1     146556  861.0    Рыбинск      Ж   37       5   850594.33         3   \n",
       "2     120722  892.0    Рыбинск      Ж   30       0        0.00         1   \n",
       "3     225363  866.0  Ярославль      Ж   51       5  1524746.26         2   \n",
       "4     157978  730.0  Ярославль      М   34       5      174.00         1   \n",
       "...      ...    ...        ...    ...  ...     ...         ...       ...   \n",
       "9922  120553  814.0    Рыбинск      М   27       1    78144.65         1   \n",
       "9923  139170  894.0  Ярославль      М   46       0        0.00         1   \n",
       "9924  115639  903.0  Ярославль      М   24       0        0.00         2   \n",
       "9925  148700  777.0  Ярославль      Ж   68       3   865457.97         3   \n",
       "9926   96267  828.0    Рыбинск      Ж   58       3  1180886.70         4   \n",
       "\n",
       "      credit_card  last_activity  est_salary  churn age_category  \\\n",
       "0               0              1    75719.14      1        до 25   \n",
       "1               1              0    86621.77      0  от 35 до 45   \n",
       "2               1              1   107683.34      0  от 25 до 35   \n",
       "3               0              1   174423.53      1  от 45 до 55   \n",
       "4               1              0    67353.16      1  от 25 до 35   \n",
       "...           ...            ...         ...    ...          ...   \n",
       "9922            0              1    18943.64      0  от 25 до 35   \n",
       "9923            1              0   196898.29      0  от 45 до 55   \n",
       "9924            1              1   108905.09      0        до 25   \n",
       "9925            0              1    86874.90      0        от 65   \n",
       "9926            0              1    21422.37      0  от 55 до 65   \n",
       "\n",
       "     score_category balance_category est_salary_category  \n",
       "0           средний  от 50 до 100 тр       средний доход  \n",
       "1           средний     более 400 тр       средний доход  \n",
       "2           средний      менее 10 тр       высокий доход  \n",
       "3           средний     более 400 тр       высокий доход  \n",
       "4            плохой      менее 10 тр       средний доход  \n",
       "...             ...              ...                 ...  \n",
       "9922        средний  от 50 до 100 тр        низкий доход  \n",
       "9923        средний      менее 10 тр       высокий доход  \n",
       "9924        хороший      менее 10 тр       высокий доход  \n",
       "9925        средний     более 400 тр       средний доход  \n",
       "9926        средний     более 400 тр        низкий доход  \n",
       "\n",
       "[9926 rows x 16 columns]"
      ]
     },
     "execution_count": 55,
     "metadata": {},
     "output_type": "execute_result"
    }
   ],
   "source": [
    "# создам функцию для категорий по заработной плате клиента\n",
    "def categorize_est_salary(income):\n",
    "    if income <= 50000:\n",
    "        return 'низкий доход'\n",
    "    elif income <= 100000:\n",
    "        return 'средний доход'\n",
    "    else:\n",
    "        return 'высокий доход'\n",
    "data_1['est_salary_category'] = data_1['est_salary'].apply(categorize_est_salary)\n",
    "data_1"
   ]
  },
  {
   "cell_type": "code",
   "execution_count": 57,
   "id": "45a0aa04",
   "metadata": {},
   "outputs": [
    {
     "data": {
      "text/html": [
       "<div>\n",
       "<style scoped>\n",
       "    .dataframe tbody tr th:only-of-type {\n",
       "        vertical-align: middle;\n",
       "    }\n",
       "\n",
       "    .dataframe tbody tr th {\n",
       "        vertical-align: top;\n",
       "    }\n",
       "\n",
       "    .dataframe thead th {\n",
       "        text-align: right;\n",
       "    }\n",
       "</style>\n",
       "<table border=\"1\" class=\"dataframe\">\n",
       "  <thead>\n",
       "    <tr style=\"text-align: right;\">\n",
       "      <th></th>\n",
       "      <th>est_salary_category</th>\n",
       "      <th>userid_x</th>\n",
       "      <th>userid_y</th>\n",
       "      <th>%</th>\n",
       "    </tr>\n",
       "  </thead>\n",
       "  <tbody>\n",
       "    <tr>\n",
       "      <th>0</th>\n",
       "      <td>высокий доход</td>\n",
       "      <td>6022</td>\n",
       "      <td>1195</td>\n",
       "      <td>19.8</td>\n",
       "    </tr>\n",
       "    <tr>\n",
       "      <th>1</th>\n",
       "      <td>средний доход</td>\n",
       "      <td>2712</td>\n",
       "      <td>451</td>\n",
       "      <td>16.6</td>\n",
       "    </tr>\n",
       "    <tr>\n",
       "      <th>2</th>\n",
       "      <td>низкий доход</td>\n",
       "      <td>1192</td>\n",
       "      <td>174</td>\n",
       "      <td>14.6</td>\n",
       "    </tr>\n",
       "  </tbody>\n",
       "</table>\n",
       "</div>"
      ],
      "text/plain": [
       "  est_salary_category  userid_x  userid_y     %\n",
       "0       высокий доход      6022      1195  19.8\n",
       "1       средний доход      2712       451  16.6\n",
       "2        низкий доход      1192       174  14.6"
      ]
     },
     "execution_count": 57,
     "metadata": {},
     "output_type": "execute_result"
    }
   ],
   "source": [
    "# сгруппируем данные по заработной плате клиента\n",
    "est_salary = data_1.groupby('est_salary_category').agg({'userid':'count'}).sort_values(by='userid', ascending=False).reset_index()\n",
    "\n",
    "# сгруппируем отточных клиентов\n",
    "est_salary_churn1 = data_1.query('churn == 1')\\\n",
    "                  .groupby('est_salary_category')\\\n",
    "                  .agg({'userid':'count'})\\\n",
    "                  .sort_values(by='userid', ascending=False)\\\n",
    "                  .reset_index()\n",
    "\n",
    "# объединим две таблицы для расчета процента оттока от общего кол-ва для каждой группы\n",
    "est_salary_churn = est_salary.merge(est_salary_churn1, left_on='est_salary_category', right_on='est_salary_category')\n",
    "est_salary_churn['%'] = 100*(est_salary_churn['userid_y'] / est_salary_churn['userid_x']).round(3)\n",
    "est_salary_churn = est_salary_churn.sort_values(by='%', ascending=False)\n",
    "est_salary_churn "
   ]
  },
  {
   "cell_type": "code",
   "execution_count": 58,
   "id": "854f1677",
   "metadata": {},
   "outputs": [
    {
     "data": {
      "image/png": "[encoded data removed]",
      "text/plain": [
       "<Figure size 432x288 with 1 Axes>"
      ]
     },
     "metadata": {
      "needs_background": "light"
     },
     "output_type": "display_data"
    }
   ],
   "source": [
    "# построю график\n",
    "sns.barplot(data=est_salary_churn, x='%', y='est_salary_category', palette='hls') \n",
    "plt.ylabel('Категория заработной платы');"
   ]
  },
  {
   "cell_type": "markdown",
   "id": "085b88c2",
   "metadata": {},
   "source": [
    "Максимальный отток у клиентов с высоким доходом (большая часть клиентов банка - 6022 человека) - 20%. Процент ухода клиентов с минимальным доходом - 15%"
   ]
  },
  {
   "cell_type": "markdown",
   "id": "63a9f630",
   "metadata": {},
   "source": [
    "#### Матрица корреляции"
   ]
  },
  {
   "cell_type": "markdown",
   "id": "f6781314",
   "metadata": {},
   "source": [
    "Создадим столбцы для построения корреляции в дальнейшем. Из данных о городе и о поле клиента добавим дополнительные столбцы с  бинарными данными для каждого признака."
   ]
  },
  {
   "cell_type": "code",
   "execution_count": 59,
   "id": "da17c4f6",
   "metadata": {},
   "outputs": [],
   "source": [
    "# копирую столбец с городом что бы остаивть общую информацию в датасете \n",
    "data_1['city1'] = data_1['city'].copy()\n",
    "data_1 = pd.get_dummies(data_1, columns=['city'], drop_first= False )"
   ]
  },
  {
   "cell_type": "code",
   "execution_count": 60,
   "id": "32ae38c3",
   "metadata": {},
   "outputs": [
    {
     "data": {
      "text/html": [
       "<div>\n",
       "<style scoped>\n",
       "    .dataframe tbody tr th:only-of-type {\n",
       "        vertical-align: middle;\n",
       "    }\n",
       "\n",
       "    .dataframe tbody tr th {\n",
       "        vertical-align: top;\n",
       "    }\n",
       "\n",
       "    .dataframe thead th {\n",
       "        text-align: right;\n",
       "    }\n",
       "</style>\n",
       "<table border=\"1\" class=\"dataframe\">\n",
       "  <thead>\n",
       "    <tr style=\"text-align: right;\">\n",
       "      <th></th>\n",
       "      <th>userid</th>\n",
       "      <th>score</th>\n",
       "      <th>age</th>\n",
       "      <th>equity</th>\n",
       "      <th>balance</th>\n",
       "      <th>products</th>\n",
       "      <th>credit_card</th>\n",
       "      <th>last_activity</th>\n",
       "      <th>est_salary</th>\n",
       "      <th>churn</th>\n",
       "      <th>...</th>\n",
       "      <th>score_category</th>\n",
       "      <th>balance_category</th>\n",
       "      <th>est_salary_category</th>\n",
       "      <th>city1</th>\n",
       "      <th>city_Ростов</th>\n",
       "      <th>city_Рыбинск</th>\n",
       "      <th>city_Ярославль</th>\n",
       "      <th>gender1</th>\n",
       "      <th>gender_Ж</th>\n",
       "      <th>gender_М</th>\n",
       "    </tr>\n",
       "  </thead>\n",
       "  <tbody>\n",
       "    <tr>\n",
       "      <th>3990</th>\n",
       "      <td>214425</td>\n",
       "      <td>893.0</td>\n",
       "      <td>50</td>\n",
       "      <td>0</td>\n",
       "      <td>0.00</td>\n",
       "      <td>1</td>\n",
       "      <td>1</td>\n",
       "      <td>0</td>\n",
       "      <td>181082.83</td>\n",
       "      <td>0</td>\n",
       "      <td>...</td>\n",
       "      <td>средний</td>\n",
       "      <td>менее 10 тр</td>\n",
       "      <td>высокий доход</td>\n",
       "      <td>Ярославль</td>\n",
       "      <td>0</td>\n",
       "      <td>0</td>\n",
       "      <td>1</td>\n",
       "      <td>Ж</td>\n",
       "      <td>1</td>\n",
       "      <td>0</td>\n",
       "    </tr>\n",
       "    <tr>\n",
       "      <th>3347</th>\n",
       "      <td>195785</td>\n",
       "      <td>908.0</td>\n",
       "      <td>38</td>\n",
       "      <td>4</td>\n",
       "      <td>1450392.90</td>\n",
       "      <td>2</td>\n",
       "      <td>1</td>\n",
       "      <td>1</td>\n",
       "      <td>105294.37</td>\n",
       "      <td>0</td>\n",
       "      <td>...</td>\n",
       "      <td>хороший</td>\n",
       "      <td>более 400 тр</td>\n",
       "      <td>высокий доход</td>\n",
       "      <td>Рыбинск</td>\n",
       "      <td>0</td>\n",
       "      <td>1</td>\n",
       "      <td>0</td>\n",
       "      <td>М</td>\n",
       "      <td>0</td>\n",
       "      <td>1</td>\n",
       "    </tr>\n",
       "    <tr>\n",
       "      <th>9509</th>\n",
       "      <td>178742</td>\n",
       "      <td>806.0</td>\n",
       "      <td>33</td>\n",
       "      <td>4</td>\n",
       "      <td>380401.33</td>\n",
       "      <td>2</td>\n",
       "      <td>1</td>\n",
       "      <td>0</td>\n",
       "      <td>121230.38</td>\n",
       "      <td>0</td>\n",
       "      <td>...</td>\n",
       "      <td>средний</td>\n",
       "      <td>от 200 до 400 тр</td>\n",
       "      <td>высокий доход</td>\n",
       "      <td>Ярославль</td>\n",
       "      <td>0</td>\n",
       "      <td>0</td>\n",
       "      <td>1</td>\n",
       "      <td>Ж</td>\n",
       "      <td>1</td>\n",
       "      <td>0</td>\n",
       "    </tr>\n",
       "    <tr>\n",
       "      <th>5178</th>\n",
       "      <td>165475</td>\n",
       "      <td>910.0</td>\n",
       "      <td>39</td>\n",
       "      <td>4</td>\n",
       "      <td>1856031.16</td>\n",
       "      <td>1</td>\n",
       "      <td>1</td>\n",
       "      <td>1</td>\n",
       "      <td>134467.32</td>\n",
       "      <td>0</td>\n",
       "      <td>...</td>\n",
       "      <td>хороший</td>\n",
       "      <td>более 400 тр</td>\n",
       "      <td>высокий доход</td>\n",
       "      <td>Рыбинск</td>\n",
       "      <td>0</td>\n",
       "      <td>1</td>\n",
       "      <td>0</td>\n",
       "      <td>М</td>\n",
       "      <td>0</td>\n",
       "      <td>1</td>\n",
       "    </tr>\n",
       "    <tr>\n",
       "      <th>2640</th>\n",
       "      <td>126478</td>\n",
       "      <td>884.0</td>\n",
       "      <td>57</td>\n",
       "      <td>0</td>\n",
       "      <td>0.00</td>\n",
       "      <td>2</td>\n",
       "      <td>1</td>\n",
       "      <td>1</td>\n",
       "      <td>97198.09</td>\n",
       "      <td>0</td>\n",
       "      <td>...</td>\n",
       "      <td>средний</td>\n",
       "      <td>менее 10 тр</td>\n",
       "      <td>средний доход</td>\n",
       "      <td>Рыбинск</td>\n",
       "      <td>0</td>\n",
       "      <td>1</td>\n",
       "      <td>0</td>\n",
       "      <td>Ж</td>\n",
       "      <td>1</td>\n",
       "      <td>0</td>\n",
       "    </tr>\n",
       "    <tr>\n",
       "      <th>1089</th>\n",
       "      <td>205741</td>\n",
       "      <td>849.0</td>\n",
       "      <td>63</td>\n",
       "      <td>5</td>\n",
       "      <td>652880.79</td>\n",
       "      <td>2</td>\n",
       "      <td>0</td>\n",
       "      <td>1</td>\n",
       "      <td>90334.21</td>\n",
       "      <td>0</td>\n",
       "      <td>...</td>\n",
       "      <td>средний</td>\n",
       "      <td>более 400 тр</td>\n",
       "      <td>средний доход</td>\n",
       "      <td>Ростов</td>\n",
       "      <td>1</td>\n",
       "      <td>0</td>\n",
       "      <td>0</td>\n",
       "      <td>Ж</td>\n",
       "      <td>1</td>\n",
       "      <td>0</td>\n",
       "    </tr>\n",
       "    <tr>\n",
       "      <th>8176</th>\n",
       "      <td>150795</td>\n",
       "      <td>949.0</td>\n",
       "      <td>33</td>\n",
       "      <td>4</td>\n",
       "      <td>1378133.39</td>\n",
       "      <td>1</td>\n",
       "      <td>1</td>\n",
       "      <td>1</td>\n",
       "      <td>189594.68</td>\n",
       "      <td>0</td>\n",
       "      <td>...</td>\n",
       "      <td>хороший</td>\n",
       "      <td>более 400 тр</td>\n",
       "      <td>высокий доход</td>\n",
       "      <td>Рыбинск</td>\n",
       "      <td>0</td>\n",
       "      <td>1</td>\n",
       "      <td>0</td>\n",
       "      <td>Ж</td>\n",
       "      <td>1</td>\n",
       "      <td>0</td>\n",
       "    </tr>\n",
       "    <tr>\n",
       "      <th>9172</th>\n",
       "      <td>116750</td>\n",
       "      <td>776.0</td>\n",
       "      <td>46</td>\n",
       "      <td>0</td>\n",
       "      <td>0.00</td>\n",
       "      <td>1</td>\n",
       "      <td>1</td>\n",
       "      <td>0</td>\n",
       "      <td>540423.84</td>\n",
       "      <td>1</td>\n",
       "      <td>...</td>\n",
       "      <td>средний</td>\n",
       "      <td>менее 10 тр</td>\n",
       "      <td>высокий доход</td>\n",
       "      <td>Ярославль</td>\n",
       "      <td>0</td>\n",
       "      <td>0</td>\n",
       "      <td>1</td>\n",
       "      <td>М</td>\n",
       "      <td>0</td>\n",
       "      <td>1</td>\n",
       "    </tr>\n",
       "    <tr>\n",
       "      <th>986</th>\n",
       "      <td>226747</td>\n",
       "      <td>878.0</td>\n",
       "      <td>37</td>\n",
       "      <td>5</td>\n",
       "      <td>1071062.78</td>\n",
       "      <td>2</td>\n",
       "      <td>0</td>\n",
       "      <td>1</td>\n",
       "      <td>167710.15</td>\n",
       "      <td>0</td>\n",
       "      <td>...</td>\n",
       "      <td>средний</td>\n",
       "      <td>более 400 тр</td>\n",
       "      <td>высокий доход</td>\n",
       "      <td>Рыбинск</td>\n",
       "      <td>0</td>\n",
       "      <td>1</td>\n",
       "      <td>0</td>\n",
       "      <td>Ж</td>\n",
       "      <td>1</td>\n",
       "      <td>0</td>\n",
       "    </tr>\n",
       "    <tr>\n",
       "      <th>320</th>\n",
       "      <td>212515</td>\n",
       "      <td>789.0</td>\n",
       "      <td>33</td>\n",
       "      <td>3</td>\n",
       "      <td>296676.19</td>\n",
       "      <td>2</td>\n",
       "      <td>1</td>\n",
       "      <td>0</td>\n",
       "      <td>64523.48</td>\n",
       "      <td>0</td>\n",
       "      <td>...</td>\n",
       "      <td>средний</td>\n",
       "      <td>от 200 до 400 тр</td>\n",
       "      <td>средний доход</td>\n",
       "      <td>Ярославль</td>\n",
       "      <td>0</td>\n",
       "      <td>0</td>\n",
       "      <td>1</td>\n",
       "      <td>М</td>\n",
       "      <td>0</td>\n",
       "      <td>1</td>\n",
       "    </tr>\n",
       "  </tbody>\n",
       "</table>\n",
       "<p>10 rows × 21 columns</p>\n",
       "</div>"
      ],
      "text/plain": [
       "      userid  score  age  equity     balance  products  credit_card  \\\n",
       "3990  214425  893.0   50       0        0.00         1            1   \n",
       "3347  195785  908.0   38       4  1450392.90         2            1   \n",
       "9509  178742  806.0   33       4   380401.33         2            1   \n",
       "5178  165475  910.0   39       4  1856031.16         1            1   \n",
       "2640  126478  884.0   57       0        0.00         2            1   \n",
       "1089  205741  849.0   63       5   652880.79         2            0   \n",
       "8176  150795  949.0   33       4  1378133.39         1            1   \n",
       "9172  116750  776.0   46       0        0.00         1            1   \n",
       "986   226747  878.0   37       5  1071062.78         2            0   \n",
       "320   212515  789.0   33       3   296676.19         2            1   \n",
       "\n",
       "      last_activity  est_salary  churn  ... score_category  balance_category  \\\n",
       "3990              0   181082.83      0  ...        средний       менее 10 тр   \n",
       "3347              1   105294.37      0  ...        хороший      более 400 тр   \n",
       "9509              0   121230.38      0  ...        средний  от 200 до 400 тр   \n",
       "5178              1   134467.32      0  ...        хороший      более 400 тр   \n",
       "2640              1    97198.09      0  ...        средний       менее 10 тр   \n",
       "1089              1    90334.21      0  ...        средний      более 400 тр   \n",
       "8176              1   189594.68      0  ...        хороший      более 400 тр   \n",
       "9172              0   540423.84      1  ...        средний       менее 10 тр   \n",
       "986               1   167710.15      0  ...        средний      более 400 тр   \n",
       "320               0    64523.48      0  ...        средний  от 200 до 400 тр   \n",
       "\n",
       "     est_salary_category      city1 city_Ростов  city_Рыбинск  city_Ярославль  \\\n",
       "3990       высокий доход  Ярославль           0             0               1   \n",
       "3347       высокий доход    Рыбинск           0             1               0   \n",
       "9509       высокий доход  Ярославль           0             0               1   \n",
       "5178       высокий доход    Рыбинск           0             1               0   \n",
       "2640       средний доход    Рыбинск           0             1               0   \n",
       "1089       средний доход     Ростов           1             0               0   \n",
       "8176       высокий доход    Рыбинск           0             1               0   \n",
       "9172       высокий доход  Ярославль           0             0               1   \n",
       "986        высокий доход    Рыбинск           0             1               0   \n",
       "320        средний доход  Ярославль           0             0               1   \n",
       "\n",
       "      gender1 gender_Ж  gender_М  \n",
       "3990        Ж        1         0  \n",
       "3347        М        0         1  \n",
       "9509        Ж        1         0  \n",
       "5178        М        0         1  \n",
       "2640        Ж        1         0  \n",
       "1089        Ж        1         0  \n",
       "8176        Ж        1         0  \n",
       "9172        М        0         1  \n",
       "986         Ж        1         0  \n",
       "320         М        0         1  \n",
       "\n",
       "[10 rows x 21 columns]"
      ]
     },
     "execution_count": 60,
     "metadata": {},
     "output_type": "execute_result"
    }
   ],
   "source": [
    "# копирую столбец с полом что бы остаивть общую информацию в датасете \n",
    "data_1['gender1'] = data_1['gender'].copy()\n",
    "data_1 = pd.get_dummies(data_1, columns=['gender'], drop_first= False )\n",
    "data_1.sample(10)"
   ]
  },
  {
   "cell_type": "code",
   "execution_count": 62,
   "id": "ac3ed8ca",
   "metadata": {},
   "outputs": [
    {
     "data": {
      "image/png": "[encoded data removed]",
      "text/plain": [
       "<Figure size 1800x1080 with 2 Axes>"
      ]
     },
     "metadata": {
      "needs_background": "light"
     },
     "output_type": "display_data"
    }
   ],
   "source": [
    "#построим матрицу корреляций\n",
    "plt.figure(figsize=(25,15))\n",
    "sns.heatmap(data = data_1.corr(), annot=True, square=True, cmap='BuPu')\n",
    "plt.title('Матрица корреляций')\n",
    "plt.show()"
   ]
  },
  {
   "cell_type": "markdown",
   "id": "4e789d9d",
   "metadata": {},
   "source": [
    "По матрице корреляции больший отток по продуктам и по приблизительной оценке собственности клиента - коэффициент корреляции по шкале Чеддока слабо положительный и равен 0,3.\\\n",
    "Следует рассмотреть показатели products и equity в сегменте с другим признаком."
   ]
  },
  {
   "cell_type": "markdown",
   "id": "4a61fb52",
   "metadata": {},
   "source": [
    "### Вывод:\n",
    "\n",
    "- Больший отток клиентов с Ярославля -19% и с Ростова с разницей в 0,2%.\n",
    "- Мужчин уходит больше чем женщин - 24% оттока среди мужчин\n",
    "- Отток клиентов без кредитки больше - 26%, чем с кредитной картой - 15%.\n",
    "- Чаще покидают банк активные клиенты - 25% от всех активных\n",
    "- Клиенты от 25 до 35 и от 45 до 55 лет уходят больше всего чем остальные - 22% оттока у каждой из групп. Клиенты от 65 - 2% оттока.\n",
    "- Максимальный отток - клиенты у которых 4 продукта - 63%. Минимальный отток - клиенты с 1 продуктом  - всего 7%.\n",
    "- Самый большой отток клиентов по оценке собственности равной 9 - 54% и с оценкой 7 - 47%. Самый низкий отток 4% - это клиенты с 0 оценкой недвижимости и таких клиентов больше всего (26% от вех).\\\n",
    "- Клиенты со средним баллом кредитного скоринга уходят из банка больше - 21%. Самый низкий отток у низкого показателя по баллам - 5%.\n",
    "- Большая часть клиентов банка (4763 человека) с балансом более 400тр. больше всего уходят - 28%. Вторая категория по численности (2313 клиента) - с балансом менее 10тр и отток у них менее 1%.\n",
    "- Большая часть клиентов банка (6022 человека) с высоким доходом имеют максимальный отток - 20%. Процент ухода клиентов с минимальным доходом - 15%.\n",
    "- По матрице корреляции больший отток по продуктам и по оценке собственности клиента - коэффициент корреляции по шкале Чеддока слабо положительный и равен 0,3."
   ]
  },
  {
   "cell_type": "markdown",
   "id": "d44aaff7",
   "metadata": {},
   "source": [
    "## Шаг. Сегментация пользователя каждого города."
   ]
  },
  {
   "cell_type": "markdown",
   "id": "c908e996",
   "metadata": {},
   "source": [
    "##### Сгруппирую данные по трём признакам отточности в сегмент: женщины, с балансом более 400тр., без кредитной карты:"
   ]
  },
  {
   "cell_type": "code",
   "execution_count": 212,
   "id": "b116b6f4",
   "metadata": {},
   "outputs": [
    {
     "name": "stdout",
     "output_type": "stream",
     "text": [
      "Общее число клиентов - 804\n",
      "Процент отточных клиентов - 49%\n"
     ]
    }
   ],
   "source": [
    "segment_1 = data_1.query('gender1 == \"М\" & balance_category == \"более 400 тр\" & balance_category == \"более 400 тр\" & credit_card == 0')\n",
    "print(f'Общее число клиентов -', segment_1['userid'].count())\n",
    "print('Процент отточных клиентов - {:.0%}'.format((segment_1.query('churn == 1')['userid'].count())/ (segment_1['userid'].count()))) "
   ]
  },
  {
   "cell_type": "markdown",
   "id": "9711b681",
   "metadata": {},
   "source": [
    "Отток среди женщин, с балансом более 400тр., без кредитной карты составил 49%(около 400человек) - Следует порекомендовать банку предложить услуги кредитных карт или накопительных счетов, тк почти каждый второй в этой категории покидает банк."
   ]
  },
  {
   "cell_type": "markdown",
   "id": "e45f2741",
   "metadata": {},
   "source": [
    "##### Сгруппирую данные по трём признакам отточности в сегмент: Клиенты от 25 до 35 и от 45 до 55 с высоким доходом:"
   ]
  },
  {
   "cell_type": "code",
   "execution_count": 224,
   "id": "a8d8c912",
   "metadata": {},
   "outputs": [
    {
     "name": "stdout",
     "output_type": "stream",
     "text": [
      "Общее число клиентов - 2747\n",
      "Процент отточных клиентов - 24%\n"
     ]
    }
   ],
   "source": [
    "segment_2 = data_1.query('(age_category == \"от 25 до 35\" | age_category == \"от 45 до 55\") & est_salary_category == \"высокий доход\" ')\n",
    "print(f'Общее число клиентов -', segment_2['userid'].count())\n",
    "print('Процент отточных клиентов - {:.0%}'.format((segment_2.query('churn == 1')['userid'].count())/ (segment_2['userid'].count()))) "
   ]
  },
  {
   "cell_type": "markdown",
   "id": "b8ef7bde",
   "metadata": {},
   "source": [
    "Отток среди клиентов в возрасте 25-35 и 45-55 с высоким доходом - 24% (около 700 человек). Рекомендуется пропаботать программу удержания данных котегорий клиентов с доходом выше 400т.р, возможно это накопительные вклады."
   ]
  },
  {
   "cell_type": "markdown",
   "id": "ac8e2fd2",
   "metadata": {},
   "source": [
    "## Шаг. Портреты пользователя каждого города."
   ]
  },
  {
   "cell_type": "markdown",
   "id": "7081ce15",
   "metadata": {},
   "source": [
    "#### Выявим отточность клиентов в зависимости от оценки недвижимости:"
   ]
  },
  {
   "cell_type": "code",
   "execution_count": 63,
   "id": "3289895a",
   "metadata": {},
   "outputs": [],
   "source": [
    "equity_pivot = data_1.pivot_table(index = 'city1', values = 'churn', aggfunc = 'mean', columns='equity')\\\n",
    "                     .sort_values(by = 'city1', ascending=False)\\\n",
    "                     .round(2) #.reset_index()"
   ]
  },
  {
   "cell_type": "code",
   "execution_count": 64,
   "id": "53057855",
   "metadata": {},
   "outputs": [
    {
     "data": {
      "image/png": "[encoded data removed]",
      "text/plain": [
       "<Figure size 1440x360 with 2 Axes>"
      ]
     },
     "metadata": {
      "needs_background": "light"
     },
     "output_type": "display_data"
    }
   ],
   "source": [
    "plt.figure(figsize=(20, 5))\n",
    "sns.heatmap(equity_pivot, cmap='BuPu', annot=True, fmt='.2f')\n",
    "plt.title('Отток по оценке недвижимости клиента')\n",
    "plt.xlabel('Оценка недвижимости') \n",
    "plt.ylabel('Город')\n",
    "plt.show()"
   ]
  },
  {
   "cell_type": "markdown",
   "id": "c6a9cf9f",
   "metadata": {},
   "source": [
    "Для города Ростов выявлена большая отточность клиентов с наивысшей оценкой недвижимости - 9.\\\n",
    "Для города Ярославль - оценка 7 и 9 выявили наибольший отток клиентов.\\\n",
    "Для города Рыбинск больший отток клиентов с оценкой 5."
   ]
  },
  {
   "cell_type": "markdown",
   "id": "f92718eb",
   "metadata": {},
   "source": [
    "#### Выявим отточность клиентов в зависимости от количества продуктов:"
   ]
  },
  {
   "cell_type": "code",
   "execution_count": 66,
   "id": "1931d139",
   "metadata": {},
   "outputs": [],
   "source": [
    "products_pivot = data_1.pivot_table(index = 'city1', values = 'churn', aggfunc = 'mean', columns='products')\\\n",
    "                       .sort_values(by = 'city1', ascending=False)\\\n",
    "                       .round(2)"
   ]
  },
  {
   "cell_type": "code",
   "execution_count": 67,
   "id": "a7d38016",
   "metadata": {},
   "outputs": [
    {
     "data": {
      "image/png": "[encoded data removed]",
      "text/plain": [
       "<Figure size 1080x288 with 2 Axes>"
      ]
     },
     "metadata": {
      "needs_background": "light"
     },
     "output_type": "display_data"
    }
   ],
   "source": [
    "plt.figure(figsize=(15, 4))\n",
    "sns.heatmap(products_pivot, cmap='BuPu', annot=True, fmt='.2f')\n",
    "plt.title('Отток по количеству продуктов клиента')\n",
    "plt.xlabel('Продукты') \n",
    "plt.ylabel('Город')\n",
    "plt.show()"
   ]
  },
  {
   "cell_type": "markdown",
   "id": "79d85aea",
   "metadata": {},
   "source": [
    "Для всех городов выявлена большая отточность среди клиентов с количеством продуктов - 4."
   ]
  },
  {
   "cell_type": "code",
   "execution_count": 68,
   "id": "6c30fbb4",
   "metadata": {},
   "outputs": [],
   "source": [
    "last_activity_pivot = data_1.pivot_table(index = 'city1', values = 'churn', aggfunc = 'mean', columns='last_activity')\\\n",
    "                       .sort_values(by = 'city1', ascending=False)\\\n",
    "                       .round(2)"
   ]
  },
  {
   "cell_type": "code",
   "execution_count": 69,
   "id": "d112c8f3",
   "metadata": {},
   "outputs": [
    {
     "data": {
      "image/png": "[encoded data removed]",
      "text/plain": [
       "<Figure size 864x288 with 2 Axes>"
      ]
     },
     "metadata": {
      "needs_background": "light"
     },
     "output_type": "display_data"
    }
   ],
   "source": [
    "\n",
    "plt.figure(figsize=(12, 4))\n",
    "sns.heatmap(last_activity_pivot, cmap='BuPu', annot=True, fmt='.2f')\n",
    "plt.title('Отток по активности клиента')\n",
    "plt.xlabel('Активность клиента') \n",
    "plt.ylabel('Город')\n",
    "plt.show()"
   ]
  },
  {
   "cell_type": "markdown",
   "id": "e5cd6051",
   "metadata": {},
   "source": [
    "Действительно, у всех городов выражено что чем активнее пользователь тем больше вероятность что он перестанет пользоваться банком. Наибольший отток у клиентов из Ярославля"
   ]
  },
  {
   "cell_type": "markdown",
   "id": "0e75f09f",
   "metadata": {},
   "source": [
    "### Вывод:\n",
    "- В Ростове больше чем в других городах отток клиентов по признакам: с оценкой недвижимости равной 9 и количеством продуктов - 4\n",
    "- В Ярославле - с оценкой недвижимости равной 7 и 9 и низким оттоком, чем в других городах по признаку количество продуктов - 4\n",
    "- Рыбинск - низкий отток по сравнению с другими городами по признакам: с оценкой недвижимости равной 5 и количеством продуктов - 4\n",
    "- Чем больше количество продуктов, больше собственности и если клиент активный - тем больше клиенты уходят в отток. "
   ]
  },
  {
   "cell_type": "markdown",
   "id": "f51b44b3",
   "metadata": {},
   "source": [
    "## Шаг. Проверка статистических гипотез."
   ]
  },
  {
   "cell_type": "markdown",
   "id": "847078a8",
   "metadata": {},
   "source": [
    "#### Проверим гипотезу различия дохода между теми клиентами, которые ушли и теми, которые остались."
   ]
  },
  {
   "cell_type": "markdown",
   "id": "58bb9bd6",
   "metadata": {},
   "source": [
    "*Проверка распределения на нормальность.*"
   ]
  },
  {
   "cell_type": "code",
   "execution_count": 70,
   "id": "463aedf2",
   "metadata": {},
   "outputs": [
    {
     "data": {
      "image/png": "[encoded data removed]",
      "text/plain": [
       "<Figure size 360x360 with 1 Axes>"
      ]
     },
     "metadata": {
      "needs_background": "light"
     },
     "output_type": "display_data"
    }
   ],
   "source": [
    "# создадим срез данных по отточным клентам\n",
    "data_churn1 = data.query('churn == 1')\n",
    "# посмотрим распределение на нормальность\n",
    "sns.displot(data_churn1['est_salary']);"
   ]
  },
  {
   "cell_type": "code",
   "execution_count": 71,
   "id": "141baaed",
   "metadata": {},
   "outputs": [
    {
     "data": {
      "text/plain": [
       "<seaborn.axisgrid.FacetGrid at 0x1eeeb9823a0>"
      ]
     },
     "execution_count": 71,
     "metadata": {},
     "output_type": "execute_result"
    },
    {
     "data": {
      "image/png": "[encoded data removed]",
      "text/plain": [
       "<Figure size 360x360 with 1 Axes>"
      ]
     },
     "metadata": {
      "needs_background": "light"
     },
     "output_type": "display_data"
    }
   ],
   "source": [
    "# создадим срез данных по клентам которые остались\n",
    "data_churn0 = data.query('churn == 0')\n",
    "# посмотрим распределение на нормальность \n",
    "sns.displot(data_churn0['est_salary'])"
   ]
  },
  {
   "cell_type": "markdown",
   "id": "80b691c2",
   "metadata": {},
   "source": [
    "Для исследования используем Непараметрический тест Уилкоксона-Манна-Уитни - т.к. данные в двух группах(churn=1 и churn=0) распределены не равномерно и имеют выбросы."
   ]
  },
  {
   "cell_type": "markdown",
   "id": "9813cc79",
   "metadata": {},
   "source": [
    "#### Сформулируем гипотезы:\n",
    "- Нулевая гипотеза: Есть статистически значимая разница доходов между теми клиентами, которые ушли и теми, которые остались.\n",
    "\n",
    "- Альтернативная гипотеза: Нет статистически значимой разницы доходов между теми клиентами, которые ушли и теми, которые остались.\n",
    "\n",
    "Задам уровень значимости: alpha = 0.05"
   ]
  },
  {
   "cell_type": "code",
   "execution_count": 72,
   "id": "1b5e7df3",
   "metadata": {},
   "outputs": [
    {
     "name": "stdout",
     "output_type": "stream",
     "text": [
      "P-value: 0.00011\n",
      "Отвергаем нулевую гипотезу: разница статистически значима\n"
     ]
    }
   ],
   "source": [
    "data_churn1 = data.query('churn == 1')\n",
    "data_churn0 = data.query('churn == 0')\n",
    "alpha = 0.05  # критический уровень статистической значимости\n",
    "\n",
    "results =st.mannwhitneyu(data_churn0['est_salary'],data_churn1['est_salary'], True, 'less')\n",
    "print('P-value: {:.5f}'.format(results.pvalue))\n",
    "if results.pvalue < alpha:\n",
    "    print('Отвергаем нулевую гипотезу: разница статистически значима')\n",
    "else:\n",
    "    print('Не получилось отвергнуть нулевую гипотезу')"
   ]
  },
  {
   "cell_type": "markdown",
   "id": "22616fc0",
   "metadata": {},
   "source": [
    "#### Вывод:\n",
    "Нет существенной разницы между доходами ушедших  клиентов и тех кто остался. "
   ]
  },
  {
   "cell_type": "markdown",
   "id": "03030a7b",
   "metadata": {},
   "source": [
    "#### Проверим гипотезу различия кредитного скоринга между теми клиентами, которые ушли и теми, которые остались."
   ]
  },
  {
   "cell_type": "markdown",
   "id": "2f24481e",
   "metadata": {},
   "source": [
    "*Проверка распределения на нормальность.*"
   ]
  },
  {
   "cell_type": "code",
   "execution_count": 73,
   "id": "c204ec00",
   "metadata": {},
   "outputs": [
    {
     "data": {
      "image/png": "[encoded data removed]",
      "text/plain": [
       "<Figure size 360x360 with 1 Axes>"
      ]
     },
     "metadata": {
      "needs_background": "light"
     },
     "output_type": "display_data"
    }
   ],
   "source": [
    "# посмотрим распределение на нормальность отточных клиентов\n",
    "sns.displot(data_churn1['score']);"
   ]
  },
  {
   "cell_type": "code",
   "execution_count": 74,
   "id": "66423a5a",
   "metadata": {},
   "outputs": [
    {
     "data": {
      "text/plain": [
       "<seaborn.axisgrid.FacetGrid at 0x1eeeb9e52e0>"
      ]
     },
     "execution_count": 74,
     "metadata": {},
     "output_type": "execute_result"
    },
    {
     "data": {
      "image/png": "[encoded data removed]",
      "text/plain": [
       "<Figure size 360x360 with 1 Axes>"
      ]
     },
     "metadata": {
      "needs_background": "light"
     },
     "output_type": "display_data"
    }
   ],
   "source": [
    "# посмотрим распределение на нормальность клиентов которые остались\n",
    "sns.displot(data_churn0['score'])"
   ]
  },
  {
   "cell_type": "markdown",
   "id": "36ad0155",
   "metadata": {},
   "source": [
    "Для проверки  статистической значимости, применяю t-тест"
   ]
  },
  {
   "cell_type": "markdown",
   "id": "59f9ce37",
   "metadata": {},
   "source": [
    "#### Сформулируем гипотезы:\n",
    "- Нулевая гипотеза: Есть статистически значимая разница баллов кредитного скоринга между теми клиентами, которые ушли и теми, которые остались.\n",
    "\n",
    "- Альтернативная гипотеза: Нет статистически значимой разницы баллов кредитного скоринга между теми клиентами, которые ушли и теми, которые остались.\n",
    "\n",
    "Задам уровень значимости: alpha=0.05"
   ]
  },
  {
   "cell_type": "code",
   "execution_count": 75,
   "id": "4d2b72ce",
   "metadata": {},
   "outputs": [
    {
     "name": "stdout",
     "output_type": "stream",
     "text": [
      "P-value:  1.22951824108449e-50\n",
      "Отвергаем нулевую гипотезу: разница статистически значима\n"
     ]
    }
   ],
   "source": [
    "alpha = .05 # критический уровень статистической значимости\n",
    "\n",
    "results = st.ttest_1samp(data_churn1['score'], data_churn0['score'].mean())\n",
    "print('P-value: ', results.pvalue)\n",
    "if results.pvalue < alpha:\n",
    "    print(\"Отвергаем нулевую гипотезу: разница статистически значима\")\n",
    "else:\n",
    "    print(\"Не получилось отвергнуть нулевую гипотезу\") "
   ]
  },
  {
   "cell_type": "code",
   "execution_count": null,
   "id": "6ad020d4",
   "metadata": {},
   "outputs": [],
   "source": [
    "print(f'Средняя ЗП клиентов в оттоке -', estimated_salary_1.mean())\n",
    "print(f'Средняя ЗП оставшихся клиентов -', df.query('churn == 0')['estimated_salary'].mean())"
   ]
  },
  {
   "cell_type": "markdown",
   "id": "fc20e2d4",
   "metadata": {},
   "source": [
    "#### Вывод:\n",
    "Нет статистически значимой разницы баллов кредитного скоринга между теми клиентами, которые ушли и теми, которые остались."
   ]
  },
  {
   "cell_type": "markdown",
   "id": "9220d2e1",
   "metadata": {},
   "source": [
    "# Выводы:\n",
    "Перечислю признаки, которые больше чем остальные влияют на отток. Составлю отточный портрет. Это Клиенты:\n",
    "- с Ярославля\n",
    "- женщины\n",
    "- без кредитной карты\n",
    "- активность есть в течении 30 дней\n",
    "- в возрасте от 25 до 35 и от 45 до 55\n",
    "- имеют 4 продукта\n",
    "- по оценке собственности равной 9\n",
    "- со средним баллом кредитного скоринга\n",
    "- с балансом более 400тр. и с высоким доходом\n",
    "\n",
    "\n",
    "По городам:\n",
    "- В Ростове больше чем в других городах отток клиентов по признакам: с оценкой недвижимости равной 9 и количеством продуктов - 4\n",
    "- В Ярославле - с оценкой недвижимости равной 7 и 9 и низким оттоком, чем в других городах по признаку количество продуктов - 4\n",
    "- Рыбинск - низкий отток по сравнению с другими городами по признакам: с оценкой недвижимости равной 5 и количеством продуктов - 4\n",
    "\n",
    "\n",
    "*Чем больше количество продуктов, чем больше собственности и чем активнее клиент - тем больше банк теряет их как своих клиентов*"
   ]
  },
  {
   "cell_type": "markdown",
   "id": "87e35a01",
   "metadata": {},
   "source": [
    "# Рекомендации:\n",
    "- Проанализировать причины оттока клиентов с города Ярославль\n",
    "- Предлагать кредитные карт текущим клиентам, больше рассказывать об возможностях этого продукта и удобства использования, например.\n",
    "- Создать интересные продукты для категории клиентов в возрасте 25-35 - например ипотеку\n",
    "- Следить за тем, что бы клиент был не перегружен количеством продуктов и предлагать скидки и системы лояльности для уже текущих продуктов\n",
    "- Предлагать интересные продукты клиентам с более низкими балами по оценке недвижимости.\n",
    "- Клиентам у которых высокий доход или баланс более 400р - предлагать скидки, повышенный кэшбек или другие лояльные услуги для удержания в банке.  \n",
    "- Отследить более подробно причины ухода активных клиентов более подробно (например какие операции делал клиент за последнее время)\n",
    "- Проработать программу удержания клиентов со средним баллом кредитного скоринга\n",
    "- Рекомендуется проработать удержание клиентов в сегменте: женщины, с балансом более 400тр., без кредитной карты (предложить услуги кредитных карт или накопительных счетов для клиентов), а так же среди клиентов в возрасте 25-35 и 45-55 с высоким доходом (программа удержания, возможно - накопительные вклады).\n"
   ]
  }
 ],
 "metadata": {
  "ExecuteTimeLog": [
   {
    "duration": 34303,
    "start_time": "2023-03-03T10:16:55.834Z"
   },
   {
    "duration": 1335,
    "start_time": "2023-03-03T10:17:30.139Z"
   },
   {
    "duration": 1056,
    "start_time": "2023-03-03T10:17:31.476Z"
   },
   {
    "duration": 8,
    "start_time": "2023-03-03T10:17:32.534Z"
   },
   {
    "duration": 36,
    "start_time": "2023-03-03T10:17:32.544Z"
   },
   {
    "duration": 4,
    "start_time": "2023-03-03T10:17:32.582Z"
   },
   {
    "duration": 38,
    "start_time": "2023-03-03T10:17:32.587Z"
   },
   {
    "duration": 30,
    "start_time": "2023-03-03T10:17:32.627Z"
   },
   {
    "duration": 11,
    "start_time": "2023-03-03T10:17:32.659Z"
   },
   {
    "duration": 169,
    "start_time": "2023-03-03T10:17:32.672Z"
   },
   {
    "duration": 16,
    "start_time": "2023-03-03T10:17:32.843Z"
   },
   {
    "duration": 8,
    "start_time": "2023-03-03T10:17:32.864Z"
   },
   {
    "duration": 10,
    "start_time": "2023-03-03T10:17:32.874Z"
   },
   {
    "duration": 132,
    "start_time": "2023-03-03T10:17:32.885Z"
   },
   {
    "duration": 141,
    "start_time": "2023-03-03T10:17:33.021Z"
   },
   {
    "duration": 5,
    "start_time": "2023-03-03T10:17:33.165Z"
   },
   {
    "duration": 19,
    "start_time": "2023-03-03T10:17:33.172Z"
   },
   {
    "duration": 4,
    "start_time": "2023-03-03T10:17:33.193Z"
   },
   {
    "duration": 7,
    "start_time": "2023-03-03T10:17:33.199Z"
   },
   {
    "duration": 7,
    "start_time": "2023-03-03T10:17:33.208Z"
   },
   {
    "duration": 18,
    "start_time": "2023-03-03T10:17:33.216Z"
   },
   {
    "duration": 22,
    "start_time": "2023-03-03T10:17:33.235Z"
   },
   {
    "duration": 13,
    "start_time": "2023-03-03T10:17:33.260Z"
   },
   {
    "duration": 349,
    "start_time": "2023-03-03T10:17:33.274Z"
   },
   {
    "duration": 499,
    "start_time": "2023-03-03T10:17:33.625Z"
   },
   {
    "duration": 543,
    "start_time": "2023-03-03T10:17:34.126Z"
   },
   {
    "duration": 30,
    "start_time": "2023-03-03T10:17:34.670Z"
   },
   {
    "duration": 924,
    "start_time": "2023-03-03T10:17:34.704Z"
   },
   {
    "duration": 35,
    "start_time": "2023-03-03T10:17:35.629Z"
   },
   {
    "duration": 130,
    "start_time": "2023-03-03T10:17:35.666Z"
   },
   {
    "duration": 21,
    "start_time": "2023-03-03T10:17:35.798Z"
   },
   {
    "duration": 106,
    "start_time": "2023-03-03T10:17:35.821Z"
   },
   {
    "duration": 35,
    "start_time": "2023-03-03T10:17:35.929Z"
   },
   {
    "duration": 99,
    "start_time": "2023-03-03T10:17:35.966Z"
   },
   {
    "duration": 24,
    "start_time": "2023-03-03T10:17:36.067Z"
   },
   {
    "duration": 106,
    "start_time": "2023-03-03T10:17:36.093Z"
   },
   {
    "duration": 148,
    "start_time": "2023-03-03T10:17:36.200Z"
   },
   {
    "duration": 12,
    "start_time": "2023-03-03T10:17:36.351Z"
   },
   {
    "duration": 33,
    "start_time": "2023-03-03T10:17:36.365Z"
   },
   {
    "duration": 31,
    "start_time": "2023-03-03T10:17:36.400Z"
   },
   {
    "duration": 167,
    "start_time": "2023-03-03T10:17:36.433Z"
   },
   {
    "duration": 26,
    "start_time": "2023-03-03T10:17:36.602Z"
   },
   {
    "duration": 49,
    "start_time": "2023-03-03T10:17:36.630Z"
   },
   {
    "duration": 33,
    "start_time": "2023-03-03T10:17:36.681Z"
   },
   {
    "duration": 9,
    "start_time": "2023-03-03T10:17:36.717Z"
   },
   {
    "duration": 15,
    "start_time": "2023-03-03T10:17:36.728Z"
   },
   {
    "duration": 45,
    "start_time": "2023-03-03T10:17:36.748Z"
   },
   {
    "duration": 128,
    "start_time": "2023-03-03T10:17:36.795Z"
   },
   {
    "duration": 10,
    "start_time": "2023-03-03T10:17:36.924Z"
   },
   {
    "duration": 31,
    "start_time": "2023-03-03T10:17:36.935Z"
   },
   {
    "duration": 135,
    "start_time": "2023-03-03T10:17:36.968Z"
   },
   {
    "duration": 28,
    "start_time": "2023-03-03T10:17:37.105Z"
   },
   {
    "duration": 38,
    "start_time": "2023-03-03T10:17:37.134Z"
   },
   {
    "duration": 136,
    "start_time": "2023-03-03T10:17:37.174Z"
   },
   {
    "duration": 12,
    "start_time": "2023-03-03T10:17:37.311Z"
   },
   {
    "duration": 50,
    "start_time": "2023-03-03T10:17:37.324Z"
   },
   {
    "duration": 2340,
    "start_time": "2023-03-03T10:17:37.376Z"
   },
   {
    "duration": 19,
    "start_time": "2023-03-03T10:17:39.718Z"
   },
   {
    "duration": 464,
    "start_time": "2023-03-03T10:17:39.738Z"
   },
   {
    "duration": 18,
    "start_time": "2023-03-03T10:17:40.204Z"
   },
   {
    "duration": 350,
    "start_time": "2023-03-03T10:17:40.224Z"
   },
   {
    "duration": 16,
    "start_time": "2023-03-03T10:17:40.575Z"
   },
   {
    "duration": 319,
    "start_time": "2023-03-03T10:17:40.593Z"
   },
   {
    "duration": 465,
    "start_time": "2023-03-03T10:17:40.913Z"
   },
   {
    "duration": 516,
    "start_time": "2023-03-03T10:17:41.380Z"
   },
   {
    "duration": 16,
    "start_time": "2023-03-03T10:17:41.897Z"
   },
   {
    "duration": 352,
    "start_time": "2023-03-03T10:17:41.915Z"
   },
   {
    "duration": 432,
    "start_time": "2023-03-03T10:17:42.269Z"
   },
   {
    "duration": 5,
    "start_time": "2023-03-03T10:17:42.703Z"
   },
   {
    "duration": 100,
    "start_time": "2023-03-03T13:41:18.117Z"
   },
   {
    "duration": 90,
    "start_time": "2023-03-03T13:42:30.817Z"
   },
   {
    "duration": 47,
    "start_time": "2023-03-03T13:43:46.051Z"
   },
   {
    "duration": 46444,
    "start_time": "2023-03-03T13:43:55.047Z"
   },
   {
    "duration": 1590,
    "start_time": "2023-03-03T13:44:41.494Z"
   },
   {
    "duration": 1470,
    "start_time": "2023-03-03T13:44:43.086Z"
   },
   {
    "duration": 10,
    "start_time": "2023-03-03T13:44:44.560Z"
   },
   {
    "duration": 37,
    "start_time": "2023-03-03T13:44:44.572Z"
   },
   {
    "duration": 4,
    "start_time": "2023-03-03T13:44:44.611Z"
   },
   {
    "duration": 93,
    "start_time": "2023-03-03T13:44:44.621Z"
   },
   {
    "duration": 19,
    "start_time": "2023-03-03T13:44:44.716Z"
   },
   {
    "duration": 34,
    "start_time": "2023-03-03T13:44:44.742Z"
   },
   {
    "duration": 239,
    "start_time": "2023-03-03T13:44:44.780Z"
   },
   {
    "duration": 22,
    "start_time": "2023-03-03T13:44:45.030Z"
   },
   {
    "duration": 129,
    "start_time": "2023-03-03T13:44:45.059Z"
   },
   {
    "duration": 11,
    "start_time": "2023-03-03T13:44:45.190Z"
   },
   {
    "duration": 204,
    "start_time": "2023-03-03T13:44:45.204Z"
   },
   {
    "duration": 153,
    "start_time": "2023-03-03T13:44:45.410Z"
   },
   {
    "duration": 6,
    "start_time": "2023-03-03T13:44:45.565Z"
   },
   {
    "duration": 14,
    "start_time": "2023-03-03T13:44:45.573Z"
   },
   {
    "duration": 5,
    "start_time": "2023-03-03T13:44:45.589Z"
   },
   {
    "duration": 28,
    "start_time": "2023-03-03T13:44:45.596Z"
   },
   {
    "duration": 9,
    "start_time": "2023-03-03T13:44:45.631Z"
   },
   {
    "duration": 40,
    "start_time": "2023-03-03T13:44:45.641Z"
   },
   {
    "duration": 6,
    "start_time": "2023-03-03T13:44:45.683Z"
   },
   {
    "duration": 19,
    "start_time": "2023-03-03T13:44:45.691Z"
   },
   {
    "duration": 63,
    "start_time": "2023-03-03T13:44:45.713Z"
   },
   {
    "duration": 65,
    "start_time": "2023-03-03T13:44:45.778Z"
   },
   {
    "duration": 33,
    "start_time": "2023-03-03T13:44:45.845Z"
   },
   {
    "duration": 23,
    "start_time": "2023-03-03T13:44:45.880Z"
   },
   {
    "duration": 1068,
    "start_time": "2023-03-03T13:44:45.908Z"
   },
   {
    "duration": 21,
    "start_time": "2023-03-03T13:44:46.978Z"
   },
   {
    "duration": 155,
    "start_time": "2023-03-03T13:44:47.001Z"
   },
   {
    "duration": 22,
    "start_time": "2023-03-03T13:44:47.157Z"
   },
   {
    "duration": 148,
    "start_time": "2023-03-03T13:44:47.181Z"
   },
   {
    "duration": 25,
    "start_time": "2023-03-03T13:44:47.332Z"
   },
   {
    "duration": 118,
    "start_time": "2023-03-03T13:44:47.359Z"
   },
   {
    "duration": 21,
    "start_time": "2023-03-03T13:44:47.479Z"
   },
   {
    "duration": 120,
    "start_time": "2023-03-03T13:44:47.502Z"
   },
   {
    "duration": 201,
    "start_time": "2023-03-03T13:44:47.623Z"
   },
   {
    "duration": 3,
    "start_time": "2023-03-03T13:44:47.831Z"
   },
   {
    "duration": 33,
    "start_time": "2023-03-03T13:44:47.835Z"
   },
   {
    "duration": 26,
    "start_time": "2023-03-03T13:44:47.870Z"
   },
   {
    "duration": 167,
    "start_time": "2023-03-03T13:44:47.898Z"
   },
   {
    "duration": 26,
    "start_time": "2023-03-03T13:44:48.066Z"
   },
   {
    "duration": 60,
    "start_time": "2023-03-03T13:44:48.094Z"
   },
   {
    "duration": 10,
    "start_time": "2023-03-03T13:44:48.162Z"
   },
   {
    "duration": 9,
    "start_time": "2023-03-03T13:44:48.174Z"
   },
   {
    "duration": 26,
    "start_time": "2023-03-03T13:44:48.185Z"
   },
   {
    "duration": 205,
    "start_time": "2023-03-03T13:44:48.213Z"
   },
   {
    "duration": 143,
    "start_time": "2023-03-03T13:44:48.421Z"
   },
   {
    "duration": 0,
    "start_time": "2023-03-03T13:44:48.567Z"
   },
   {
    "duration": 0,
    "start_time": "2023-03-03T13:44:48.568Z"
   },
   {
    "duration": 0,
    "start_time": "2023-03-03T13:44:48.570Z"
   },
   {
    "duration": 0,
    "start_time": "2023-03-03T13:44:48.571Z"
   },
   {
    "duration": 0,
    "start_time": "2023-03-03T13:44:48.573Z"
   },
   {
    "duration": 1,
    "start_time": "2023-03-03T13:44:48.574Z"
   },
   {
    "duration": 0,
    "start_time": "2023-03-03T13:44:48.576Z"
   },
   {
    "duration": 0,
    "start_time": "2023-03-03T13:44:48.578Z"
   },
   {
    "duration": 0,
    "start_time": "2023-03-03T13:44:48.579Z"
   },
   {
    "duration": 0,
    "start_time": "2023-03-03T13:44:48.581Z"
   },
   {
    "duration": 0,
    "start_time": "2023-03-03T13:44:48.582Z"
   },
   {
    "duration": 0,
    "start_time": "2023-03-03T13:44:48.583Z"
   },
   {
    "duration": 0,
    "start_time": "2023-03-03T13:44:48.584Z"
   },
   {
    "duration": 0,
    "start_time": "2023-03-03T13:44:48.585Z"
   },
   {
    "duration": 0,
    "start_time": "2023-03-03T13:44:48.587Z"
   },
   {
    "duration": 0,
    "start_time": "2023-03-03T13:44:48.587Z"
   },
   {
    "duration": 0,
    "start_time": "2023-03-03T13:44:48.588Z"
   },
   {
    "duration": 0,
    "start_time": "2023-03-03T13:44:48.589Z"
   },
   {
    "duration": 0,
    "start_time": "2023-03-03T13:44:48.589Z"
   },
   {
    "duration": 0,
    "start_time": "2023-03-03T13:44:48.590Z"
   },
   {
    "duration": 0,
    "start_time": "2023-03-03T13:44:48.623Z"
   },
   {
    "duration": 0,
    "start_time": "2023-03-03T13:44:48.623Z"
   },
   {
    "duration": 0,
    "start_time": "2023-03-03T13:44:48.624Z"
   },
   {
    "duration": 724,
    "start_time": "2023-03-03T13:46:27.940Z"
   },
   {
    "duration": 112,
    "start_time": "2023-03-03T13:47:50.772Z"
   },
   {
    "duration": 27,
    "start_time": "2023-03-03T13:47:55.818Z"
   },
   {
    "duration": 21,
    "start_time": "2023-03-03T13:48:03.649Z"
   },
   {
    "duration": 43,
    "start_time": "2023-03-03T14:03:25.597Z"
   },
   {
    "duration": 22,
    "start_time": "2023-03-03T14:03:37.661Z"
   },
   {
    "duration": 5675,
    "start_time": "2023-03-03T14:04:29.137Z"
   },
   {
    "duration": 25,
    "start_time": "2023-03-03T14:04:34.816Z"
   },
   {
    "duration": 1174,
    "start_time": "2023-03-03T14:04:34.843Z"
   },
   {
    "duration": 17,
    "start_time": "2023-03-03T14:04:37.602Z"
   },
   {
    "duration": 47,
    "start_time": "2023-03-03T14:04:37.845Z"
   },
   {
    "duration": 4,
    "start_time": "2023-03-03T14:04:38.378Z"
   },
   {
    "duration": 61,
    "start_time": "2023-03-03T14:04:38.718Z"
   },
   {
    "duration": 8,
    "start_time": "2023-03-03T14:04:39.059Z"
   },
   {
    "duration": 3,
    "start_time": "2023-03-03T14:04:39.410Z"
   },
   {
    "duration": 206,
    "start_time": "2023-03-03T14:04:39.946Z"
   },
   {
    "duration": 8,
    "start_time": "2023-03-03T14:04:40.298Z"
   },
   {
    "duration": 7,
    "start_time": "2023-03-03T14:04:40.670Z"
   },
   {
    "duration": 21,
    "start_time": "2023-03-03T14:04:41.042Z"
   },
   {
    "duration": 158,
    "start_time": "2023-03-03T14:04:41.378Z"
   },
   {
    "duration": 166,
    "start_time": "2023-03-03T14:04:41.750Z"
   },
   {
    "duration": 8,
    "start_time": "2023-03-03T14:04:42.108Z"
   },
   {
    "duration": 14,
    "start_time": "2023-03-03T14:04:42.486Z"
   },
   {
    "duration": 5,
    "start_time": "2023-03-03T14:04:42.876Z"
   },
   {
    "duration": 9,
    "start_time": "2023-03-03T14:04:43.067Z"
   },
   {
    "duration": 19,
    "start_time": "2023-03-03T14:04:43.451Z"
   },
   {
    "duration": 10,
    "start_time": "2023-03-03T14:04:43.798Z"
   },
   {
    "duration": 7,
    "start_time": "2023-03-03T14:04:44.170Z"
   },
   {
    "duration": 12,
    "start_time": "2023-03-03T14:04:44.770Z"
   },
   {
    "duration": 24,
    "start_time": "2023-03-03T14:04:45.146Z"
   },
   {
    "duration": 59,
    "start_time": "2023-03-03T14:04:45.510Z"
   },
   {
    "duration": 9,
    "start_time": "2023-03-03T14:04:45.854Z"
   },
   {
    "duration": 29,
    "start_time": "2023-03-03T14:04:46.210Z"
   },
   {
    "duration": 1207,
    "start_time": "2023-03-03T14:04:47.149Z"
   },
   {
    "duration": 51,
    "start_time": "2023-03-03T14:04:48.506Z"
   },
   {
    "duration": 165,
    "start_time": "2023-03-03T14:04:49.510Z"
   },
   {
    "duration": 24,
    "start_time": "2023-03-03T14:04:50.066Z"
   },
   {
    "duration": 111,
    "start_time": "2023-03-03T14:04:50.263Z"
   },
   {
    "duration": 31,
    "start_time": "2023-03-03T14:04:50.850Z"
   },
   {
    "duration": 123,
    "start_time": "2023-03-03T14:04:51.010Z"
   },
   {
    "duration": 24,
    "start_time": "2023-03-03T14:04:51.590Z"
   },
   {
    "duration": 114,
    "start_time": "2023-03-03T14:04:51.783Z"
   },
   {
    "duration": 197,
    "start_time": "2023-03-03T14:04:52.468Z"
   },
   {
    "duration": 25,
    "start_time": "2023-03-03T14:04:56.442Z"
   },
   {
    "duration": 29,
    "start_time": "2023-03-03T14:04:56.674Z"
   },
   {
    "duration": 27,
    "start_time": "2023-03-03T14:04:56.863Z"
   },
   {
    "duration": 171,
    "start_time": "2023-03-03T14:05:00.314Z"
   },
   {
    "duration": 37,
    "start_time": "2023-03-03T14:05:02.844Z"
   },
   {
    "duration": 28,
    "start_time": "2023-03-03T14:05:07.578Z"
   },
   {
    "duration": 10,
    "start_time": "2023-03-03T14:05:08.086Z"
   },
   {
    "duration": 7,
    "start_time": "2023-03-03T14:05:08.278Z"
   },
   {
    "duration": 29,
    "start_time": "2023-03-03T14:05:08.466Z"
   },
   {
    "duration": 145,
    "start_time": "2023-03-03T14:05:08.656Z"
   },
   {
    "duration": 18,
    "start_time": "2023-03-03T14:05:11.237Z"
   },
   {
    "duration": 20,
    "start_time": "2023-03-03T14:05:11.449Z"
   },
   {
    "duration": 30,
    "start_time": "2023-03-03T14:05:11.650Z"
   },
   {
    "duration": 47,
    "start_time": "2023-03-03T14:05:22.210Z"
   },
   {
    "duration": 33,
    "start_time": "2023-03-03T14:05:22.668Z"
   },
   {
    "duration": 151,
    "start_time": "2023-03-03T14:05:23.648Z"
   },
   {
    "duration": 14,
    "start_time": "2023-03-03T14:05:26.874Z"
   },
   {
    "duration": 49,
    "start_time": "2023-03-03T14:05:27.094Z"
   },
   {
    "duration": 2213,
    "start_time": "2023-03-03T14:05:27.282Z"
   },
   {
    "duration": 61,
    "start_time": "2023-03-03T14:06:04.938Z"
   },
   {
    "duration": 32,
    "start_time": "2023-03-03T14:07:07.645Z"
   },
   {
    "duration": 492,
    "start_time": "2023-03-03T14:07:08.962Z"
   },
   {
    "duration": 18,
    "start_time": "2023-03-03T14:07:09.486Z"
   },
   {
    "duration": 338,
    "start_time": "2023-03-03T14:07:09.669Z"
   },
   {
    "duration": 17,
    "start_time": "2023-03-03T14:07:10.065Z"
   },
   {
    "duration": 313,
    "start_time": "2023-03-03T14:07:10.260Z"
   },
   {
    "duration": 462,
    "start_time": "2023-03-03T14:07:11.348Z"
   },
   {
    "duration": 568,
    "start_time": "2023-03-03T14:07:11.812Z"
   },
   {
    "duration": 22,
    "start_time": "2023-03-03T14:07:12.383Z"
   },
   {
    "duration": 7,
    "start_time": "2023-03-03T14:07:29.052Z"
   },
   {
    "duration": 22,
    "start_time": "2023-03-03T14:07:33.650Z"
   },
   {
    "duration": 451,
    "start_time": "2023-03-03T14:07:35.619Z"
   },
   {
    "duration": 424,
    "start_time": "2023-03-03T14:07:36.072Z"
   },
   {
    "duration": 8,
    "start_time": "2023-03-03T14:07:36.876Z"
   },
   {
    "duration": 55,
    "start_time": "2023-03-03T14:10:41.104Z"
   },
   {
    "duration": 538,
    "start_time": "2023-03-03T14:10:56.767Z"
   },
   {
    "duration": 28,
    "start_time": "2023-03-03T14:11:06.961Z"
   },
   {
    "duration": 18,
    "start_time": "2023-03-03T14:11:18.137Z"
   },
   {
    "duration": 42,
    "start_time": "2023-03-03T14:11:20.111Z"
   },
   {
    "duration": 32,
    "start_time": "2023-03-03T14:11:21.049Z"
   },
   {
    "duration": 167,
    "start_time": "2023-03-03T14:11:21.204Z"
   },
   {
    "duration": 36,
    "start_time": "2023-03-03T14:11:21.704Z"
   },
   {
    "duration": 30,
    "start_time": "2023-03-03T14:11:22.548Z"
   },
   {
    "duration": 15,
    "start_time": "2023-03-03T14:11:23.050Z"
   },
   {
    "duration": 7,
    "start_time": "2023-03-03T14:11:23.199Z"
   },
   {
    "duration": 24,
    "start_time": "2023-03-03T14:11:23.369Z"
   },
   {
    "duration": 169,
    "start_time": "2023-03-03T14:11:23.538Z"
   },
   {
    "duration": 24,
    "start_time": "2023-03-03T14:11:24.020Z"
   },
   {
    "duration": 19,
    "start_time": "2023-03-03T14:11:24.384Z"
   },
   {
    "duration": 33,
    "start_time": "2023-03-03T14:11:24.580Z"
   },
   {
    "duration": 215,
    "start_time": "2023-03-03T14:11:24.774Z"
   },
   {
    "duration": 51,
    "start_time": "2023-03-03T14:11:25.812Z"
   },
   {
    "duration": 26,
    "start_time": "2023-03-03T14:11:29.271Z"
   },
   {
    "duration": 152,
    "start_time": "2023-03-03T14:11:29.457Z"
   },
   {
    "duration": 34,
    "start_time": "2023-03-03T14:11:30.236Z"
   },
   {
    "duration": 50,
    "start_time": "2023-03-03T14:11:30.444Z"
   },
   {
    "duration": 2003,
    "start_time": "2023-03-03T14:11:30.628Z"
   },
   {
    "duration": 26,
    "start_time": "2023-03-03T14:11:40.452Z"
   },
   {
    "duration": 549,
    "start_time": "2023-03-03T14:11:40.600Z"
   },
   {
    "duration": 20,
    "start_time": "2023-03-03T14:11:41.160Z"
   },
   {
    "duration": 347,
    "start_time": "2023-03-03T14:11:41.247Z"
   },
   {
    "duration": 51,
    "start_time": "2023-03-03T14:11:41.596Z"
   },
   {
    "duration": 370,
    "start_time": "2023-03-03T14:11:41.704Z"
   },
   {
    "duration": 634,
    "start_time": "2023-03-03T14:11:42.654Z"
   },
   {
    "duration": 590,
    "start_time": "2023-03-03T14:11:43.290Z"
   },
   {
    "duration": 19,
    "start_time": "2023-03-03T14:11:43.882Z"
   },
   {
    "duration": 375,
    "start_time": "2023-03-03T14:11:45.609Z"
   },
   {
    "duration": 409,
    "start_time": "2023-03-03T14:11:45.985Z"
   },
   {
    "duration": 7,
    "start_time": "2023-03-03T14:11:49.862Z"
   },
   {
    "duration": 25,
    "start_time": "2023-03-03T14:11:53.652Z"
   },
   {
    "duration": 37,
    "start_time": "2023-03-03T14:11:57.976Z"
   },
   {
    "duration": 39,
    "start_time": "2023-03-03T14:12:25.048Z"
   },
   {
    "duration": 27,
    "start_time": "2023-03-03T14:12:28.249Z"
   },
   {
    "duration": 21,
    "start_time": "2023-03-03T14:12:45.988Z"
   },
   {
    "duration": 12,
    "start_time": "2023-03-03T14:12:55.688Z"
   },
   {
    "duration": 12,
    "start_time": "2023-03-03T14:12:55.948Z"
   },
   {
    "duration": 33648,
    "start_time": "2023-03-03T14:13:02.589Z"
   },
   {
    "duration": 1532,
    "start_time": "2023-03-03T14:13:36.240Z"
   },
   {
    "duration": 1224,
    "start_time": "2023-03-03T14:13:37.774Z"
   },
   {
    "duration": 10,
    "start_time": "2023-03-03T14:13:39.001Z"
   },
   {
    "duration": 56,
    "start_time": "2023-03-03T14:13:39.013Z"
   },
   {
    "duration": 5,
    "start_time": "2023-03-03T14:13:39.073Z"
   },
   {
    "duration": 62,
    "start_time": "2023-03-03T14:13:39.081Z"
   },
   {
    "duration": 6,
    "start_time": "2023-03-03T14:13:39.145Z"
   },
   {
    "duration": 3,
    "start_time": "2023-03-03T14:13:39.153Z"
   },
   {
    "duration": 222,
    "start_time": "2023-03-03T14:13:39.159Z"
   },
   {
    "duration": 7,
    "start_time": "2023-03-03T14:13:39.383Z"
   },
   {
    "duration": 10,
    "start_time": "2023-03-03T14:13:39.392Z"
   },
   {
    "duration": 28,
    "start_time": "2023-03-03T14:13:39.405Z"
   },
   {
    "duration": 211,
    "start_time": "2023-03-03T14:13:39.434Z"
   },
   {
    "duration": 134,
    "start_time": "2023-03-03T14:13:39.648Z"
   },
   {
    "duration": 7,
    "start_time": "2023-03-03T14:13:39.784Z"
   },
   {
    "duration": 34,
    "start_time": "2023-03-03T14:13:39.793Z"
   },
   {
    "duration": 31,
    "start_time": "2023-03-03T14:13:39.828Z"
   },
   {
    "duration": 20,
    "start_time": "2023-03-03T14:13:39.863Z"
   },
   {
    "duration": 14,
    "start_time": "2023-03-03T14:13:39.885Z"
   },
   {
    "duration": 35,
    "start_time": "2023-03-03T14:13:39.901Z"
   },
   {
    "duration": 26,
    "start_time": "2023-03-03T14:13:39.944Z"
   },
   {
    "duration": 11,
    "start_time": "2023-03-03T14:13:39.972Z"
   },
   {
    "duration": 17,
    "start_time": "2023-03-03T14:13:39.985Z"
   },
   {
    "duration": 74,
    "start_time": "2023-03-03T14:13:40.004Z"
   },
   {
    "duration": 6,
    "start_time": "2023-03-03T14:13:40.080Z"
   },
   {
    "duration": 23,
    "start_time": "2023-03-03T14:13:40.087Z"
   },
   {
    "duration": 1256,
    "start_time": "2023-03-03T14:13:40.114Z"
   },
   {
    "duration": 31,
    "start_time": "2023-03-03T14:13:41.373Z"
   },
   {
    "duration": 152,
    "start_time": "2023-03-03T14:13:41.406Z"
   },
   {
    "duration": 26,
    "start_time": "2023-03-03T14:13:41.560Z"
   },
   {
    "duration": 160,
    "start_time": "2023-03-03T14:13:41.588Z"
   },
   {
    "duration": 30,
    "start_time": "2023-03-03T14:13:41.751Z"
   },
   {
    "duration": 118,
    "start_time": "2023-03-03T14:13:41.783Z"
   },
   {
    "duration": 56,
    "start_time": "2023-03-03T14:13:41.904Z"
   },
   {
    "duration": 112,
    "start_time": "2023-03-03T14:13:41.964Z"
   },
   {
    "duration": 192,
    "start_time": "2023-03-03T14:13:42.079Z"
   },
   {
    "duration": 12,
    "start_time": "2023-03-03T14:13:42.275Z"
   },
   {
    "duration": 54,
    "start_time": "2023-03-03T14:13:42.289Z"
   },
   {
    "duration": 40,
    "start_time": "2023-03-03T14:13:42.346Z"
   },
   {
    "duration": 199,
    "start_time": "2023-03-03T14:13:42.389Z"
   },
   {
    "duration": 28,
    "start_time": "2023-03-03T14:13:42.589Z"
   },
   {
    "duration": 47,
    "start_time": "2023-03-03T14:13:42.620Z"
   },
   {
    "duration": 26,
    "start_time": "2023-03-03T14:13:42.670Z"
   },
   {
    "duration": 12,
    "start_time": "2023-03-03T14:13:42.698Z"
   },
   {
    "duration": 39,
    "start_time": "2023-03-03T14:13:42.712Z"
   },
   {
    "duration": 200,
    "start_time": "2023-03-03T14:13:42.753Z"
   },
   {
    "duration": 10,
    "start_time": "2023-03-03T14:13:42.955Z"
   },
   {
    "duration": 27,
    "start_time": "2023-03-03T14:13:42.967Z"
   },
   {
    "duration": 65,
    "start_time": "2023-03-03T14:13:42.996Z"
   },
   {
    "duration": 175,
    "start_time": "2023-03-03T14:13:43.070Z"
   },
   {
    "duration": 35,
    "start_time": "2023-03-03T14:13:43.247Z"
   },
   {
    "duration": 40,
    "start_time": "2023-03-03T14:13:43.284Z"
   },
   {
    "duration": 186,
    "start_time": "2023-03-03T14:13:43.326Z"
   },
   {
    "duration": 29,
    "start_time": "2023-03-03T14:13:43.514Z"
   },
   {
    "duration": 63,
    "start_time": "2023-03-03T14:13:43.552Z"
   },
   {
    "duration": 2183,
    "start_time": "2023-03-03T14:13:43.617Z"
   },
   {
    "duration": 82,
    "start_time": "2023-03-03T14:13:45.802Z"
   },
   {
    "duration": 0,
    "start_time": "2023-03-03T14:13:45.886Z"
   },
   {
    "duration": 0,
    "start_time": "2023-03-03T14:13:45.888Z"
   },
   {
    "duration": 0,
    "start_time": "2023-03-03T14:13:45.890Z"
   },
   {
    "duration": 0,
    "start_time": "2023-03-03T14:13:45.892Z"
   },
   {
    "duration": 0,
    "start_time": "2023-03-03T14:13:45.894Z"
   },
   {
    "duration": 0,
    "start_time": "2023-03-03T14:13:45.896Z"
   },
   {
    "duration": 0,
    "start_time": "2023-03-03T14:13:45.898Z"
   },
   {
    "duration": 0,
    "start_time": "2023-03-03T14:13:45.900Z"
   },
   {
    "duration": 0,
    "start_time": "2023-03-03T14:13:45.902Z"
   },
   {
    "duration": 0,
    "start_time": "2023-03-03T14:13:45.904Z"
   },
   {
    "duration": 0,
    "start_time": "2023-03-03T14:13:45.906Z"
   },
   {
    "duration": 0,
    "start_time": "2023-03-03T14:13:45.908Z"
   },
   {
    "duration": 0,
    "start_time": "2023-03-03T14:13:45.910Z"
   },
   {
    "duration": 0,
    "start_time": "2023-03-03T14:13:45.912Z"
   },
   {
    "duration": 0,
    "start_time": "2023-03-03T14:13:45.914Z"
   },
   {
    "duration": 19,
    "start_time": "2023-03-03T14:26:12.681Z"
   },
   {
    "duration": 500,
    "start_time": "2023-03-03T14:26:12.897Z"
   },
   {
    "duration": 1924,
    "start_time": "2023-03-03T14:26:24.349Z"
   },
   {
    "duration": 29,
    "start_time": "2023-03-03T14:26:30.748Z"
   },
   {
    "duration": 38,
    "start_time": "2023-03-03T14:26:41.331Z"
   },
   {
    "duration": 35,
    "start_time": "2023-03-03T14:26:45.747Z"
   },
   {
    "duration": 11,
    "start_time": "2023-03-03T14:29:10.648Z"
   },
   {
    "duration": 60,
    "start_time": "2023-03-03T14:30:28.082Z"
   },
   {
    "duration": 62,
    "start_time": "2023-03-03T14:30:48.592Z"
   },
   {
    "duration": 33,
    "start_time": "2023-03-03T14:30:52.521Z"
   },
   {
    "duration": 1302,
    "start_time": "2023-03-03T14:37:29.860Z"
   },
   {
    "duration": 1043,
    "start_time": "2023-03-03T14:37:50.256Z"
   },
   {
    "duration": 1260,
    "start_time": "2023-03-03T14:38:22.077Z"
   },
   {
    "duration": 26,
    "start_time": "2023-03-03T14:53:10.829Z"
   },
   {
    "duration": 33,
    "start_time": "2023-03-03T14:53:51.130Z"
   },
   {
    "duration": 10,
    "start_time": "2023-03-03T14:54:06.441Z"
   },
   {
    "duration": 23,
    "start_time": "2023-03-03T14:55:41.607Z"
   },
   {
    "duration": 14,
    "start_time": "2023-03-03T14:56:02.984Z"
   },
   {
    "duration": 24,
    "start_time": "2023-03-03T14:57:03.317Z"
   },
   {
    "duration": 14,
    "start_time": "2023-03-03T14:59:37.173Z"
   },
   {
    "duration": 28,
    "start_time": "2023-03-03T14:59:51.514Z"
   },
   {
    "duration": 53,
    "start_time": "2023-03-04T00:54:54.987Z"
   },
   {
    "duration": 8,
    "start_time": "2023-03-04T00:55:00.151Z"
   },
   {
    "duration": 33514,
    "start_time": "2023-03-04T00:55:04.805Z"
   },
   {
    "duration": 1480,
    "start_time": "2023-03-04T00:55:38.321Z"
   },
   {
    "duration": 1048,
    "start_time": "2023-03-04T00:55:39.803Z"
   },
   {
    "duration": 10,
    "start_time": "2023-03-04T00:55:40.854Z"
   },
   {
    "duration": 30,
    "start_time": "2023-03-04T00:55:40.866Z"
   },
   {
    "duration": 4,
    "start_time": "2023-03-04T00:55:40.899Z"
   },
   {
    "duration": 68,
    "start_time": "2023-03-04T00:55:40.905Z"
   },
   {
    "duration": 7,
    "start_time": "2023-03-04T00:55:40.975Z"
   },
   {
    "duration": 4,
    "start_time": "2023-03-04T00:55:40.984Z"
   },
   {
    "duration": 189,
    "start_time": "2023-03-04T00:55:40.990Z"
   },
   {
    "duration": 8,
    "start_time": "2023-03-04T00:55:41.181Z"
   },
   {
    "duration": 13,
    "start_time": "2023-03-04T00:55:41.190Z"
   },
   {
    "duration": 11,
    "start_time": "2023-03-04T00:55:41.205Z"
   },
   {
    "duration": 160,
    "start_time": "2023-03-04T00:55:41.217Z"
   },
   {
    "duration": 130,
    "start_time": "2023-03-04T00:55:41.378Z"
   },
   {
    "duration": 6,
    "start_time": "2023-03-04T00:55:41.510Z"
   },
   {
    "duration": 33,
    "start_time": "2023-03-04T00:55:41.517Z"
   },
   {
    "duration": 4,
    "start_time": "2023-03-04T00:55:41.552Z"
   },
   {
    "duration": 8,
    "start_time": "2023-03-04T00:55:41.558Z"
   },
   {
    "duration": 7,
    "start_time": "2023-03-04T00:55:41.567Z"
   },
   {
    "duration": 12,
    "start_time": "2023-03-04T00:55:41.576Z"
   },
   {
    "duration": 6,
    "start_time": "2023-03-04T00:55:41.590Z"
   },
   {
    "duration": 10,
    "start_time": "2023-03-04T00:55:41.597Z"
   },
   {
    "duration": 50,
    "start_time": "2023-03-04T00:55:41.608Z"
   },
   {
    "duration": 21,
    "start_time": "2023-03-04T00:55:41.659Z"
   },
   {
    "duration": 3,
    "start_time": "2023-03-04T00:55:41.682Z"
   },
   {
    "duration": 17,
    "start_time": "2023-03-04T00:55:41.686Z"
   },
   {
    "duration": 969,
    "start_time": "2023-03-04T00:55:41.707Z"
   },
   {
    "duration": 24,
    "start_time": "2023-03-04T00:55:42.678Z"
   },
   {
    "duration": 148,
    "start_time": "2023-03-04T00:55:42.704Z"
   },
   {
    "duration": 22,
    "start_time": "2023-03-04T00:55:42.855Z"
   },
   {
    "duration": 112,
    "start_time": "2023-03-04T00:55:42.879Z"
   },
   {
    "duration": 22,
    "start_time": "2023-03-04T00:55:42.993Z"
   },
   {
    "duration": 130,
    "start_time": "2023-03-04T00:55:43.017Z"
   },
   {
    "duration": 26,
    "start_time": "2023-03-04T00:55:43.150Z"
   },
   {
    "duration": 112,
    "start_time": "2023-03-04T00:55:43.178Z"
   },
   {
    "duration": 167,
    "start_time": "2023-03-04T00:55:43.292Z"
   },
   {
    "duration": 4,
    "start_time": "2023-03-04T00:55:43.461Z"
   },
   {
    "duration": 681,
    "start_time": "2023-03-04T00:55:43.467Z"
   },
   {
    "duration": 494,
    "start_time": "2023-03-04T00:55:44.149Z"
   },
   {
    "duration": 133,
    "start_time": "2023-03-04T00:55:44.644Z"
   },
   {
    "duration": 24,
    "start_time": "2023-03-04T00:55:44.779Z"
   },
   {
    "duration": 22,
    "start_time": "2023-03-04T00:55:44.805Z"
   },
   {
    "duration": 9,
    "start_time": "2023-03-04T00:55:44.845Z"
   },
   {
    "duration": 28,
    "start_time": "2023-03-04T00:55:44.856Z"
   },
   {
    "duration": 40,
    "start_time": "2023-03-04T00:55:44.886Z"
   },
   {
    "duration": 147,
    "start_time": "2023-03-04T00:55:44.928Z"
   },
   {
    "duration": 10,
    "start_time": "2023-03-04T00:55:45.077Z"
   },
   {
    "duration": 28,
    "start_time": "2023-03-04T00:55:45.088Z"
   },
   {
    "duration": 45,
    "start_time": "2023-03-04T00:55:45.118Z"
   },
   {
    "duration": 181,
    "start_time": "2023-03-04T00:55:45.164Z"
   },
   {
    "duration": 29,
    "start_time": "2023-03-04T00:55:45.347Z"
   },
   {
    "duration": 32,
    "start_time": "2023-03-04T00:55:45.378Z"
   },
   {
    "duration": 149,
    "start_time": "2023-03-04T00:55:45.412Z"
   },
   {
    "duration": 12,
    "start_time": "2023-03-04T00:55:45.563Z"
   },
   {
    "duration": 54,
    "start_time": "2023-03-04T00:55:45.577Z"
   },
   {
    "duration": 1944,
    "start_time": "2023-03-04T00:55:45.633Z"
   },
   {
    "duration": 19,
    "start_time": "2023-03-04T00:55:47.579Z"
   },
   {
    "duration": 501,
    "start_time": "2023-03-04T00:55:47.599Z"
   },
   {
    "duration": 16,
    "start_time": "2023-03-04T00:55:48.102Z"
   },
   {
    "duration": 362,
    "start_time": "2023-03-04T00:55:48.120Z"
   },
   {
    "duration": 16,
    "start_time": "2023-03-04T00:55:48.483Z"
   },
   {
    "duration": 346,
    "start_time": "2023-03-04T00:55:48.501Z"
   },
   {
    "duration": 414,
    "start_time": "2023-03-04T00:55:48.849Z"
   },
   {
    "duration": 516,
    "start_time": "2023-03-04T00:55:49.265Z"
   },
   {
    "duration": 18,
    "start_time": "2023-03-04T00:55:49.782Z"
   },
   {
    "duration": 356,
    "start_time": "2023-03-04T00:55:49.802Z"
   },
   {
    "duration": 487,
    "start_time": "2023-03-04T00:55:50.160Z"
   },
   {
    "duration": 7,
    "start_time": "2023-03-04T00:55:50.649Z"
   },
   {
    "duration": 21,
    "start_time": "2023-03-04T00:55:50.658Z"
   },
   {
    "duration": 19,
    "start_time": "2023-03-04T00:55:50.681Z"
   },
   {
    "duration": 156,
    "start_time": "2023-03-04T00:55:50.703Z"
   },
   {
    "duration": 0,
    "start_time": "2023-03-04T00:55:50.861Z"
   },
   {
    "duration": 0,
    "start_time": "2023-03-04T00:55:50.863Z"
   },
   {
    "duration": 0,
    "start_time": "2023-03-04T00:55:50.864Z"
   },
   {
    "duration": 0,
    "start_time": "2023-03-04T00:55:50.866Z"
   },
   {
    "duration": 0,
    "start_time": "2023-03-04T00:55:50.867Z"
   },
   {
    "duration": 0,
    "start_time": "2023-03-04T00:55:50.868Z"
   }
  ],
  "kernelspec": {
   "display_name": "Python 3 (ipykernel)",
   "language": "python",
   "name": "python3"
  },
  "language_info": {
   "codemirror_mode": {
    "name": "ipython",
    "version": 3
   },
   "file_extension": ".py",
   "mimetype": "text/x-python",
   "name": "python",
   "nbconvert_exporter": "python",
   "pygments_lexer": "ipython3",
   "version": "3.9.5"
  },
  "toc": {
   "base_numbering": 1,
   "nav_menu": {},
   "number_sections": true,
   "sideBar": true,
   "skip_h1_title": true,
   "title_cell": "Table of Contents",
   "title_sidebar": "Contents",
   "toc_cell": false,
   "toc_position": {},
   "toc_section_display": true,
   "toc_window_display": false
  }
 },
 "nbformat": 4,
 "nbformat_minor": 5
}
