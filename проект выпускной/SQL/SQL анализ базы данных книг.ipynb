{
 "cells": [
  {
   "cell_type": "markdown",
   "id": "dbe7b3d4",
   "metadata": {},
   "source": [
    "# SQL анализ базы данных книг"
   ]
  },
  {
   "cell_type": "markdown",
   "id": "c1a1b201",
   "metadata": {},
   "source": [
    "## Задача:\n",
    "Проанализировать базу данных с информацией о книгах, издательствах, авторах, а также обзоры книг.\n",
    "\n",
    "## Цель: \n",
    "Сформулировать ценностное предложение для нового продукта."
   ]
  },
  {
   "cell_type": "markdown",
   "id": "e2b9688c",
   "metadata": {},
   "source": [
    "## Описание данных\n",
    "\n",
    "**Таблица `books`**\n",
    "\n",
    "Содержит данные о книгах:\n",
    "\n",
    "- `book_id` — идентификатор книги;\n",
    "- `author_id` — идентификатор автора;\n",
    "- `title` — название книги;\n",
    "- `num_pages` — количество страниц;\n",
    "- `publication_date` — дата публикации книги;\n",
    "- `publisher_id` — идентификатор издателя.\n",
    "\n",
    "**Таблица `authors`**\n",
    "\n",
    "Содержит данные об авторах:\n",
    "\n",
    "- `author_id` — идентификатор автора;\n",
    "- `author` — имя автора.\n",
    "\n",
    "**Таблица `publishers`**\n",
    "\n",
    "Содержит данные об издательствах:\n",
    "\n",
    "- `publisher_id` — идентификатор издательства;\n",
    "- `publisher` — название издательства;\n",
    "\n",
    "**Таблица `ratings`**\n",
    "\n",
    "Содержит данные о пользовательских оценках книг:\n",
    "\n",
    "- `rating_id` — идентификатор оценки;\n",
    "- `book_id` — идентификатор книги;\n",
    "- `username` — имя пользователя, оставившего оценку;\n",
    "- `rating` — оценка книги.\n",
    "\n",
    "**Таблица `reviews`**\n",
    "\n",
    "Содержит данные о пользовательских обзорах на книги:\n",
    "\n",
    "- `review_id` — идентификатор обзора;\n",
    "- `book_id` — идентификатор книги;\n",
    "- `username` — имя пользователя, написавшего обзор;\n",
    "- `text` — текст обзора."
   ]
  },
  {
   "cell_type": "markdown",
   "id": "97893c58",
   "metadata": {},
   "source": [
    "## Задания\n",
    "\n",
    "- Посчитайте, сколько книг вышло после 1 января 2000 года;\n",
    "- Для каждой книги посчитайте количество обзоров и среднюю оценку;\n",
    "- Определите издательство, которое выпустило наибольшее число книг толще 50 страниц — так вы исключите из анализа брошюры;\n",
    "- Определите автора с самой высокой средней оценкой книг — учитывайте только книги с 50 и более оценками;\n",
    "- Посчитайте среднее количество обзоров от пользователей, которые поставили больше 50 оценок."
   ]
  },
  {
   "cell_type": "code",
   "execution_count": 1,
   "id": "5cb8e3ff",
   "metadata": {},
   "outputs": [],
   "source": [
    "# импортируем библиотеки\n",
    "import pandas as pd\n",
    "from sqlalchemy import create_engine\n",
    "# устанавливаем параметры\n",
    "db_config = {'user': 'praktikum_student', # имя пользователя\n",
    "'pwd': 'Sdf4$2;d-d30pp', # пароль\n",
    "'host': 'rc1b-wcoijxj3yxfsf3fs.mdb.yandexcloud.net',\n",
    "'port': 6432, # порт подключения\n",
    "'db': 'data-analyst-final-project-db'} # название базы данных\n",
    "connection_string = 'postgresql://{}:{}@{}:{}/{}'.format(db_config['user'],\n",
    " db_config['pwd'],\n",
    " db_config['host'],\n",
    " db_config['port'],\n",
    " db_config['db'])\n",
    "# сохраняем коннектор\n",
    "engine = create_engine(connection_string, connect_args = {'sslmode':'require'}) "
   ]
  },
  {
   "cell_type": "code",
   "execution_count": 2,
   "id": "d1404137",
   "metadata": {},
   "outputs": [
    {
     "name": "stdout",
     "output_type": "stream",
     "text": [
      "books - Содержит данные о книгах:\n"
     ]
    },
    {
     "data": {
      "text/html": [
       "<div>\n",
       "<style scoped>\n",
       "    .dataframe tbody tr th:only-of-type {\n",
       "        vertical-align: middle;\n",
       "    }\n",
       "\n",
       "    .dataframe tbody tr th {\n",
       "        vertical-align: top;\n",
       "    }\n",
       "\n",
       "    .dataframe thead th {\n",
       "        text-align: right;\n",
       "    }\n",
       "</style>\n",
       "<table border=\"1\" class=\"dataframe\">\n",
       "  <thead>\n",
       "    <tr style=\"text-align: right;\">\n",
       "      <th></th>\n",
       "      <th>book_id</th>\n",
       "      <th>author_id</th>\n",
       "      <th>title</th>\n",
       "      <th>num_pages</th>\n",
       "      <th>publication_date</th>\n",
       "      <th>publisher_id</th>\n",
       "    </tr>\n",
       "  </thead>\n",
       "  <tbody>\n",
       "    <tr>\n",
       "      <th>0</th>\n",
       "      <td>1</td>\n",
       "      <td>546</td>\n",
       "      <td>'Salem's Lot</td>\n",
       "      <td>594</td>\n",
       "      <td>2005-11-01</td>\n",
       "      <td>93</td>\n",
       "    </tr>\n",
       "    <tr>\n",
       "      <th>1</th>\n",
       "      <td>2</td>\n",
       "      <td>465</td>\n",
       "      <td>1 000 Places to See Before You Die</td>\n",
       "      <td>992</td>\n",
       "      <td>2003-05-22</td>\n",
       "      <td>336</td>\n",
       "    </tr>\n",
       "    <tr>\n",
       "      <th>2</th>\n",
       "      <td>3</td>\n",
       "      <td>407</td>\n",
       "      <td>13 Little Blue Envelopes (Little Blue Envelope...</td>\n",
       "      <td>322</td>\n",
       "      <td>2010-12-21</td>\n",
       "      <td>135</td>\n",
       "    </tr>\n",
       "    <tr>\n",
       "      <th>3</th>\n",
       "      <td>4</td>\n",
       "      <td>82</td>\n",
       "      <td>1491: New Revelations of the Americas Before C...</td>\n",
       "      <td>541</td>\n",
       "      <td>2006-10-10</td>\n",
       "      <td>309</td>\n",
       "    </tr>\n",
       "    <tr>\n",
       "      <th>4</th>\n",
       "      <td>5</td>\n",
       "      <td>125</td>\n",
       "      <td>1776</td>\n",
       "      <td>386</td>\n",
       "      <td>2006-07-04</td>\n",
       "      <td>268</td>\n",
       "    </tr>\n",
       "  </tbody>\n",
       "</table>\n",
       "</div>"
      ],
      "text/plain": [
       "   book_id  author_id                                              title  \\\n",
       "0        1        546                                       'Salem's Lot   \n",
       "1        2        465                 1 000 Places to See Before You Die   \n",
       "2        3        407  13 Little Blue Envelopes (Little Blue Envelope...   \n",
       "3        4         82  1491: New Revelations of the Americas Before C...   \n",
       "4        5        125                                               1776   \n",
       "\n",
       "   num_pages publication_date  publisher_id  \n",
       "0        594       2005-11-01            93  \n",
       "1        992       2003-05-22           336  \n",
       "2        322       2010-12-21           135  \n",
       "3        541       2006-10-10           309  \n",
       "4        386       2006-07-04           268  "
      ]
     },
     "metadata": {},
     "output_type": "display_data"
    }
   ],
   "source": [
    "print('books - Содержит данные о книгах:')\n",
    "query = '''SELECT *\n",
    "           FROM books'''\n",
    "books = pd.io.sql.read_sql(query, con = engine) \n",
    "display(books.head())\n",
    "#display(books.info())"
   ]
  },
  {
   "cell_type": "code",
   "execution_count": 3,
   "id": "5e826d7f",
   "metadata": {},
   "outputs": [
    {
     "name": "stdout",
     "output_type": "stream",
     "text": [
      "authors - Содержит данные об авторах:\n"
     ]
    },
    {
     "data": {
      "text/html": [
       "<div>\n",
       "<style scoped>\n",
       "    .dataframe tbody tr th:only-of-type {\n",
       "        vertical-align: middle;\n",
       "    }\n",
       "\n",
       "    .dataframe tbody tr th {\n",
       "        vertical-align: top;\n",
       "    }\n",
       "\n",
       "    .dataframe thead th {\n",
       "        text-align: right;\n",
       "    }\n",
       "</style>\n",
       "<table border=\"1\" class=\"dataframe\">\n",
       "  <thead>\n",
       "    <tr style=\"text-align: right;\">\n",
       "      <th></th>\n",
       "      <th>author_id</th>\n",
       "      <th>author</th>\n",
       "    </tr>\n",
       "  </thead>\n",
       "  <tbody>\n",
       "    <tr>\n",
       "      <th>0</th>\n",
       "      <td>1</td>\n",
       "      <td>A.S. Byatt</td>\n",
       "    </tr>\n",
       "    <tr>\n",
       "      <th>1</th>\n",
       "      <td>2</td>\n",
       "      <td>Aesop/Laura Harris/Laura Gibbs</td>\n",
       "    </tr>\n",
       "    <tr>\n",
       "      <th>2</th>\n",
       "      <td>3</td>\n",
       "      <td>Agatha Christie</td>\n",
       "    </tr>\n",
       "    <tr>\n",
       "      <th>3</th>\n",
       "      <td>4</td>\n",
       "      <td>Alan Brennert</td>\n",
       "    </tr>\n",
       "    <tr>\n",
       "      <th>4</th>\n",
       "      <td>5</td>\n",
       "      <td>Alan Moore/David   Lloyd</td>\n",
       "    </tr>\n",
       "  </tbody>\n",
       "</table>\n",
       "</div>"
      ],
      "text/plain": [
       "   author_id                          author\n",
       "0          1                      A.S. Byatt\n",
       "1          2  Aesop/Laura Harris/Laura Gibbs\n",
       "2          3                 Agatha Christie\n",
       "3          4                   Alan Brennert\n",
       "4          5        Alan Moore/David   Lloyd"
      ]
     },
     "metadata": {},
     "output_type": "display_data"
    }
   ],
   "source": [
    "print('authors - Содержит данные об авторах:')\n",
    "query = '''SELECT *\n",
    "           FROM authors'''\n",
    "authors = pd.io.sql.read_sql(query, con = engine) \n",
    "display(authors.head())\n",
    "#display(authors.info())"
   ]
  },
  {
   "cell_type": "code",
   "execution_count": 4,
   "id": "9ce52230",
   "metadata": {},
   "outputs": [
    {
     "name": "stdout",
     "output_type": "stream",
     "text": [
      "publishers - Содержит данные об издательствах:\n"
     ]
    },
    {
     "data": {
      "text/html": [
       "<div>\n",
       "<style scoped>\n",
       "    .dataframe tbody tr th:only-of-type {\n",
       "        vertical-align: middle;\n",
       "    }\n",
       "\n",
       "    .dataframe tbody tr th {\n",
       "        vertical-align: top;\n",
       "    }\n",
       "\n",
       "    .dataframe thead th {\n",
       "        text-align: right;\n",
       "    }\n",
       "</style>\n",
       "<table border=\"1\" class=\"dataframe\">\n",
       "  <thead>\n",
       "    <tr style=\"text-align: right;\">\n",
       "      <th></th>\n",
       "      <th>publisher_id</th>\n",
       "      <th>publisher</th>\n",
       "    </tr>\n",
       "  </thead>\n",
       "  <tbody>\n",
       "    <tr>\n",
       "      <th>0</th>\n",
       "      <td>1</td>\n",
       "      <td>Ace</td>\n",
       "    </tr>\n",
       "    <tr>\n",
       "      <th>1</th>\n",
       "      <td>2</td>\n",
       "      <td>Ace Book</td>\n",
       "    </tr>\n",
       "    <tr>\n",
       "      <th>2</th>\n",
       "      <td>3</td>\n",
       "      <td>Ace Books</td>\n",
       "    </tr>\n",
       "    <tr>\n",
       "      <th>3</th>\n",
       "      <td>4</td>\n",
       "      <td>Ace Hardcover</td>\n",
       "    </tr>\n",
       "    <tr>\n",
       "      <th>4</th>\n",
       "      <td>5</td>\n",
       "      <td>Addison Wesley Publishing Company</td>\n",
       "    </tr>\n",
       "  </tbody>\n",
       "</table>\n",
       "</div>"
      ],
      "text/plain": [
       "   publisher_id                          publisher\n",
       "0             1                                Ace\n",
       "1             2                           Ace Book\n",
       "2             3                          Ace Books\n",
       "3             4                      Ace Hardcover\n",
       "4             5  Addison Wesley Publishing Company"
      ]
     },
     "metadata": {},
     "output_type": "display_data"
    }
   ],
   "source": [
    "print('publishers - Содержит данные об издательствах:')\n",
    "query = '''SELECT *\n",
    "           FROM publishers'''\n",
    "publishers = pd.io.sql.read_sql(query, con = engine) \n",
    "display(publishers.head())\n",
    "#display(publishers.info())"
   ]
  },
  {
   "cell_type": "code",
   "execution_count": 5,
   "id": "4d22b24e",
   "metadata": {},
   "outputs": [
    {
     "name": "stdout",
     "output_type": "stream",
     "text": [
      "ratings - Содержит данные о пользовательских оценках книг:\n"
     ]
    },
    {
     "data": {
      "text/html": [
       "<div>\n",
       "<style scoped>\n",
       "    .dataframe tbody tr th:only-of-type {\n",
       "        vertical-align: middle;\n",
       "    }\n",
       "\n",
       "    .dataframe tbody tr th {\n",
       "        vertical-align: top;\n",
       "    }\n",
       "\n",
       "    .dataframe thead th {\n",
       "        text-align: right;\n",
       "    }\n",
       "</style>\n",
       "<table border=\"1\" class=\"dataframe\">\n",
       "  <thead>\n",
       "    <tr style=\"text-align: right;\">\n",
       "      <th></th>\n",
       "      <th>rating_id</th>\n",
       "      <th>book_id</th>\n",
       "      <th>username</th>\n",
       "      <th>rating</th>\n",
       "    </tr>\n",
       "  </thead>\n",
       "  <tbody>\n",
       "    <tr>\n",
       "      <th>0</th>\n",
       "      <td>1</td>\n",
       "      <td>1</td>\n",
       "      <td>ryanfranco</td>\n",
       "      <td>4</td>\n",
       "    </tr>\n",
       "    <tr>\n",
       "      <th>1</th>\n",
       "      <td>2</td>\n",
       "      <td>1</td>\n",
       "      <td>grantpatricia</td>\n",
       "      <td>2</td>\n",
       "    </tr>\n",
       "    <tr>\n",
       "      <th>2</th>\n",
       "      <td>3</td>\n",
       "      <td>1</td>\n",
       "      <td>brandtandrea</td>\n",
       "      <td>5</td>\n",
       "    </tr>\n",
       "    <tr>\n",
       "      <th>3</th>\n",
       "      <td>4</td>\n",
       "      <td>2</td>\n",
       "      <td>lorichen</td>\n",
       "      <td>3</td>\n",
       "    </tr>\n",
       "    <tr>\n",
       "      <th>4</th>\n",
       "      <td>5</td>\n",
       "      <td>2</td>\n",
       "      <td>mariokeller</td>\n",
       "      <td>2</td>\n",
       "    </tr>\n",
       "  </tbody>\n",
       "</table>\n",
       "</div>"
      ],
      "text/plain": [
       "   rating_id  book_id       username  rating\n",
       "0          1        1     ryanfranco       4\n",
       "1          2        1  grantpatricia       2\n",
       "2          3        1   brandtandrea       5\n",
       "3          4        2       lorichen       3\n",
       "4          5        2    mariokeller       2"
      ]
     },
     "metadata": {},
     "output_type": "display_data"
    }
   ],
   "source": [
    "print('ratings - Содержит данные о пользовательских оценках книг:')\n",
    "query = '''SELECT *\n",
    "           FROM ratings'''\n",
    "ratings = pd.io.sql.read_sql(query, con = engine) \n",
    "display(ratings.head())\n",
    "#display(ratings.info())"
   ]
  },
  {
   "cell_type": "code",
   "execution_count": 6,
   "id": "a4d0f16a",
   "metadata": {},
   "outputs": [
    {
     "name": "stdout",
     "output_type": "stream",
     "text": [
      "reviews - Содержит данные о пользовательских обзорах на книги:\n"
     ]
    },
    {
     "data": {
      "text/html": [
       "<div>\n",
       "<style scoped>\n",
       "    .dataframe tbody tr th:only-of-type {\n",
       "        vertical-align: middle;\n",
       "    }\n",
       "\n",
       "    .dataframe tbody tr th {\n",
       "        vertical-align: top;\n",
       "    }\n",
       "\n",
       "    .dataframe thead th {\n",
       "        text-align: right;\n",
       "    }\n",
       "</style>\n",
       "<table border=\"1\" class=\"dataframe\">\n",
       "  <thead>\n",
       "    <tr style=\"text-align: right;\">\n",
       "      <th></th>\n",
       "      <th>review_id</th>\n",
       "      <th>book_id</th>\n",
       "      <th>username</th>\n",
       "      <th>text</th>\n",
       "    </tr>\n",
       "  </thead>\n",
       "  <tbody>\n",
       "    <tr>\n",
       "      <th>0</th>\n",
       "      <td>1</td>\n",
       "      <td>1</td>\n",
       "      <td>brandtandrea</td>\n",
       "      <td>Mention society tell send professor analysis. ...</td>\n",
       "    </tr>\n",
       "    <tr>\n",
       "      <th>1</th>\n",
       "      <td>2</td>\n",
       "      <td>1</td>\n",
       "      <td>ryanfranco</td>\n",
       "      <td>Foot glass pretty audience hit themselves. Amo...</td>\n",
       "    </tr>\n",
       "    <tr>\n",
       "      <th>2</th>\n",
       "      <td>3</td>\n",
       "      <td>2</td>\n",
       "      <td>lorichen</td>\n",
       "      <td>Listen treat keep worry. Miss husband tax but ...</td>\n",
       "    </tr>\n",
       "    <tr>\n",
       "      <th>3</th>\n",
       "      <td>4</td>\n",
       "      <td>3</td>\n",
       "      <td>johnsonamanda</td>\n",
       "      <td>Finally month interesting blue could nature cu...</td>\n",
       "    </tr>\n",
       "    <tr>\n",
       "      <th>4</th>\n",
       "      <td>5</td>\n",
       "      <td>3</td>\n",
       "      <td>scotttamara</td>\n",
       "      <td>Nation purpose heavy give wait song will. List...</td>\n",
       "    </tr>\n",
       "  </tbody>\n",
       "</table>\n",
       "</div>"
      ],
      "text/plain": [
       "   review_id  book_id       username  \\\n",
       "0          1        1   brandtandrea   \n",
       "1          2        1     ryanfranco   \n",
       "2          3        2       lorichen   \n",
       "3          4        3  johnsonamanda   \n",
       "4          5        3    scotttamara   \n",
       "\n",
       "                                                text  \n",
       "0  Mention society tell send professor analysis. ...  \n",
       "1  Foot glass pretty audience hit themselves. Amo...  \n",
       "2  Listen treat keep worry. Miss husband tax but ...  \n",
       "3  Finally month interesting blue could nature cu...  \n",
       "4  Nation purpose heavy give wait song will. List...  "
      ]
     },
     "metadata": {},
     "output_type": "display_data"
    },
    {
     "name": "stdout",
     "output_type": "stream",
     "text": [
      "<class 'pandas.core.frame.DataFrame'>\n",
      "RangeIndex: 2793 entries, 0 to 2792\n",
      "Data columns (total 4 columns):\n",
      " #   Column     Non-Null Count  Dtype \n",
      "---  ------     --------------  ----- \n",
      " 0   review_id  2793 non-null   int64 \n",
      " 1   book_id    2793 non-null   int64 \n",
      " 2   username   2793 non-null   object\n",
      " 3   text       2793 non-null   object\n",
      "dtypes: int64(2), object(2)\n",
      "memory usage: 87.4+ KB\n"
     ]
    },
    {
     "data": {
      "text/plain": [
       "None"
      ]
     },
     "metadata": {},
     "output_type": "display_data"
    }
   ],
   "source": [
    "print('reviews - Содержит данные о пользовательских обзорах на книги:')\n",
    "query = '''SELECT *\n",
    "           FROM reviews'''\n",
    "reviews = pd.io.sql.read_sql(query, con = engine) \n",
    "display(reviews.head())\n",
    "display(reviews.info())"
   ]
  },
  {
   "cell_type": "raw",
   "id": "07638809",
   "metadata": {},
   "source": [
    "# Проверяем на дубликаты \n",
    "print('Количество дубликатов в books:', books.duplicated().sum())\n",
    "print('Количество дубликатов в authors:', authors.duplicated().sum())\n",
    "print('Количество дубликатов в publishers:', publishers.duplicated().sum())\n",
    "print('Количество дубликатов в ratings:', ratings.duplicated().sum())\n",
    "print('Количество дубликатов в reviews:', reviews.duplicated().sum())\n",
    "\n",
    "print('Количество пропусков в books:')\n",
    "display(books.isnull().sum())\n",
    "print('Количество пропусков в authors:')\n",
    "display(authors.isnull().sum())\n",
    "print('Количество пропусков в publishers:') \n",
    "display(publishers.isnull().sum())\n",
    "print('Количество пропусков в ratings:')\n",
    "display(ratings.isnull().sum())\n",
    "print('Количество пропусков в reviews:')\n",
    "display(reviews.isnull().sum())"
   ]
  },
  {
   "cell_type": "markdown",
   "id": "a7cae86a",
   "metadata": {},
   "source": [
    "<div class=\"alert alert-block alert-success\">\n",
    "    \n",
    "\n",
    "### Комментарий от ревьюера\n",
    "Отлично\n",
    "    \n",
    "Доступ к базе получили, на таблицы посмотрели, переходим к основной работе\n",
    "    \n",
    "</div>"
   ]
  },
  {
   "cell_type": "markdown",
   "id": "a47ca545",
   "metadata": {},
   "source": [
    "### Посчитайте, сколько книг вышло после 1 января 2000 года;"
   ]
  },
  {
   "cell_type": "code",
   "execution_count": 7,
   "id": "b90795ae",
   "metadata": {},
   "outputs": [],
   "source": [
    "query = ''' SELECT COUNT(book_id)\n",
    "            FROM books\n",
    "            WHERE CAST(publication_date AS DATE) > '2000-01-01' '''"
   ]
  },
  {
   "cell_type": "code",
   "execution_count": 8,
   "id": "615c110f",
   "metadata": {},
   "outputs": [
    {
     "data": {
      "text/html": [
       "<div>\n",
       "<style scoped>\n",
       "    .dataframe tbody tr th:only-of-type {\n",
       "        vertical-align: middle;\n",
       "    }\n",
       "\n",
       "    .dataframe tbody tr th {\n",
       "        vertical-align: top;\n",
       "    }\n",
       "\n",
       "    .dataframe thead th {\n",
       "        text-align: right;\n",
       "    }\n",
       "</style>\n",
       "<table border=\"1\" class=\"dataframe\">\n",
       "  <thead>\n",
       "    <tr style=\"text-align: right;\">\n",
       "      <th></th>\n",
       "      <th>count</th>\n",
       "    </tr>\n",
       "  </thead>\n",
       "  <tbody>\n",
       "    <tr>\n",
       "      <th>0</th>\n",
       "      <td>819</td>\n",
       "    </tr>\n",
       "  </tbody>\n",
       "</table>\n",
       "</div>"
      ],
      "text/plain": [
       "   count\n",
       "0    819"
      ]
     },
     "execution_count": 8,
     "metadata": {},
     "output_type": "execute_result"
    }
   ],
   "source": [
    "\n",
    "pd.io.sql.read_sql(query, con = engine)"
   ]
  },
  {
   "cell_type": "markdown",
   "id": "f40c84fb",
   "metadata": {},
   "source": [
    "**819** книг вышло после 1 января 2000 года"
   ]
  },
  {
   "cell_type": "markdown",
   "id": "d73929f6",
   "metadata": {},
   "source": [
    "### Для каждой книги посчитайте количество обзоров и среднюю оценку;"
   ]
  },
  {
   "cell_type": "code",
   "execution_count": 9,
   "id": "1c158d35",
   "metadata": {},
   "outputs": [],
   "source": [
    "query = ''' SELECT b.title,\n",
    "                   COUNT(DISTINCT rev.review_id),\n",
    "                   ROUND(AVG(rat.rating), 1)\n",
    "            FROM ratings AS rat\n",
    "            LEFT JOIN reviews AS rev ON rev.book_id = rat.book_id \n",
    "            LEFT JOIN books AS b ON b.book_id = rat.book_id \n",
    "            GROUP BY b.book_id\n",
    "            ORDER BY COUNT(DISTINCT rev.review_id) DESC''' "
   ]
  },
  {
   "cell_type": "code",
   "execution_count": 10,
   "id": "03e79393",
   "metadata": {},
   "outputs": [
    {
     "data": {
      "text/html": [
       "<div>\n",
       "<style scoped>\n",
       "    .dataframe tbody tr th:only-of-type {\n",
       "        vertical-align: middle;\n",
       "    }\n",
       "\n",
       "    .dataframe tbody tr th {\n",
       "        vertical-align: top;\n",
       "    }\n",
       "\n",
       "    .dataframe thead th {\n",
       "        text-align: right;\n",
       "    }\n",
       "</style>\n",
       "<table border=\"1\" class=\"dataframe\">\n",
       "  <thead>\n",
       "    <tr style=\"text-align: right;\">\n",
       "      <th></th>\n",
       "      <th>title</th>\n",
       "      <th>count</th>\n",
       "      <th>round</th>\n",
       "    </tr>\n",
       "  </thead>\n",
       "  <tbody>\n",
       "    <tr>\n",
       "      <th>0</th>\n",
       "      <td>Twilight (Twilight  #1)</td>\n",
       "      <td>7</td>\n",
       "      <td>3.7</td>\n",
       "    </tr>\n",
       "    <tr>\n",
       "      <th>1</th>\n",
       "      <td>Water for Elephants</td>\n",
       "      <td>6</td>\n",
       "      <td>4.0</td>\n",
       "    </tr>\n",
       "    <tr>\n",
       "      <th>2</th>\n",
       "      <td>The Glass Castle</td>\n",
       "      <td>6</td>\n",
       "      <td>4.2</td>\n",
       "    </tr>\n",
       "    <tr>\n",
       "      <th>3</th>\n",
       "      <td>Harry Potter and the Prisoner of Azkaban (Harr...</td>\n",
       "      <td>6</td>\n",
       "      <td>4.4</td>\n",
       "    </tr>\n",
       "    <tr>\n",
       "      <th>4</th>\n",
       "      <td>The Curious Incident of the Dog in the Night-Time</td>\n",
       "      <td>6</td>\n",
       "      <td>4.1</td>\n",
       "    </tr>\n",
       "    <tr>\n",
       "      <th>...</th>\n",
       "      <td>...</td>\n",
       "      <td>...</td>\n",
       "      <td>...</td>\n",
       "    </tr>\n",
       "    <tr>\n",
       "      <th>995</th>\n",
       "      <td>Anne Rice's The Vampire Lestat: A Graphic Novel</td>\n",
       "      <td>0</td>\n",
       "      <td>3.7</td>\n",
       "    </tr>\n",
       "    <tr>\n",
       "      <th>996</th>\n",
       "      <td>The Natural Way to Draw</td>\n",
       "      <td>0</td>\n",
       "      <td>3.0</td>\n",
       "    </tr>\n",
       "    <tr>\n",
       "      <th>997</th>\n",
       "      <td>The Cat in the Hat and Other Dr. Seuss Favorites</td>\n",
       "      <td>0</td>\n",
       "      <td>5.0</td>\n",
       "    </tr>\n",
       "    <tr>\n",
       "      <th>998</th>\n",
       "      <td>Essential Tales and Poems</td>\n",
       "      <td>0</td>\n",
       "      <td>4.0</td>\n",
       "    </tr>\n",
       "    <tr>\n",
       "      <th>999</th>\n",
       "      <td>Disney's Beauty and the Beast (A Little Golden...</td>\n",
       "      <td>0</td>\n",
       "      <td>4.0</td>\n",
       "    </tr>\n",
       "  </tbody>\n",
       "</table>\n",
       "<p>1000 rows × 3 columns</p>\n",
       "</div>"
      ],
      "text/plain": [
       "                                                 title  count  round\n",
       "0                              Twilight (Twilight  #1)      7    3.7\n",
       "1                                  Water for Elephants      6    4.0\n",
       "2                                     The Glass Castle      6    4.2\n",
       "3    Harry Potter and the Prisoner of Azkaban (Harr...      6    4.4\n",
       "4    The Curious Incident of the Dog in the Night-Time      6    4.1\n",
       "..                                                 ...    ...    ...\n",
       "995    Anne Rice's The Vampire Lestat: A Graphic Novel      0    3.7\n",
       "996                            The Natural Way to Draw      0    3.0\n",
       "997   The Cat in the Hat and Other Dr. Seuss Favorites      0    5.0\n",
       "998                          Essential Tales and Poems      0    4.0\n",
       "999  Disney's Beauty and the Beast (A Little Golden...      0    4.0\n",
       "\n",
       "[1000 rows x 3 columns]"
      ]
     },
     "execution_count": 10,
     "metadata": {},
     "output_type": "execute_result"
    }
   ],
   "source": [
    "pd.io.sql.read_sql(query, con = engine)"
   ]
  },
  {
   "cell_type": "markdown",
   "id": "aeb26ac6",
   "metadata": {},
   "source": [
    "Самое большое количество обзоров вышло на книгу - **Twilight (Twilight #1)** "
   ]
  },
  {
   "cell_type": "markdown",
   "id": "f0d42899",
   "metadata": {},
   "source": [
    "###  Определите издательство, которое выпустило наибольшее число книг толще 50 страниц — так вы исключите из анализа брошюры"
   ]
  },
  {
   "cell_type": "code",
   "execution_count": 11,
   "id": "8d7703eb",
   "metadata": {},
   "outputs": [],
   "source": [
    "query = ''' SELECT p.publisher,\n",
    "                   COUNT(b.book_id)                   \n",
    "            FROM books AS b \n",
    "            JOIN publishers AS p ON p.publisher_id = b.publisher_id  \n",
    "            WHERE b.num_pages > 50 \n",
    "            GROUP BY 1\n",
    "            ORDER BY 2 DESC\n",
    "            LIMIT 1'''"
   ]
  },
  {
   "cell_type": "code",
   "execution_count": 12,
   "id": "dc86f9f8",
   "metadata": {},
   "outputs": [
    {
     "data": {
      "text/html": [
       "<div>\n",
       "<style scoped>\n",
       "    .dataframe tbody tr th:only-of-type {\n",
       "        vertical-align: middle;\n",
       "    }\n",
       "\n",
       "    .dataframe tbody tr th {\n",
       "        vertical-align: top;\n",
       "    }\n",
       "\n",
       "    .dataframe thead th {\n",
       "        text-align: right;\n",
       "    }\n",
       "</style>\n",
       "<table border=\"1\" class=\"dataframe\">\n",
       "  <thead>\n",
       "    <tr style=\"text-align: right;\">\n",
       "      <th></th>\n",
       "      <th>publisher</th>\n",
       "      <th>count</th>\n",
       "    </tr>\n",
       "  </thead>\n",
       "  <tbody>\n",
       "    <tr>\n",
       "      <th>0</th>\n",
       "      <td>Penguin Books</td>\n",
       "      <td>42</td>\n",
       "    </tr>\n",
       "  </tbody>\n",
       "</table>\n",
       "</div>"
      ],
      "text/plain": [
       "       publisher  count\n",
       "0  Penguin Books     42"
      ]
     },
     "execution_count": 12,
     "metadata": {},
     "output_type": "execute_result"
    }
   ],
   "source": [
    "pd.io.sql.read_sql(query, con = engine)"
   ]
  },
  {
   "cell_type": "markdown",
   "id": "6e9f7b74",
   "metadata": {},
   "source": [
    "Издательство **Penguin Books** выпустило наибольшее число книг (42) толще 50 страниц"
   ]
  },
  {
   "cell_type": "markdown",
   "id": "6f0d399e",
   "metadata": {},
   "source": [
    "### Определите автора с самой высокой средней оценкой книг — учитывайте только книги с 50 и более оценками"
   ]
  },
  {
   "cell_type": "code",
   "execution_count": 19,
   "id": "8d284f5d",
   "metadata": {},
   "outputs": [],
   "source": [
    "query = '''SELECT a.author, \n",
    "                  COUNT(rat.rating) AS count,\n",
    "                  ROUND(AVG(rat.rating), 1) AS avg_rating\n",
    "           FROM books AS b\n",
    "           JOIN authors AS a ON a.author_id = b.author_id\n",
    "           JOIN ratings AS rat ON b.book_id = rat.book_id\n",
    "           WHERE b.book_id IN (SELECT book_id\n",
    "                               FROM ratings \n",
    "                               GROUP BY book_id\n",
    "                               HAVING COUNT (rating_id) >= 50\n",
    "                               ORDER BY COUNT (rating_id) DESC,\n",
    "                                        MAX(rating))\n",
    "           \n",
    "           GROUP BY 1\n",
    "           ORDER BY 3 DESC\n",
    "           LIMIT 1'''"
   ]
  },
  {
   "cell_type": "code",
   "execution_count": 20,
   "id": "b43ea2e1",
   "metadata": {},
   "outputs": [
    {
     "data": {
      "text/html": [
       "<div>\n",
       "<style scoped>\n",
       "    .dataframe tbody tr th:only-of-type {\n",
       "        vertical-align: middle;\n",
       "    }\n",
       "\n",
       "    .dataframe tbody tr th {\n",
       "        vertical-align: top;\n",
       "    }\n",
       "\n",
       "    .dataframe thead th {\n",
       "        text-align: right;\n",
       "    }\n",
       "</style>\n",
       "<table border=\"1\" class=\"dataframe\">\n",
       "  <thead>\n",
       "    <tr style=\"text-align: right;\">\n",
       "      <th></th>\n",
       "      <th>author</th>\n",
       "      <th>count</th>\n",
       "      <th>avg_rating</th>\n",
       "    </tr>\n",
       "  </thead>\n",
       "  <tbody>\n",
       "    <tr>\n",
       "      <th>0</th>\n",
       "      <td>J.K. Rowling/Mary GrandPré</td>\n",
       "      <td>310</td>\n",
       "      <td>4.3</td>\n",
       "    </tr>\n",
       "  </tbody>\n",
       "</table>\n",
       "</div>"
      ],
      "text/plain": [
       "                       author  count  avg_rating\n",
       "0  J.K. Rowling/Mary GrandPré    310         4.3"
      ]
     },
     "execution_count": 20,
     "metadata": {},
     "output_type": "execute_result"
    }
   ],
   "source": [
    "pd.io.sql.read_sql(query, con = engine)"
   ]
  },
  {
   "cell_type": "markdown",
   "id": "35032562",
   "metadata": {},
   "source": [
    "**J.K. Rowling/Mary GrandPré** - автор с самой высокой средней оценкой книг = 4.3 и количеством оценок = 312."
   ]
  },
  {
   "cell_type": "markdown",
   "id": "3c71edda",
   "metadata": {},
   "source": [
    "### Посчитайте среднее количество обзоров от пользователей, которые поставили больше 50 оценок."
   ]
  },
  {
   "cell_type": "code",
   "execution_count": 15,
   "id": "fa8dc120",
   "metadata": {},
   "outputs": [],
   "source": [
    "query = ''' SELECT ROUND(AVG(two.count), 1) AS avg_review\n",
    "            FROM\n",
    "               (SELECT rev.username,\n",
    "                        COUNT(rev.review_id) AS count\n",
    "                 FROM       \n",
    "                     (SELECT username,\n",
    "                             COUNT(rating) \n",
    "                      FROM ratings\n",
    "                      GROUP BY 1\n",
    "                      HAVING COUNT(rating) > 50) AS one\n",
    "                 JOIN reviews AS rev ON rev.username = one.username\n",
    "                 GROUP BY 1) AS two\n",
    "            '''"
   ]
  },
  {
   "cell_type": "code",
   "execution_count": 16,
   "id": "84f0c00d",
   "metadata": {},
   "outputs": [
    {
     "data": {
      "text/html": [
       "<div>\n",
       "<style scoped>\n",
       "    .dataframe tbody tr th:only-of-type {\n",
       "        vertical-align: middle;\n",
       "    }\n",
       "\n",
       "    .dataframe tbody tr th {\n",
       "        vertical-align: top;\n",
       "    }\n",
       "\n",
       "    .dataframe thead th {\n",
       "        text-align: right;\n",
       "    }\n",
       "</style>\n",
       "<table border=\"1\" class=\"dataframe\">\n",
       "  <thead>\n",
       "    <tr style=\"text-align: right;\">\n",
       "      <th></th>\n",
       "      <th>avg_review</th>\n",
       "    </tr>\n",
       "  </thead>\n",
       "  <tbody>\n",
       "    <tr>\n",
       "      <th>0</th>\n",
       "      <td>24.3</td>\n",
       "    </tr>\n",
       "  </tbody>\n",
       "</table>\n",
       "</div>"
      ],
      "text/plain": [
       "   avg_review\n",
       "0        24.3"
      ]
     },
     "execution_count": 16,
     "metadata": {},
     "output_type": "execute_result"
    }
   ],
   "source": [
    "pd.io.sql.read_sql(query, con = engine)"
   ]
  },
  {
   "cell_type": "markdown",
   "id": "8d9db31a",
   "metadata": {},
   "source": [
    "**24.3** - среднее количество обзоров от пользователей, совершивших больше 50 оценок."
   ]
  },
  {
   "cell_type": "markdown",
   "id": "7a8403b3",
   "metadata": {},
   "source": [
    "## Вывод:\n",
    "- **819** книг вышло после 1 января 2000 года\n",
    "- Самое большое количество обзоров вышло на книгу - **Twilight (Twilight #1)** \n",
    "- Издательство **Penguin Books** выпустило наибольшее число книг (42) толще 50 страниц\n",
    "- **J.K. Rowling/Mary GrandPré** - автор с самой высокой средней оценкой книг = 4.3 и количеством оценок = 312.\n",
    "- **24.3** - среднее количество обзоров от пользователей, совершивших больше 50 оценок."
   ]
  }
 ],
 "metadata": {
  "ExecuteTimeLog": [
   {
    "duration": 8575,
    "start_time": "2023-03-13T07:19:39.414Z"
   },
   {
    "duration": 75,
    "start_time": "2023-03-13T07:19:47.991Z"
   },
   {
    "duration": 0,
    "start_time": "2023-03-13T07:19:48.068Z"
   },
   {
    "duration": 0,
    "start_time": "2023-03-13T07:19:48.069Z"
   },
   {
    "duration": 0,
    "start_time": "2023-03-13T07:19:48.070Z"
   },
   {
    "duration": 0,
    "start_time": "2023-03-13T07:19:48.072Z"
   },
   {
    "duration": 0,
    "start_time": "2023-03-13T07:19:48.073Z"
   },
   {
    "duration": 0,
    "start_time": "2023-03-13T07:19:48.074Z"
   },
   {
    "duration": 0,
    "start_time": "2023-03-13T07:19:48.075Z"
   },
   {
    "duration": 0,
    "start_time": "2023-03-13T07:19:48.077Z"
   },
   {
    "duration": 0,
    "start_time": "2023-03-13T07:19:48.078Z"
   },
   {
    "duration": 5,
    "start_time": "2023-03-13T07:20:04.472Z"
   },
   {
    "duration": 63,
    "start_time": "2023-03-13T07:20:07.943Z"
   },
   {
    "duration": 14,
    "start_time": "2023-03-13T07:20:08.868Z"
   },
   {
    "duration": 14,
    "start_time": "2023-03-13T07:20:09.409Z"
   },
   {
    "duration": 28,
    "start_time": "2023-03-13T07:20:09.888Z"
   },
   {
    "duration": 19,
    "start_time": "2023-03-13T07:20:10.436Z"
   },
   {
    "duration": 4,
    "start_time": "2023-03-13T07:20:24.082Z"
   },
   {
    "duration": 2,
    "start_time": "2023-03-13T07:24:04.521Z"
   },
   {
    "duration": 3,
    "start_time": "2023-03-13T07:24:25.388Z"
   },
   {
    "duration": 2,
    "start_time": "2023-03-13T07:28:23.182Z"
   },
   {
    "duration": 3,
    "start_time": "2023-03-13T07:28:37.038Z"
   },
   {
    "duration": 3,
    "start_time": "2023-03-13T07:29:04.370Z"
   },
   {
    "duration": 3,
    "start_time": "2023-03-13T07:29:33.358Z"
   },
   {
    "duration": 13,
    "start_time": "2023-03-13T07:31:39.287Z"
   },
   {
    "duration": 3,
    "start_time": "2023-03-13T07:41:07.106Z"
   },
   {
    "duration": 16,
    "start_time": "2023-03-13T07:41:13.229Z"
   },
   {
    "duration": 3,
    "start_time": "2023-03-13T07:42:08.012Z"
   },
   {
    "duration": 15,
    "start_time": "2023-03-13T07:42:09.412Z"
   },
   {
    "duration": 3,
    "start_time": "2023-03-13T07:42:37.172Z"
   },
   {
    "duration": 94,
    "start_time": "2023-03-13T07:42:38.016Z"
   },
   {
    "duration": 3,
    "start_time": "2023-03-13T07:43:06.534Z"
   },
   {
    "duration": 94,
    "start_time": "2023-03-13T07:43:07.749Z"
   },
   {
    "duration": 3,
    "start_time": "2023-03-13T07:43:35.570Z"
   },
   {
    "duration": 36,
    "start_time": "2023-03-13T07:43:38.698Z"
   },
   {
    "duration": 4,
    "start_time": "2023-03-13T07:45:14.117Z"
   },
   {
    "duration": 3,
    "start_time": "2023-03-13T07:46:12.549Z"
   },
   {
    "duration": 29,
    "start_time": "2023-03-13T07:46:14.636Z"
   },
   {
    "duration": 3,
    "start_time": "2023-03-13T07:47:14.650Z"
   },
   {
    "duration": 29,
    "start_time": "2023-03-13T07:47:16.763Z"
   },
   {
    "duration": 3,
    "start_time": "2023-03-13T07:48:05.718Z"
   },
   {
    "duration": 3,
    "start_time": "2023-03-13T07:48:06.863Z"
   },
   {
    "duration": 30,
    "start_time": "2023-03-13T07:48:10.871Z"
   },
   {
    "duration": 2,
    "start_time": "2023-03-13T07:48:15.935Z"
   },
   {
    "duration": 28,
    "start_time": "2023-03-13T07:48:16.230Z"
   },
   {
    "duration": 4,
    "start_time": "2023-03-13T07:48:19.262Z"
   },
   {
    "duration": 33,
    "start_time": "2023-03-13T07:48:19.519Z"
   },
   {
    "duration": 3,
    "start_time": "2023-03-13T07:48:45.268Z"
   },
   {
    "duration": 30,
    "start_time": "2023-03-13T07:48:45.705Z"
   },
   {
    "duration": 2,
    "start_time": "2023-03-13T07:50:27.855Z"
   },
   {
    "duration": 3,
    "start_time": "2023-03-13T07:54:16.859Z"
   },
   {
    "duration": 102,
    "start_time": "2023-03-13T07:54:17.027Z"
   },
   {
    "duration": 3,
    "start_time": "2023-03-13T07:55:22.368Z"
   },
   {
    "duration": 91,
    "start_time": "2023-03-13T07:55:23.048Z"
   },
   {
    "duration": 2,
    "start_time": "2023-03-13T07:55:53.425Z"
   },
   {
    "duration": 91,
    "start_time": "2023-03-13T07:55:54.443Z"
   },
   {
    "duration": 2,
    "start_time": "2023-03-13T07:56:19.842Z"
   },
   {
    "duration": 95,
    "start_time": "2023-03-13T07:56:20.822Z"
   },
   {
    "duration": 3,
    "start_time": "2023-03-13T07:56:42.998Z"
   },
   {
    "duration": 93,
    "start_time": "2023-03-13T07:56:46.036Z"
   },
   {
    "duration": 2,
    "start_time": "2023-03-13T07:57:35.940Z"
   },
   {
    "duration": 89,
    "start_time": "2023-03-13T07:57:36.907Z"
   },
   {
    "duration": 2,
    "start_time": "2023-03-13T08:00:29.061Z"
   },
   {
    "duration": 16,
    "start_time": "2023-03-13T08:00:29.956Z"
   },
   {
    "duration": 2,
    "start_time": "2023-03-13T08:00:50.254Z"
   },
   {
    "duration": 92,
    "start_time": "2023-03-13T08:00:53.206Z"
   },
   {
    "duration": 3,
    "start_time": "2023-03-13T08:01:42.930Z"
   },
   {
    "duration": 92,
    "start_time": "2023-03-13T08:01:45.123Z"
   },
   {
    "duration": 3,
    "start_time": "2023-03-13T08:02:19.955Z"
   },
   {
    "duration": 2,
    "start_time": "2023-03-13T08:02:20.159Z"
   },
   {
    "duration": 18,
    "start_time": "2023-03-13T08:02:20.798Z"
   },
   {
    "duration": 3,
    "start_time": "2023-03-13T08:02:26.088Z"
   },
   {
    "duration": 101,
    "start_time": "2023-03-13T08:02:26.265Z"
   },
   {
    "duration": 3,
    "start_time": "2023-03-13T08:02:43.821Z"
   },
   {
    "duration": 142,
    "start_time": "2023-03-13T08:02:44.110Z"
   },
   {
    "duration": 3,
    "start_time": "2023-03-13T08:03:14.597Z"
   },
   {
    "duration": 101,
    "start_time": "2023-03-13T08:03:15.012Z"
   },
   {
    "duration": 3,
    "start_time": "2023-03-13T08:03:42.343Z"
   },
   {
    "duration": 16,
    "start_time": "2023-03-13T08:03:42.634Z"
   },
   {
    "duration": 3,
    "start_time": "2023-03-13T08:03:52.014Z"
   },
   {
    "duration": 12,
    "start_time": "2023-03-13T08:03:53.318Z"
   },
   {
    "duration": 69,
    "start_time": "2023-03-13T08:05:18.039Z"
   },
   {
    "duration": 8,
    "start_time": "2023-03-14T07:06:16.854Z"
   },
   {
    "duration": 48,
    "start_time": "2023-03-14T07:06:17.809Z"
   },
   {
    "duration": 7260,
    "start_time": "2023-03-14T07:06:24.783Z"
   },
   {
    "duration": 348,
    "start_time": "2023-03-14T07:06:32.045Z"
   },
   {
    "duration": 84,
    "start_time": "2023-03-14T07:06:32.394Z"
   },
   {
    "duration": 81,
    "start_time": "2023-03-14T07:06:32.481Z"
   },
   {
    "duration": 132,
    "start_time": "2023-03-14T07:06:32.564Z"
   },
   {
    "duration": 99,
    "start_time": "2023-03-14T07:06:32.698Z"
   },
   {
    "duration": 2,
    "start_time": "2023-03-14T07:06:32.799Z"
   },
   {
    "duration": 84,
    "start_time": "2023-03-14T07:06:32.803Z"
   },
   {
    "duration": 2,
    "start_time": "2023-03-14T07:07:03.073Z"
   },
   {
    "duration": 119,
    "start_time": "2023-03-14T07:07:03.378Z"
   },
   {
    "duration": 3,
    "start_time": "2023-03-14T07:07:24.902Z"
   },
   {
    "duration": 83,
    "start_time": "2023-03-14T07:07:25.314Z"
   },
   {
    "duration": 3,
    "start_time": "2023-03-14T07:12:45.316Z"
   },
   {
    "duration": 170,
    "start_time": "2023-03-14T07:12:52.201Z"
   },
   {
    "duration": 3,
    "start_time": "2023-03-14T07:15:17.295Z"
   },
   {
    "duration": 270,
    "start_time": "2023-03-14T07:15:21.561Z"
   },
   {
    "duration": 3,
    "start_time": "2023-03-14T07:22:17.566Z"
   },
   {
    "duration": 1027,
    "start_time": "2023-03-14T07:22:18.155Z"
   },
   {
    "duration": 3,
    "start_time": "2023-03-14T07:24:53.353Z"
   },
   {
    "duration": 159,
    "start_time": "2023-03-14T07:24:54.441Z"
   },
   {
    "duration": 3,
    "start_time": "2023-03-14T07:25:04.040Z"
   },
   {
    "duration": 92,
    "start_time": "2023-03-14T07:25:04.545Z"
   },
   {
    "duration": 4,
    "start_time": "2023-03-14T07:26:26.577Z"
   },
   {
    "duration": 103,
    "start_time": "2023-03-14T07:26:27.048Z"
   },
   {
    "duration": 4,
    "start_time": "2023-03-14T07:27:23.416Z"
   },
   {
    "duration": 167,
    "start_time": "2023-03-14T07:27:23.895Z"
   },
   {
    "duration": 3,
    "start_time": "2023-03-14T07:27:56.760Z"
   },
   {
    "duration": 136,
    "start_time": "2023-03-14T07:27:56.924Z"
   },
   {
    "duration": 3,
    "start_time": "2023-03-14T07:28:59.000Z"
   },
   {
    "duration": 100,
    "start_time": "2023-03-14T07:28:59.529Z"
   },
   {
    "duration": 2,
    "start_time": "2023-03-14T07:29:23.003Z"
   },
   {
    "duration": 97,
    "start_time": "2023-03-14T07:29:23.171Z"
   },
   {
    "duration": 3,
    "start_time": "2023-03-14T07:32:27.445Z"
   },
   {
    "duration": 141,
    "start_time": "2023-03-14T07:32:28.174Z"
   },
   {
    "duration": 3,
    "start_time": "2023-03-14T07:32:46.220Z"
   },
   {
    "duration": 106,
    "start_time": "2023-03-14T07:32:46.555Z"
   },
   {
    "duration": 2,
    "start_time": "2023-03-14T07:33:12.487Z"
   },
   {
    "duration": 95,
    "start_time": "2023-03-14T07:33:13.008Z"
   },
   {
    "duration": 3,
    "start_time": "2023-03-14T07:33:25.445Z"
   },
   {
    "duration": 168,
    "start_time": "2023-03-14T07:33:25.932Z"
   },
   {
    "duration": 2,
    "start_time": "2023-03-14T07:33:43.767Z"
   },
   {
    "duration": 139,
    "start_time": "2023-03-14T07:33:44.226Z"
   },
   {
    "duration": 2,
    "start_time": "2023-03-14T07:34:27.013Z"
   },
   {
    "duration": 94,
    "start_time": "2023-03-14T07:34:27.557Z"
   },
   {
    "duration": 3,
    "start_time": "2023-03-14T07:34:44.128Z"
   },
   {
    "duration": 132,
    "start_time": "2023-03-14T07:34:44.501Z"
   },
   {
    "duration": 4,
    "start_time": "2023-03-14T07:34:47.877Z"
   },
   {
    "duration": 96,
    "start_time": "2023-03-14T07:34:48.334Z"
   },
   {
    "duration": 3,
    "start_time": "2023-03-14T07:36:18.585Z"
   },
   {
    "duration": 2,
    "start_time": "2023-03-14T07:36:19.138Z"
   },
   {
    "duration": 94,
    "start_time": "2023-03-14T07:36:19.665Z"
   },
   {
    "duration": 2,
    "start_time": "2023-03-14T07:36:52.139Z"
   },
   {
    "duration": 100,
    "start_time": "2023-03-14T07:36:52.302Z"
   },
   {
    "duration": 3,
    "start_time": "2023-03-14T07:37:39.950Z"
   },
   {
    "duration": 100,
    "start_time": "2023-03-14T07:37:40.254Z"
   },
   {
    "duration": 3,
    "start_time": "2023-03-14T07:37:50.463Z"
   },
   {
    "duration": 97,
    "start_time": "2023-03-14T07:37:50.889Z"
   },
   {
    "duration": 3,
    "start_time": "2023-03-14T07:38:40.547Z"
   },
   {
    "duration": 77,
    "start_time": "2023-03-14T07:38:40.696Z"
   },
   {
    "duration": 3,
    "start_time": "2023-03-14T07:43:04.910Z"
   },
   {
    "duration": 82,
    "start_time": "2023-03-14T07:43:05.071Z"
   },
   {
    "duration": 3,
    "start_time": "2023-03-14T07:51:26.803Z"
   },
   {
    "duration": 80,
    "start_time": "2023-03-14T07:51:26.937Z"
   },
   {
    "duration": 3,
    "start_time": "2023-03-14T07:51:36.904Z"
   },
   {
    "duration": 97,
    "start_time": "2023-03-14T07:51:37.088Z"
   },
   {
    "duration": 3,
    "start_time": "2023-03-14T07:51:54.128Z"
   },
   {
    "duration": 144,
    "start_time": "2023-03-14T07:51:55.462Z"
   },
   {
    "duration": 3,
    "start_time": "2023-03-14T07:54:02.959Z"
   },
   {
    "duration": 156,
    "start_time": "2023-03-14T07:54:03.462Z"
   },
   {
    "duration": 3,
    "start_time": "2023-03-14T08:18:05.315Z"
   },
   {
    "duration": 157,
    "start_time": "2023-03-14T08:18:05.489Z"
   },
   {
    "duration": 2,
    "start_time": "2023-03-14T08:18:10.224Z"
   },
   {
    "duration": 102,
    "start_time": "2023-03-14T08:18:10.522Z"
   },
   {
    "duration": 3,
    "start_time": "2023-03-14T08:21:15.126Z"
   },
   {
    "duration": 104,
    "start_time": "2023-03-14T08:21:15.289Z"
   },
   {
    "duration": 3,
    "start_time": "2023-03-14T08:21:25.293Z"
   },
   {
    "duration": 141,
    "start_time": "2023-03-14T08:21:27.528Z"
   },
   {
    "duration": 2,
    "start_time": "2023-03-14T08:21:32.862Z"
   },
   {
    "duration": 136,
    "start_time": "2023-03-14T08:21:33.593Z"
   },
   {
    "duration": 3,
    "start_time": "2023-03-14T08:36:30.153Z"
   },
   {
    "duration": 103,
    "start_time": "2023-03-14T08:36:30.492Z"
   },
   {
    "duration": 3,
    "start_time": "2023-03-14T08:36:45.345Z"
   },
   {
    "duration": 108,
    "start_time": "2023-03-14T08:36:45.696Z"
   },
   {
    "duration": 3,
    "start_time": "2023-03-14T08:37:53.791Z"
   },
   {
    "duration": 146,
    "start_time": "2023-03-14T08:37:54.170Z"
   },
   {
    "duration": 3,
    "start_time": "2023-03-14T08:38:10.507Z"
   },
   {
    "duration": 138,
    "start_time": "2023-03-14T08:38:10.810Z"
   },
   {
    "duration": 4,
    "start_time": "2023-03-14T08:38:36.591Z"
   },
   {
    "duration": 197,
    "start_time": "2023-03-14T08:38:37.132Z"
   },
   {
    "duration": 3,
    "start_time": "2023-03-14T08:39:05.107Z"
   },
   {
    "duration": 141,
    "start_time": "2023-03-14T08:39:05.650Z"
   },
   {
    "duration": 3,
    "start_time": "2023-03-14T08:41:11.906Z"
   },
   {
    "duration": 128,
    "start_time": "2023-03-14T08:41:12.218Z"
   },
   {
    "duration": 3,
    "start_time": "2023-03-14T08:55:15.161Z"
   },
   {
    "duration": 99,
    "start_time": "2023-03-14T08:55:15.801Z"
   },
   {
    "duration": 4,
    "start_time": "2023-03-14T08:55:24.569Z"
   },
   {
    "duration": 81,
    "start_time": "2023-03-14T08:55:28.610Z"
   },
   {
    "duration": 3,
    "start_time": "2023-03-14T08:55:58.056Z"
   },
   {
    "duration": 81,
    "start_time": "2023-03-14T08:55:58.400Z"
   },
   {
    "duration": 3,
    "start_time": "2023-03-14T08:56:20.513Z"
   },
   {
    "duration": 81,
    "start_time": "2023-03-14T08:56:20.864Z"
   },
   {
    "duration": 3,
    "start_time": "2023-03-14T09:33:01.148Z"
   },
   {
    "duration": 54,
    "start_time": "2023-03-14T09:33:01.572Z"
   },
   {
    "duration": 2,
    "start_time": "2023-03-14T09:33:09.710Z"
   },
   {
    "duration": 44,
    "start_time": "2023-03-14T09:33:10.102Z"
   },
   {
    "duration": 3,
    "start_time": "2023-03-14T09:33:23.001Z"
   },
   {
    "duration": 3,
    "start_time": "2023-03-14T09:33:27.224Z"
   },
   {
    "duration": 45,
    "start_time": "2023-03-14T09:33:27.953Z"
   },
   {
    "duration": 3,
    "start_time": "2023-03-14T09:33:49.288Z"
   },
   {
    "duration": 56,
    "start_time": "2023-03-14T09:33:49.426Z"
   },
   {
    "duration": 3,
    "start_time": "2023-03-14T09:34:05.865Z"
   },
   {
    "duration": 130,
    "start_time": "2023-03-14T09:34:16.297Z"
   },
   {
    "duration": 3,
    "start_time": "2023-03-14T09:34:21.545Z"
   },
   {
    "duration": 124,
    "start_time": "2023-03-14T09:34:22.306Z"
   },
   {
    "duration": 4,
    "start_time": "2023-03-14T09:35:00.538Z"
   },
   {
    "duration": 174,
    "start_time": "2023-03-14T09:35:00.815Z"
   },
   {
    "duration": 3,
    "start_time": "2023-03-14T09:35:15.641Z"
   },
   {
    "duration": 158,
    "start_time": "2023-03-14T09:35:16.190Z"
   },
   {
    "duration": 4,
    "start_time": "2023-03-14T09:35:20.474Z"
   },
   {
    "duration": 147,
    "start_time": "2023-03-14T09:35:20.858Z"
   },
   {
    "duration": 2,
    "start_time": "2023-03-14T09:35:29.314Z"
   },
   {
    "duration": 122,
    "start_time": "2023-03-14T09:36:46.531Z"
   },
   {
    "duration": 175,
    "start_time": "2023-03-14T09:36:57.476Z"
   },
   {
    "duration": 3,
    "start_time": "2023-03-14T09:39:20.875Z"
   },
   {
    "duration": 131,
    "start_time": "2023-03-14T09:39:21.540Z"
   },
   {
    "duration": 2,
    "start_time": "2023-03-14T09:39:41.965Z"
   },
   {
    "duration": 134,
    "start_time": "2023-03-14T09:39:42.548Z"
   },
   {
    "duration": 3,
    "start_time": "2023-03-14T09:40:57.392Z"
   },
   {
    "duration": 127,
    "start_time": "2023-03-14T09:40:57.707Z"
   },
   {
    "duration": 3,
    "start_time": "2023-03-14T09:41:11.876Z"
   },
   {
    "duration": 75,
    "start_time": "2023-03-14T09:41:12.316Z"
   },
   {
    "duration": 3,
    "start_time": "2023-03-14T09:41:35.876Z"
   },
   {
    "duration": 71,
    "start_time": "2023-03-14T09:41:37.185Z"
   },
   {
    "duration": 3,
    "start_time": "2023-03-14T09:55:13.128Z"
   },
   {
    "duration": 144,
    "start_time": "2023-03-14T09:55:21.298Z"
   },
   {
    "duration": 3,
    "start_time": "2023-03-14T10:06:43.250Z"
   },
   {
    "duration": 137,
    "start_time": "2023-03-14T10:06:43.859Z"
   },
   {
    "duration": 3,
    "start_time": "2023-03-14T10:06:54.460Z"
   },
   {
    "duration": 130,
    "start_time": "2023-03-14T10:06:54.620Z"
   },
   {
    "duration": 3,
    "start_time": "2023-03-14T10:07:15.976Z"
   },
   {
    "duration": 98,
    "start_time": "2023-03-14T10:07:16.264Z"
   },
   {
    "duration": 3,
    "start_time": "2023-03-14T10:09:22.990Z"
   },
   {
    "duration": 75,
    "start_time": "2023-03-14T10:09:23.472Z"
   },
   {
    "duration": 3,
    "start_time": "2023-03-14T10:12:18.508Z"
   },
   {
    "duration": 74,
    "start_time": "2023-03-14T10:12:18.686Z"
   },
   {
    "duration": 3,
    "start_time": "2023-03-14T10:12:35.659Z"
   },
   {
    "duration": 126,
    "start_time": "2023-03-14T10:12:36.098Z"
   },
   {
    "duration": 2,
    "start_time": "2023-03-14T10:12:41.619Z"
   },
   {
    "duration": 186,
    "start_time": "2023-03-14T10:12:42.155Z"
   },
   {
    "duration": 3,
    "start_time": "2023-03-14T10:12:49.576Z"
   },
   {
    "duration": 144,
    "start_time": "2023-03-14T10:12:50.059Z"
   },
   {
    "duration": 3,
    "start_time": "2023-03-14T10:12:57.738Z"
   },
   {
    "duration": 210,
    "start_time": "2023-03-14T10:12:58.051Z"
   },
   {
    "duration": 2,
    "start_time": "2023-03-14T10:13:09.395Z"
   },
   {
    "duration": 131,
    "start_time": "2023-03-14T10:13:09.731Z"
   },
   {
    "duration": 3,
    "start_time": "2023-03-14T10:13:21.675Z"
   },
   {
    "duration": 140,
    "start_time": "2023-03-14T10:13:22.052Z"
   },
   {
    "duration": 4,
    "start_time": "2023-03-14T10:13:28.435Z"
   },
   {
    "duration": 72,
    "start_time": "2023-03-14T10:13:28.763Z"
   },
   {
    "duration": 7,
    "start_time": "2023-03-14T10:16:49.886Z"
   },
   {
    "duration": 139,
    "start_time": "2023-03-14T10:16:50.358Z"
   },
   {
    "duration": 3,
    "start_time": "2023-03-14T10:17:08.628Z"
   },
   {
    "duration": 152,
    "start_time": "2023-03-14T10:17:09.296Z"
   },
   {
    "duration": 3,
    "start_time": "2023-03-14T10:17:52.623Z"
   },
   {
    "duration": 141,
    "start_time": "2023-03-14T10:17:52.965Z"
   },
   {
    "duration": 3,
    "start_time": "2023-03-14T10:18:09.349Z"
   },
   {
    "duration": 3,
    "start_time": "2023-03-14T10:18:11.508Z"
   },
   {
    "duration": 94,
    "start_time": "2023-03-14T10:18:11.712Z"
   },
   {
    "duration": 5,
    "start_time": "2023-03-14T10:19:06.920Z"
   },
   {
    "duration": 73,
    "start_time": "2023-03-14T10:19:07.950Z"
   },
   {
    "duration": 3,
    "start_time": "2023-03-14T10:20:04.596Z"
   },
   {
    "duration": 160,
    "start_time": "2023-03-14T10:20:10.236Z"
   },
   {
    "duration": 3,
    "start_time": "2023-03-14T10:24:22.624Z"
   },
   {
    "duration": 74,
    "start_time": "2023-03-14T10:24:22.779Z"
   },
   {
    "duration": 3,
    "start_time": "2023-03-14T10:25:26.860Z"
   },
   {
    "duration": 75,
    "start_time": "2023-03-14T10:25:27.020Z"
   },
   {
    "duration": 4,
    "start_time": "2023-03-14T10:27:35.401Z"
   },
   {
    "duration": 79,
    "start_time": "2023-03-14T10:27:35.737Z"
   },
   {
    "duration": 6,
    "start_time": "2023-03-14T10:33:34.693Z"
   },
   {
    "duration": 250,
    "start_time": "2023-03-14T10:33:34.712Z"
   },
   {
    "duration": 69,
    "start_time": "2023-03-14T10:33:34.964Z"
   },
   {
    "duration": 69,
    "start_time": "2023-03-14T10:33:35.035Z"
   },
   {
    "duration": 91,
    "start_time": "2023-03-14T10:33:35.105Z"
   },
   {
    "duration": 93,
    "start_time": "2023-03-14T10:33:35.199Z"
   },
   {
    "duration": 46,
    "start_time": "2023-03-14T10:33:35.294Z"
   },
   {
    "duration": 0,
    "start_time": "2023-03-14T10:33:35.342Z"
   },
   {
    "duration": 0,
    "start_time": "2023-03-14T10:33:35.343Z"
   },
   {
    "duration": 0,
    "start_time": "2023-03-14T10:33:35.345Z"
   },
   {
    "duration": 0,
    "start_time": "2023-03-14T10:33:35.346Z"
   },
   {
    "duration": 0,
    "start_time": "2023-03-14T10:33:35.347Z"
   },
   {
    "duration": 0,
    "start_time": "2023-03-14T10:33:35.348Z"
   },
   {
    "duration": 0,
    "start_time": "2023-03-14T10:33:35.349Z"
   },
   {
    "duration": 0,
    "start_time": "2023-03-14T10:33:35.350Z"
   },
   {
    "duration": 0,
    "start_time": "2023-03-14T10:33:35.351Z"
   },
   {
    "duration": 0,
    "start_time": "2023-03-14T10:33:35.352Z"
   },
   {
    "duration": 3,
    "start_time": "2023-03-14T10:42:43.999Z"
   },
   {
    "duration": 6452,
    "start_time": "2023-03-14T10:42:54.213Z"
   },
   {
    "duration": 263,
    "start_time": "2023-03-14T10:43:09.883Z"
   },
   {
    "duration": 78,
    "start_time": "2023-03-14T10:43:10.773Z"
   },
   {
    "duration": 69,
    "start_time": "2023-03-14T10:43:10.947Z"
   },
   {
    "duration": 110,
    "start_time": "2023-03-14T10:43:11.256Z"
   },
   {
    "duration": 104,
    "start_time": "2023-03-14T10:43:11.932Z"
   },
   {
    "duration": 51,
    "start_time": "2023-03-14T10:43:15.546Z"
   },
   {
    "duration": 2,
    "start_time": "2023-03-14T10:43:16.513Z"
   },
   {
    "duration": 66,
    "start_time": "2023-03-14T10:43:17.850Z"
   },
   {
    "duration": 2,
    "start_time": "2023-03-14T10:43:24.160Z"
   },
   {
    "duration": 66,
    "start_time": "2023-03-14T10:43:24.446Z"
   },
   {
    "duration": 3,
    "start_time": "2023-03-14T10:43:26.441Z"
   },
   {
    "duration": 105,
    "start_time": "2023-03-14T10:43:27.105Z"
   },
   {
    "duration": 3,
    "start_time": "2023-03-14T10:43:30.607Z"
   },
   {
    "duration": 67,
    "start_time": "2023-03-14T10:43:32.656Z"
   },
   {
    "duration": 2,
    "start_time": "2023-03-14T10:43:34.549Z"
   },
   {
    "duration": 200,
    "start_time": "2023-03-14T10:43:34.775Z"
   },
   {
    "duration": 4,
    "start_time": "2023-03-14T10:43:40.392Z"
   },
   {
    "duration": 124,
    "start_time": "2023-03-14T10:43:40.896Z"
   },
   {
    "duration": 3,
    "start_time": "2023-03-14T10:43:51.096Z"
   },
   {
    "duration": 72,
    "start_time": "2023-03-14T10:43:51.349Z"
   },
   {
    "duration": 3,
    "start_time": "2023-03-14T10:43:52.959Z"
   },
   {
    "duration": 70,
    "start_time": "2023-03-14T10:43:54.499Z"
   },
   {
    "duration": 9000,
    "start_time": "2023-03-14T11:49:35.171Z"
   },
   {
    "duration": 251,
    "start_time": "2023-03-14T11:49:44.173Z"
   },
   {
    "duration": 63,
    "start_time": "2023-03-14T11:49:44.426Z"
   },
   {
    "duration": 61,
    "start_time": "2023-03-14T11:49:44.491Z"
   },
   {
    "duration": 80,
    "start_time": "2023-03-14T11:49:44.554Z"
   },
   {
    "duration": 83,
    "start_time": "2023-03-14T11:49:44.636Z"
   },
   {
    "duration": 2,
    "start_time": "2023-03-14T11:49:44.721Z"
   },
   {
    "duration": 67,
    "start_time": "2023-03-14T11:49:44.724Z"
   },
   {
    "duration": 2,
    "start_time": "2023-03-14T11:49:44.793Z"
   },
   {
    "duration": 81,
    "start_time": "2023-03-14T11:49:44.796Z"
   },
   {
    "duration": 2,
    "start_time": "2023-03-14T11:49:44.878Z"
   },
   {
    "duration": 63,
    "start_time": "2023-03-14T11:49:44.882Z"
   },
   {
    "duration": 3,
    "start_time": "2023-03-14T11:49:44.946Z"
   },
   {
    "duration": 65,
    "start_time": "2023-03-14T11:49:44.951Z"
   },
   {
    "duration": 2,
    "start_time": "2023-03-14T11:49:45.018Z"
   },
   {
    "duration": 65,
    "start_time": "2023-03-14T11:49:45.022Z"
   },
   {
    "duration": 3,
    "start_time": "2023-03-14T11:50:36.320Z"
   },
   {
    "duration": 68,
    "start_time": "2023-03-14T11:50:37.840Z"
   },
   {
    "duration": 2,
    "start_time": "2023-03-14T11:51:07.820Z"
   },
   {
    "duration": 61,
    "start_time": "2023-03-14T11:51:09.602Z"
   },
   {
    "duration": 6092,
    "start_time": "2023-03-14T13:00:48.461Z"
   },
   {
    "duration": 244,
    "start_time": "2023-03-14T13:00:54.555Z"
   },
   {
    "duration": 64,
    "start_time": "2023-03-14T13:00:54.800Z"
   },
   {
    "duration": 64,
    "start_time": "2023-03-14T13:00:54.866Z"
   },
   {
    "duration": 90,
    "start_time": "2023-03-14T13:00:54.932Z"
   },
   {
    "duration": 87,
    "start_time": "2023-03-14T13:00:55.023Z"
   },
   {
    "duration": 3,
    "start_time": "2023-03-14T13:00:55.112Z"
   },
   {
    "duration": 69,
    "start_time": "2023-03-14T13:00:55.117Z"
   },
   {
    "duration": 3,
    "start_time": "2023-03-14T13:01:03.200Z"
   },
   {
    "duration": 99,
    "start_time": "2023-03-14T13:01:04.756Z"
   },
   {
    "duration": 2,
    "start_time": "2023-03-14T13:01:10.717Z"
   },
   {
    "duration": 96,
    "start_time": "2023-03-14T13:01:11.194Z"
   },
   {
    "duration": 2,
    "start_time": "2023-03-14T13:02:53.429Z"
   },
   {
    "duration": 96,
    "start_time": "2023-03-14T13:02:53.852Z"
   },
   {
    "duration": 2,
    "start_time": "2023-03-14T13:03:03.313Z"
   },
   {
    "duration": 3,
    "start_time": "2023-03-14T13:03:46.365Z"
   },
   {
    "duration": 103,
    "start_time": "2023-03-14T13:03:46.530Z"
   },
   {
    "duration": 95,
    "start_time": "2023-03-15T00:45:05.891Z"
   },
   {
    "duration": 4,
    "start_time": "2023-03-15T02:31:29.338Z"
   },
   {
    "duration": 44,
    "start_time": "2023-03-15T02:31:29.522Z"
   },
   {
    "duration": 5511,
    "start_time": "2023-03-15T02:31:32.952Z"
   },
   {
    "duration": 262,
    "start_time": "2023-03-15T02:31:38.466Z"
   },
   {
    "duration": 70,
    "start_time": "2023-03-15T02:31:38.729Z"
   },
   {
    "duration": 68,
    "start_time": "2023-03-15T02:31:38.801Z"
   },
   {
    "duration": 103,
    "start_time": "2023-03-15T02:31:38.870Z"
   },
   {
    "duration": 97,
    "start_time": "2023-03-15T02:31:38.975Z"
   },
   {
    "duration": 2,
    "start_time": "2023-03-15T02:31:39.074Z"
   },
   {
    "duration": 73,
    "start_time": "2023-03-15T02:31:39.077Z"
   },
   {
    "duration": 2,
    "start_time": "2023-03-15T02:31:39.152Z"
   },
   {
    "duration": 98,
    "start_time": "2023-03-15T02:31:39.157Z"
   },
   {
    "duration": 3,
    "start_time": "2023-03-15T02:31:39.256Z"
   },
   {
    "duration": 76,
    "start_time": "2023-03-15T02:31:39.261Z"
   },
   {
    "duration": 3,
    "start_time": "2023-03-15T02:31:39.339Z"
   },
   {
    "duration": 50,
    "start_time": "2023-03-15T02:31:39.344Z"
   },
   {
    "duration": 0,
    "start_time": "2023-03-15T02:31:39.397Z"
   },
   {
    "duration": 0,
    "start_time": "2023-03-15T02:31:39.398Z"
   },
   {
    "duration": 72,
    "start_time": "2023-03-15T02:31:41.927Z"
   },
   {
    "duration": 2,
    "start_time": "2023-03-15T02:35:40.662Z"
   },
   {
    "duration": 46,
    "start_time": "2023-03-15T02:35:46.855Z"
   },
   {
    "duration": 75,
    "start_time": "2023-03-15T02:35:57.354Z"
   },
   {
    "duration": 3,
    "start_time": "2023-03-15T02:35:58.683Z"
   },
   {
    "duration": 71,
    "start_time": "2023-03-15T02:35:58.879Z"
   },
   {
    "duration": 3,
    "start_time": "2023-03-15T02:36:10.482Z"
   },
   {
    "duration": 70,
    "start_time": "2023-03-15T02:36:11.270Z"
   },
   {
    "duration": 3,
    "start_time": "2023-03-15T02:37:05.792Z"
   },
   {
    "duration": 70,
    "start_time": "2023-03-15T02:37:06.151Z"
   },
   {
    "duration": 51,
    "start_time": "2023-03-15T03:44:14.820Z"
   },
   {
    "duration": 4,
    "start_time": "2023-03-15T03:44:18.500Z"
   },
   {
    "duration": 229,
    "start_time": "2023-03-15T03:44:18.904Z"
   },
   {
    "duration": 8,
    "start_time": "2023-03-15T03:44:35.808Z"
   },
   {
    "duration": 115,
    "start_time": "2023-03-15T03:44:36.238Z"
   },
   {
    "duration": 5,
    "start_time": "2023-03-15T03:44:51.914Z"
   },
   {
    "duration": 95,
    "start_time": "2023-03-15T03:44:52.165Z"
   },
   {
    "duration": 4,
    "start_time": "2023-03-15T03:45:42.042Z"
   },
   {
    "duration": 118,
    "start_time": "2023-03-15T03:45:42.209Z"
   },
   {
    "duration": 4,
    "start_time": "2023-03-15T03:47:23.002Z"
   },
   {
    "duration": 151,
    "start_time": "2023-03-15T03:47:23.193Z"
   },
   {
    "duration": 4,
    "start_time": "2023-03-15T03:52:50.820Z"
   },
   {
    "duration": 95,
    "start_time": "2023-03-15T03:52:51.020Z"
   },
   {
    "duration": 3,
    "start_time": "2023-03-15T03:55:09.128Z"
   },
   {
    "duration": 92,
    "start_time": "2023-03-15T03:55:09.320Z"
   },
   {
    "duration": 4,
    "start_time": "2023-03-15T03:55:10.613Z"
   },
   {
    "duration": 75,
    "start_time": "2023-03-15T03:55:10.810Z"
   },
   {
    "duration": 176,
    "start_time": "2023-03-15T03:55:17.071Z"
   },
   {
    "duration": 3,
    "start_time": "2023-03-15T03:55:18.769Z"
   },
   {
    "duration": 91,
    "start_time": "2023-03-15T03:55:19.161Z"
   },
   {
    "duration": 4,
    "start_time": "2023-03-15T03:55:20.638Z"
   },
   {
    "duration": 120,
    "start_time": "2023-03-15T03:55:21.346Z"
   },
   {
    "duration": 4,
    "start_time": "2023-03-15T03:55:24.434Z"
   },
   {
    "duration": 90,
    "start_time": "2023-03-15T03:55:24.953Z"
   },
   {
    "duration": 71,
    "start_time": "2023-03-15T03:55:30.812Z"
   },
   {
    "duration": 4,
    "start_time": "2023-03-15T03:55:37.438Z"
   },
   {
    "duration": 76,
    "start_time": "2023-03-15T03:55:37.615Z"
   },
   {
    "duration": 11830,
    "start_time": "2023-03-15T21:46:32.998Z"
   },
   {
    "duration": 118,
    "start_time": "2023-03-15T21:46:44.830Z"
   },
   {
    "duration": 14,
    "start_time": "2023-03-15T21:46:44.950Z"
   },
   {
    "duration": 13,
    "start_time": "2023-03-15T21:46:44.966Z"
   },
   {
    "duration": 30,
    "start_time": "2023-03-15T21:46:44.983Z"
   },
   {
    "duration": 35,
    "start_time": "2023-03-15T21:46:45.015Z"
   },
   {
    "duration": 3,
    "start_time": "2023-03-15T21:46:45.051Z"
   },
   {
    "duration": 13,
    "start_time": "2023-03-15T21:46:45.070Z"
   },
   {
    "duration": 3,
    "start_time": "2023-03-15T21:46:45.085Z"
   },
   {
    "duration": 51,
    "start_time": "2023-03-15T21:46:45.089Z"
   },
   {
    "duration": 3,
    "start_time": "2023-03-15T21:46:45.142Z"
   },
   {
    "duration": 28,
    "start_time": "2023-03-15T21:46:45.147Z"
   },
   {
    "duration": 3,
    "start_time": "2023-03-15T21:46:45.176Z"
   },
   {
    "duration": 22,
    "start_time": "2023-03-15T21:46:45.182Z"
   },
   {
    "duration": 4,
    "start_time": "2023-03-15T21:46:45.205Z"
   },
   {
    "duration": 37,
    "start_time": "2023-03-15T21:46:45.210Z"
   },
   {
    "duration": 11,
    "start_time": "2023-03-16T06:38:10.006Z"
   },
   {
    "duration": 49,
    "start_time": "2023-03-16T06:38:10.188Z"
   },
   {
    "duration": 6396,
    "start_time": "2023-03-16T06:38:13.499Z"
   },
   {
    "duration": 300,
    "start_time": "2023-03-16T06:38:19.897Z"
   },
   {
    "duration": 78,
    "start_time": "2023-03-16T06:38:20.199Z"
   },
   {
    "duration": 77,
    "start_time": "2023-03-16T06:38:20.279Z"
   },
   {
    "duration": 107,
    "start_time": "2023-03-16T06:38:20.360Z"
   },
   {
    "duration": 112,
    "start_time": "2023-03-16T06:38:20.470Z"
   },
   {
    "duration": 4,
    "start_time": "2023-03-16T06:38:20.584Z"
   },
   {
    "duration": 118,
    "start_time": "2023-03-16T06:38:20.590Z"
   },
   {
    "duration": 2,
    "start_time": "2023-03-16T06:38:20.710Z"
   },
   {
    "duration": 104,
    "start_time": "2023-03-16T06:38:20.714Z"
   },
   {
    "duration": 2,
    "start_time": "2023-03-16T06:38:20.820Z"
   },
   {
    "duration": 89,
    "start_time": "2023-03-16T06:38:20.824Z"
   },
   {
    "duration": 2,
    "start_time": "2023-03-16T06:38:20.915Z"
   },
   {
    "duration": 85,
    "start_time": "2023-03-16T06:38:20.920Z"
   },
   {
    "duration": 81,
    "start_time": "2023-03-16T06:38:23.111Z"
   },
   {
    "duration": 4,
    "start_time": "2023-03-16T06:43:12.208Z"
   },
   {
    "duration": 281,
    "start_time": "2023-03-16T06:43:12.656Z"
   },
   {
    "duration": 3,
    "start_time": "2023-03-16T06:43:34.598Z"
   },
   {
    "duration": 173,
    "start_time": "2023-03-16T06:43:34.811Z"
   },
   {
    "duration": 3,
    "start_time": "2023-03-16T06:43:51.673Z"
   },
   {
    "duration": 184,
    "start_time": "2023-03-16T06:43:52.140Z"
   },
   {
    "duration": 3,
    "start_time": "2023-03-16T06:44:03.437Z"
   },
   {
    "duration": 81,
    "start_time": "2023-03-16T06:44:03.739Z"
   },
   {
    "duration": 3,
    "start_time": "2023-03-16T06:44:20.093Z"
   },
   {
    "duration": 147,
    "start_time": "2023-03-16T06:44:20.539Z"
   },
   {
    "duration": 3,
    "start_time": "2023-03-16T06:44:42.092Z"
   },
   {
    "duration": 79,
    "start_time": "2023-03-16T06:44:42.509Z"
   },
   {
    "duration": 25284,
    "start_time": "2023-03-16T16:16:06.229Z"
   },
   {
    "duration": 327,
    "start_time": "2023-03-16T16:16:31.515Z"
   },
   {
    "duration": 86,
    "start_time": "2023-03-16T16:16:31.844Z"
   },
   {
    "duration": 82,
    "start_time": "2023-03-16T16:16:31.933Z"
   },
   {
    "duration": 106,
    "start_time": "2023-03-16T16:16:32.018Z"
   },
   {
    "duration": 124,
    "start_time": "2023-03-16T16:16:32.126Z"
   },
   {
    "duration": 14,
    "start_time": "2023-03-16T16:16:32.252Z"
   },
   {
    "duration": 116,
    "start_time": "2023-03-16T16:16:32.271Z"
   },
   {
    "duration": 3,
    "start_time": "2023-03-16T16:16:32.389Z"
   },
   {
    "duration": 139,
    "start_time": "2023-03-16T16:16:32.394Z"
   },
   {
    "duration": 3,
    "start_time": "2023-03-16T16:16:32.535Z"
   },
   {
    "duration": 96,
    "start_time": "2023-03-16T16:16:32.539Z"
   },
   {
    "duration": 3,
    "start_time": "2023-03-16T16:16:32.636Z"
   },
   {
    "duration": 110,
    "start_time": "2023-03-16T16:16:32.641Z"
   },
   {
    "duration": 3,
    "start_time": "2023-03-16T16:16:32.753Z"
   },
   {
    "duration": 129,
    "start_time": "2023-03-16T16:16:32.758Z"
   },
   {
    "duration": 3,
    "start_time": "2023-03-16T16:16:41.292Z"
   },
   {
    "duration": 83,
    "start_time": "2023-03-16T16:16:42.489Z"
   },
   {
    "duration": 3,
    "start_time": "2023-03-16T16:17:59.834Z"
   },
   {
    "duration": 79,
    "start_time": "2023-03-16T16:18:01.224Z"
   }
  ],
  "kernelspec": {
   "display_name": "Python 3 (ipykernel)",
   "language": "python",
   "name": "python3"
  },
  "language_info": {
   "codemirror_mode": {
    "name": "ipython",
    "version": 3
   },
   "file_extension": ".py",
   "mimetype": "text/x-python",
   "name": "python",
   "nbconvert_exporter": "python",
   "pygments_lexer": "ipython3",
   "version": "3.9.5"
  },
  "toc": {
   "base_numbering": 1,
   "nav_menu": {},
   "number_sections": false,
   "sideBar": true,
   "skip_h1_title": false,
   "title_cell": "Table of Contents",
   "title_sidebar": "Contents",
   "toc_cell": false,
   "toc_position": {
    "height": "calc(100% - 180px)",
    "left": "10px",
    "top": "150px",
    "width": "209.261px"
   },
   "toc_section_display": true,
   "toc_window_display": true
  }
 },
 "nbformat": 4,
 "nbformat_minor": 5
}
